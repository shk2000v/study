{
 "cells": [
  {
   "cell_type": "markdown",
   "metadata": {},
   "source": [
    "# 11-10일자 수업"
   ]
  },
  {
   "cell_type": "code",
   "execution_count": 16,
   "metadata": {},
   "outputs": [],
   "source": [
    "\n",
    "#get_median(data) 함수를 만들고 중앙값을 return 하는 함수를 만드세요\n",
    "#[1,2,3,4,5] ==> return = 3.0\n",
    "#[1,2,3,4,5,6] == > return = 3.5\n",
    "\n",
    "# def get_median(data):\n",
    "#     data = data.sort()\n",
    "#     return ((data[0]+data[:-1]) / 2)\n",
    "\n",
    "#ex) [3,4,5,6,7] or [4,4,3,2,6]\n",
    "\n",
    "def get_median(data):\n",
    "    data = data.sort()\n",
    "    if len(data) % 2 == 1:\n",
    "        pass\n",
    "    else:\n",
    "        pass"
   ]
  },
  {
   "cell_type": "code",
   "execution_count": null,
   "metadata": {},
   "outputs": [],
   "source": [
    "# Wqrming up  median 값 구하기 선생님 풀이\n",
    "\n",
    "def get_median"
   ]
  },
  {
   "cell_type": "code",
   "execution_count": null,
   "metadata": {},
   "outputs": [],
   "source": []
  },
  {
   "cell_type": "code",
   "execution_count": null,
   "metadata": {},
   "outputs": [],
   "source": []
  }
 ],
 "metadata": {
  "kernelspec": {
   "display_name": "Python 3",
   "language": "python",
   "name": "python3"
  },
  "language_info": {
   "codemirror_mode": {
    "name": "ipython",
    "version": 3
   },
   "file_extension": ".py",
   "mimetype": "text/x-python",
   "name": "python",
   "nbconvert_exporter": "python",
   "pygments_lexer": "ipython3",
   "version": "3.8.3"
  }
 },
 "nbformat": 4,
 "nbformat_minor": 4
}
