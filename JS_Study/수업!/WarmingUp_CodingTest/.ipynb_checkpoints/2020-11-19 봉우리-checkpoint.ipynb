{
 "cells": [
  {
   "cell_type": "markdown",
   "metadata": {},
   "source": []
  },
  {
   "cell_type": "markdown",
   "metadata": {},
   "source": [
    "봉우리\n",
    "\n",
    "지도 정보가 N*N 격자판에 주어집니다.\n",
    "\n",
    "각 격자에는 그 지역의 높이가 쓰여있습니다. 각 격자판의 숫자중 자신의 상하좌우 숫자보다 큰 숫자는 봉우리 지역입니다 봉우리 지역이 몇개 있는지 알아내는 프로그램을 작성하세요\n",
    "\n",
    "격자의 가장자리는 0으로 초기화 되었다고 가정한다.\n",
    "\n",
    "만약 N=5 이고, 격자판의 숫가 다음과 같다면 봉우리 의 개수는 10개 입니다. ( 문제 사진이 따로 있음)"
   ]
  },
  {
   "cell_type": "markdown",
   "metadata": {},
   "source": [
    "# 선생님 풀이"
   ]
  },
  {
   "cell_type": "code",
   "execution_count": 26,
   "metadata": {},
   "outputs": [
    {
     "name": "stdout",
     "output_type": "stream",
     "text": [
      "봉우리 갯수는 11 개 입니다. 비오는데 고생했음\n"
     ]
    }
   ],
   "source": [
    "with open(\"봉우리in1.txt\", \"r\") as f:\n",
    "    n = int(f.readline())\n",
    "    a = [list(map(int,f.readline().split())) for _ in range(n)]\n",
    "    a.insert(0,[0]*n)\n",
    "    a.append([0]*n)\n",
    "    \n",
    "    for xx in a:\n",
    "        xx.insert(0,0)\n",
    "        xx.append(0)\n",
    "    \n",
    "    cnt = 0\n",
    "    \n",
    "    # 이것이 필터 방식\n",
    "    dx = [-1,0,1,0]\n",
    "    dy = [0,1,0,-1]\n",
    "    \n",
    "    for i in range(1, n+1):\n",
    "        for j in range(1, n+1):\n",
    "            if all(a[i][j] > a[i+dx[k]][j+dy[k]] for k in range(4)):\n",
    "                cnt += 1\n",
    "    print(\"봉우리 갯수는 {} 개 입니다. 비오는데 고생했음\".format(cnt))"
   ]
  },
  {
   "cell_type": "code",
   "execution_count": 28,
   "metadata": {},
   "outputs": [],
   "source": [
    "# zero_list=[0,0,0,0,0,0,0]\n",
    "# a.insert(0,zero_list)\n",
    "# a.append(zero_list)\n",
    "\n",
    "#이런 살짝 무식한 방법도 있다는걸...알기만 아셈\n",
    "#무식하면 어떠냐 일단 로직을 생각했다는게 중요함"
   ]
  },
  {
   "cell_type": "markdown",
   "metadata": {},
   "source": [
    "이런 문제를 만나면 필터를 떠올려라\n"
   ]
  },
  {
   "cell_type": "markdown",
   "metadata": {},
   "source": [
    "# 소애씨 풀이"
   ]
  },
  {
   "cell_type": "code",
   "execution_count": 30,
   "metadata": {},
   "outputs": [
    {
     "name": "stdout",
     "output_type": "stream",
     "text": [
      "봉우리 갯수는 91 개 입니다. 소애씨 줠라 잘한다 진짜\n"
     ]
    }
   ],
   "source": [
    "with open(\"봉우리in2.txt\", \"r\") as f:\n",
    "    n = int(f.readline())\n",
    "    a = [list(map(int,f.readline().split())) for _ in range(n)]\n",
    "    a.insert(0,[0]*n)\n",
    "    a.append([0]*n)\n",
    "    \n",
    "    for xx in a:\n",
    "        xx.insert(0,0)\n",
    "        xx.append(0)\n",
    "    \n",
    "    cnt = 0\n",
    "    \n",
    "    for i in range(1, n+1):\n",
    "        for j in range(1, n+1):\n",
    "            if ( a[i][j] > a[i-1][j] and a[i][j] > a[i+1][j] and a[i][j] > a[i][j-1] and a[i][j] > a[i][j+1]):\n",
    "                cnt +=1\n",
    "    print(\"봉우리 갯수는 {} 개 입니다. 소애씨 줠라 잘한다 진짜\".format(cnt))"
   ]
  },
  {
   "cell_type": "code",
   "execution_count": null,
   "metadata": {},
   "outputs": [],
   "source": []
  }
 ],
 "metadata": {
  "kernelspec": {
   "display_name": "Python 3",
   "language": "python",
   "name": "python3"
  },
  "language_info": {
   "codemirror_mode": {
    "name": "ipython",
    "version": 3
   },
   "file_extension": ".py",
   "mimetype": "text/x-python",
   "name": "python",
   "nbconvert_exporter": "python",
   "pygments_lexer": "ipython3",
   "version": "3.8.3"
  }
 },
 "nbformat": 4,
 "nbformat_minor": 4
}
