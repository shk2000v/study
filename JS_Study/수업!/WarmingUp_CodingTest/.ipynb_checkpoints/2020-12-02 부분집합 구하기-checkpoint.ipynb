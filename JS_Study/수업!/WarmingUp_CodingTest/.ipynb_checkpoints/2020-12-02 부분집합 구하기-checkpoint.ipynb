{
 "cells": [
  {
   "cell_type": "markdown",
   "metadata": {},
   "source": [
    " n = 3 이면\n",
    " \n",
    " 1 2 3 \n",
    "\n",
    "- 1 1 1\n",
    "- 1 1 0\n",
    "- 1 0 1 \n",
    "- 1 0 0 \n",
    "- 0 1 1 \n",
    "- 0 1 0 \n",
    "- 0 1 0\n",
    "- 0 0 1\n",
    "- 0 0 0 \n",
    "\n",
    "===\n",
    "\n",
    "- 1 2 3 \n",
    "- 1 2 \n",
    "- 1 3 \n",
    "- 1\n",
    "- 2 3\n",
    "- 2\n",
    "- 3"
   ]
  },
  {
   "cell_type": "markdown",
   "metadata": {},
   "source": [
    "조건?\n",
    "출력되는 수를 넣을 변수가 필요하다\n",
    "그러면... queue가 필요할테고\n"
   ]
  },
  {
   "cell_type": "code",
   "execution_count": 7,
   "metadata": {},
   "outputs": [],
   "source": [
    "from collections import deque\n",
    "\n",
    "n = 3\n",
    "\n",
    "a = [0]*n\n",
    "\n",
    "for i in range(1,n+1):\n",
    "    "
   ]
  },
  {
   "cell_type": "code",
   "execution_count": 8,
   "metadata": {},
   "outputs": [
    {
     "data": {
      "text/plain": [
       "[0, 0, 0]"
      ]
     },
     "execution_count": 8,
     "metadata": {},
     "output_type": "execute_result"
    }
   ],
   "source": [
    "a"
   ]
  },
  {
   "cell_type": "markdown",
   "metadata": {},
   "source": [
    "# 선생님 풀이"
   ]
  },
  {
   "cell_type": "code",
   "execution_count": null,
   "metadata": {},
   "outputs": [],
   "source": [
    "def DFS(idx):\n",
    "    if level = n+1: # 노드에 왔으면\n",
    "        for i in range(1, n+1):\n",
    "            if ck_tbl ==1:\n",
    "                print(i, end = \" \")\n",
    "        print()\n",
    "    else :\n",
    "        ck_tbl[idx] = 1\n",
    "        DFS(idx + 1)\n",
    "        ck_tbl[idx] = 0\n",
    "        DFS(idx+1)\n",
    "\n",
    "n = int(input(\"3이상 20미만의 홀수를 입력 = \"))\n",
    "ck_tbl = [0]*(n+1)\n",
    "DFS(n)"
   ]
  }
 ],
 "metadata": {
  "kernelspec": {
   "display_name": "Python 3",
   "language": "python",
   "name": "python3"
  },
  "language_info": {
   "codemirror_mode": {
    "name": "ipython",
    "version": 3
   },
   "file_extension": ".py",
   "mimetype": "text/x-python",
   "name": "python",
   "nbconvert_exporter": "python",
   "pygments_lexer": "ipython3",
   "version": "3.8.3"
  }
 },
 "nbformat": 4,
 "nbformat_minor": 4
}
