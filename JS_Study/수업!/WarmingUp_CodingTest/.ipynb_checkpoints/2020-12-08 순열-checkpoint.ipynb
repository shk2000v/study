{
 "cells": [
  {
   "cell_type": "markdown",
   "metadata": {},
   "source": [
    "1부터 N까지 번호가 적힌 구슬이 있습니다.\n",
    "\n",
    "이중 M개를 뽑아 일렬로 나열하는 방법을 모두 출력합니다\n",
    "\n",
    "- 출력설명\n",
    "- 첫 번째 줄에 결과를 출력합니다. 맨 마지막 총경우의 수를 출력 합니다. 출력 순서는 사전 순으로 오름차순으로 출력합니다.\n",
    "\n",
    "-3 2\n",
    "\n",
    "- 1 2\n",
    "- 1 3\n",
    "- 2 1\n",
    "- 2 3 \n",
    "- 3 1\n",
    "- 3 2\n",
    "\n",
    "6"
   ]
  },
  {
   "cell_type": "code",
   "execution_count": 4,
   "metadata": {},
   "outputs": [],
   "source": [
    "n , k = 3, 2\n",
    "\n",
    "def DFS(n):\n",
    "    for i in range(1,n+1):\n",
    "        for j \n",
    "lst = [0] * n+1\n",
    "DFS(1)"
   ]
  },
  {
   "cell_type": "code",
   "execution_count": null,
   "metadata": {},
   "outputs": [],
   "source": []
  }
 ],
 "metadata": {
  "kernelspec": {
   "display_name": "Python 3",
   "language": "python",
   "name": "python3"
  },
  "language_info": {
   "codemirror_mode": {
    "name": "ipython",
    "version": 3
   },
   "file_extension": ".py",
   "mimetype": "text/x-python",
   "name": "python",
   "nbconvert_exporter": "python",
   "pygments_lexer": "ipython3",
   "version": "3.8.3"
  }
 },
 "nbformat": 4,
 "nbformat_minor": 4
}
