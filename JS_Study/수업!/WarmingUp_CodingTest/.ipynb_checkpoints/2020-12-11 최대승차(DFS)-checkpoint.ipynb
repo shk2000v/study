{
 "cells": [
  {
   "cell_type": "markdown",
   "metadata": {},
   "source": [
    "철수는 그의 친구들을 데리고 시장에 가려고 하낟.\n",
    "그런데 그의 미니 버스는 c킬로그램을 넘게 태울수가 없다\n",
    "철수는 c를 넘지 않으면서 그의 친구들을 가장 무겁게 태우고 싶다\n",
    "N명의 친구들과 각 친구들의 무게 W가 주어지면 , 철수가 트럭에 태울수 있는 가장 무거운 무게를 구하는 프로그램을 작성하세요.\n",
    "\n",
    "- 입력예제 1\n",
    "- 259 5    C =259  5는 위에 오는 사람의 몸무게\n",
    "- 81\n",
    "- 58\n",
    "- 42\n",
    "- 33\n",
    "- 61\n",
    "\n",
    "- 출력 예제 1\n",
    "- 242\n",
    "\n",
    "\n",
    "- 최대승차 in1 -> 3994\n",
    "- 최대승차 in2 -> 3568\n",
    "- 최대승차 in3 -> 1035"
   ]
  },
  {
   "cell_type": "code",
   "execution_count": 10,
   "metadata": {},
   "outputs": [],
   "source": [
    "with open(\"최대승차in1.txt\", \"r\") as f:\n",
    "    c , n = map(int,f.readline().split())\n",
    "    lst = []\n",
    "    for _ in range(n):\n",
    "        lst += f.readline().split()"
   ]
  },
  {
   "cell_type": "code",
   "execution_count": 11,
   "metadata": {},
   "outputs": [
    {
     "data": {
      "text/plain": [
       "(4000,\n",
       " 16,\n",
       " ['27',\n",
       "  '303',\n",
       "  '251',\n",
       "  '121',\n",
       "  '50',\n",
       "  '55',\n",
       "  '123',\n",
       "  '93',\n",
       "  '360',\n",
       "  '84',\n",
       "  '353',\n",
       "  '429',\n",
       "  '765',\n",
       "  '391',\n",
       "  '562',\n",
       "  '77'])"
      ]
     },
     "execution_count": 11,
     "metadata": {},
     "output_type": "execute_result"
    }
   ],
   "source": [
    "c, n, lst"
   ]
  },
  {
   "cell_type": "code",
   "execution_count": 14,
   "metadata": {},
   "outputs": [
    {
     "name": "stdout",
     "output_type": "stream",
     "text": [
      "275\n",
      "214\n",
      "242\n",
      "181\n",
      "233\n",
      "172\n",
      "200\n",
      "139\n",
      "217\n",
      "156\n",
      "184\n",
      "123\n",
      "175\n",
      "114\n",
      "142\n",
      "81\n",
      "194\n",
      "133\n",
      "161\n",
      "100\n",
      "152\n",
      "91\n",
      "119\n",
      "58\n",
      "136\n",
      "75\n",
      "103\n",
      "42\n",
      "94\n",
      "33\n",
      "61\n",
      "0\n"
     ]
    }
   ],
   "source": [
    "c, n = 259, 5\n",
    "lst = [81,58,42,33,61]\n",
    "# C는 최대 몸무게\n",
    "# 5는 친구들 명수\n",
    "\n",
    "def DFS(xx,yy):\n",
    "    if yy > c:\n",
    "        return\n",
    "    if xx == 5: # 말단 노드일때 return\n",
    "        print(yy)\n",
    "    else:\n",
    "        #몸무게가 쓰였다\n",
    "        xx +=1\n",
    "        DFS(xx , yy+lst[xx-1])\n",
    "        #안쓰였다\n",
    "        DFS(xx, yy)\n",
    "\n",
    "DFS(0,0)"
   ]
  },
  {
   "cell_type": "code",
   "execution_count": null,
   "metadata": {},
   "outputs": [],
   "source": []
  }
 ],
 "metadata": {
  "kernelspec": {
   "display_name": "Python 3",
   "language": "python",
   "name": "python3"
  },
  "language_info": {
   "codemirror_mode": {
    "name": "ipython",
    "version": 3
   },
   "file_extension": ".py",
   "mimetype": "text/x-python",
   "name": "python",
   "nbconvert_exporter": "python",
   "pygments_lexer": "ipython3",
   "version": "3.8.3"
  }
 },
 "nbformat": 4,
 "nbformat_minor": 4
}
