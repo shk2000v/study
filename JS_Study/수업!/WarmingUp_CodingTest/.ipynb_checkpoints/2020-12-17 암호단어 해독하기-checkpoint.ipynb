{
 "cells": [
  {
   "cell_type": "code",
   "execution_count": 4,
   "metadata": {},
   "outputs": [
    {
     "name": "stdout",
     "output_type": "stream",
     "text": [
      "LOVE\n",
      "12 15 22 5 "
     ]
    }
   ],
   "source": [
    "code = list(map(str, input()))\n",
    "for xx in code:\n",
    "    print(ord(xx)-64, end= \" \")"
   ]
  },
  {
   "cell_type": "markdown",
   "metadata": {},
   "source": [
    "- BEAAD\n",
    "- BEAN\n",
    "- BEKD\n",
    "- YAAD\n",
    "- YAN\n",
    "- YKD\n",
    "- 6"
   ]
  },
  {
   "cell_type": "code",
   "execution_count": null,
   "metadata": {},
   "outputs": [],
   "source": [
    "print(chr(1+64))"
   ]
  },
  {
   "cell_type": "code",
   "execution_count": null,
   "metadata": {},
   "outputs": [],
   "source": [
    "ar = 25114\n",
    "def DFS(n, m):\n",
    "    global code\n",
    "    if n > len(ar): # 일단 대충 탈출조건 써놓음\n",
    "        return\n",
    "    else: \n",
    "        for i in range(1,27):\n",
    "            if i = ar[n]\n",
    "            code.append(chr(i+64))\n",
    "        DFS(n+1)\n",
    "#         ar[n:n+1]\n",
    "#         DFS(n+1,)    \n",
    "\n",
    "code =  []\n",
    "DFS(0,0)"
   ]
  },
  {
   "cell_type": "code",
   "execution_count": null,
   "metadata": {},
   "outputs": [],
   "source": [
    "lst = [1,2,3,4]\n",
    "lst[1:2]"
   ]
  },
  {
   "cell_type": "code",
   "execution_count": null,
   "metadata": {},
   "outputs": [],
   "source": [
    "ar = 25114\n",
    "ar = list(str(ar))\n",
    "def DFS(n):\n",
    "    global code\n",
    "    if n > len(ar): # 일단 대충 탈출조건 써놓음\n",
    "        return print(code)\n",
    "    else: \n",
    "        for i in range(1,27):\n",
    "            if i == ar[n]:\n",
    "                code.append(chr(i+64))\n",
    "        DFS(n+1)\n",
    "\n",
    "code =  []\n",
    "\n",
    "DFS(0)"
   ]
  },
  {
   "cell_type": "code",
   "execution_count": null,
   "metadata": {},
   "outputs": [],
   "source": [
    "aaa = 1234\n",
    "aaa = list(str(aaa))\n",
    "aaa[0]"
   ]
  },
  {
   "cell_type": "code",
   "execution_count": 12,
   "metadata": {},
   "outputs": [
    {
     "name": "stdout",
     "output_type": "stream",
     "text": [
      "1215225\n",
      "A B A E B B E \n",
      "A B A E B Y \n",
      "A B A E V E \n",
      "A B O B B E \n",
      "A B O B Y \n",
      "A B O V E \n",
      "A U E B B E \n",
      "A U E B Y \n",
      "A U E V E \n",
      "L A E B B E \n",
      "L A E B Y \n",
      "L A E V E \n",
      "L O B B E \n",
      "L O B Y \n",
      "L O V E \n"
     ]
    }
   ],
   "source": [
    "def DFS(L,P):\n",
    "    if L == n :\n",
    "        for j in range(P):\n",
    "            print(chr(DISP[j] + 64), end= ' ')\n",
    "        print()\n",
    "    else:\n",
    "        for i in range(1,27):\n",
    "            if code[L] == i:\n",
    "                DISP[P] = i\n",
    "                DFS(L+1, P+1)\n",
    "            elif i>=10 and code[L] == i//10 and code[L+1] == i%10:\n",
    "                DISP[P] = i\n",
    "                DFS(L+2, P+1)\n",
    "        \n",
    "\n",
    "code = list(map(int, input()))\n",
    "n = len(code)\n",
    "DISP=[0]*(n+2)\n",
    "DFS(0,0) "
   ]
  },
  {
   "cell_type": "code",
   "execution_count": null,
   "metadata": {},
   "outputs": [],
   "source": []
  }
 ],
 "metadata": {
  "kernelspec": {
   "display_name": "Python 3",
   "language": "python",
   "name": "python3"
  },
  "language_info": {
   "codemirror_mode": {
    "name": "ipython",
    "version": 3
   },
   "file_extension": ".py",
   "mimetype": "text/x-python",
   "name": "python",
   "nbconvert_exporter": "python",
   "pygments_lexer": "ipython3",
   "version": "3.8.3"
  }
 },
 "nbformat": 4,
 "nbformat_minor": 4
}
