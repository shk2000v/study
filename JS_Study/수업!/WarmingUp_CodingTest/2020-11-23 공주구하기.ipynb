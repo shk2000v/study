{
 "cells": [
  {
   "cell_type": "markdown",
   "metadata": {},
   "source": [
    "공주구하기( 큐 자료구조로 해결)\n",
    "\n",
    "예를들어 총 8명의 왕자가 있고, 3을 외친 왕자가 제외된다고 하자.\n",
    "\n",
    "처음에는 3번 왕자가 3을 외쳐 제외된다. 이어 6,1,5,2,8,4번 왕자가 차레대로 제외되고 마지막까지 남게 된 7번 왕자에게 공주를 구하러갑니다."
   ]
  },
  {
   "cell_type": "code",
   "execution_count": 12,
   "metadata": {},
   "outputs": [],
   "source": [
    "def deque(n,x):\n",
    "    member=list(map(int,range(1,n+1)))\n",
    "#     member=[xx for xx in range(1,n+1)]\n",
    "\n",
    "    while(len(member) != 1):\n",
    "        for i in range(x):\n",
    "            if i == x-1:\n",
    "                member.pop(0)\n",
    "            else:\n",
    "                member.append(member.pop(0))\n",
    "    return member"
   ]
  },
  {
   "cell_type": "code",
   "execution_count": null,
   "metadata": {},
   "outputs": [],
   "source": []
  },
  {
   "cell_type": "markdown",
   "metadata": {},
   "source": [
    "언제나 divide & conquer 가 핵심이다!"
   ]
  },
  {
   "cell_type": "code",
   "execution_count": 9,
   "metadata": {},
   "outputs": [
    {
     "data": {
      "text/plain": [
       "[7]"
      ]
     },
     "execution_count": 9,
     "metadata": {},
     "output_type": "execute_result"
    }
   ],
   "source": [
    "n = 8\n",
    "x = 3\n",
    "\n",
    "member=list(map(int,range(1,n+1)))\n",
    "\n",
    "while(len(member) != 1):\n",
    "    for i in range(x):\n",
    "        if i == x-1:\n",
    "            member.pop(0)\n",
    "        else:\n",
    "            member.append(member.pop(0))\n",
    "member"
   ]
  },
  {
   "cell_type": "code",
   "execution_count": 13,
   "metadata": {},
   "outputs": [
    {
     "data": {
      "text/plain": [
       "[7]"
      ]
     },
     "execution_count": 13,
     "metadata": {},
     "output_type": "execute_result"
    }
   ],
   "source": [
    "deque(8,3)"
   ]
  },
  {
   "cell_type": "code",
   "execution_count": 14,
   "metadata": {},
   "outputs": [
    {
     "data": {
      "text/plain": [
       "[3]"
      ]
     },
     "execution_count": 14,
     "metadata": {},
     "output_type": "execute_result"
    }
   ],
   "source": [
    "deque(20,7)"
   ]
  },
  {
   "cell_type": "code",
   "execution_count": null,
   "metadata": {},
   "outputs": [],
   "source": [
    "deque(100,7)"
   ]
  },
  {
   "cell_type": "markdown",
   "metadata": {},
   "source": [
    "# 선생님 풀이"
   ]
  },
  {
   "cell_type": "code",
   "execution_count": null,
   "metadata": {},
   "outputs": [],
   "source": [
    "n, k = map(int,input('n과 k를 컴마로 구분해서 입력하세요 = ').split(','))\n",
    "\n",
    "princes =list(range(1,n+1))\n",
    "\n",
    "while princes:\n",
    "    for _ in range(k-1):\n",
    "        princes.append(princes.pop(0))\n",
    "    print(princes)\n",
    "    print(\"빠지는 왕자는 =\", princes.pop(0))\n",
    "    if len(princes) == 1:\n",
    "        print(\"공주를 구하러갈 왕자는\",princes[0],\"번째 왕자 입니다.\")\n",
    "        princes.pop(0)\n",
    "        break"
   ]
  },
  {
   "cell_type": "code",
   "execution_count": null,
   "metadata": {},
   "outputs": [],
   "source": [
    "princes"
   ]
  },
  {
   "cell_type": "markdown",
   "metadata": {},
   "source": [
    "# 뽀너스"
   ]
  },
  {
   "cell_type": "code",
   "execution_count": null,
   "metadata": {},
   "outputs": [],
   "source": [
    "lst = [1,2,3,4,5,6,7,8]"
   ]
  },
  {
   "cell_type": "code",
   "execution_count": null,
   "metadata": {},
   "outputs": [],
   "source": [
    "lst"
   ]
  },
  {
   "cell_type": "code",
   "execution_count": null,
   "metadata": {},
   "outputs": [],
   "source": [
    "for xx in lst:\n",
    "    lst.remove(xx)"
   ]
  },
  {
   "cell_type": "code",
   "execution_count": null,
   "metadata": {},
   "outputs": [],
   "source": [
    "lst"
   ]
  },
  {
   "cell_type": "markdown",
   "metadata": {},
   "source": [
    "remove를 하면 안에있는 요소를 앞쪽으로 쫚 땡긴다\n",
    "for 문을 썻을때 차례대로 인덱스로 읽는데\n",
    "for 문으로 읽어들이는 요소가 지워질때 본래 요소가 아닌 차례대로 인덱스를 읽어서 조심해야한다\n",
    "# =======================\n",
    "### 지울때는 뒤에서부터 지워야지\n",
    "### 지워놓고 돌리면 안된다.\n"
   ]
  },
  {
   "cell_type": "code",
   "execution_count": 6,
   "metadata": {},
   "outputs": [],
   "source": [
    "\n",
    "#  더블큐 라고 읽고 엄청나게 큰 리스트를 pop append할때 요소의 무빙없이 사용가능하다"
   ]
  },
  {
   "cell_type": "code",
   "execution_count": 8,
   "metadata": {},
   "outputs": [
    {
     "name": "stdout",
     "output_type": "stream",
     "text": [
      "n과 k를 컴마로 구분해서 입력하세요 = 8,3\n",
      "공주를 구하러갈 왕자는 7 번째 왕자 입니다.\n"
     ]
    }
   ],
   "source": [
    "from collections import deque\n",
    "n, k = map(int,input('n과 k를 컴마로 구분해서 입력하세요 = ').split(','))\n",
    "\n",
    "princes =list(range(1,n+1))\n",
    "dq =deque(princes)\n",
    "while dq:\n",
    "    for _ in range(k-1):\n",
    "        dq.append(dq.popleft())\n",
    "    dq.popleft()\n",
    "    if len(dq) == 1:\n",
    "        print(\"공주를 구하러갈 왕자는\",dq[0],\"번째 왕자 입니다.\")\n",
    "        break"
   ]
  },
  {
   "cell_type": "code",
   "execution_count": null,
   "metadata": {},
   "outputs": [],
   "source": []
  }
 ],
 "metadata": {
  "kernelspec": {
   "display_name": "Python 3",
   "language": "python",
   "name": "python3"
  },
  "language_info": {
   "codemirror_mode": {
    "name": "ipython",
    "version": 3
   },
   "file_extension": ".py",
   "mimetype": "text/x-python",
   "name": "python",
   "nbconvert_exporter": "python",
   "pygments_lexer": "ipython3",
   "version": "3.8.3"
  }
 },
 "nbformat": 4,
 "nbformat_minor": 4
}
