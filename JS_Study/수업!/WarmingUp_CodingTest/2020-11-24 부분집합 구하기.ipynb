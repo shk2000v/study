{
 "cells": [
  {
   "cell_type": "markdown",
   "metadata": {},
   "source": [
    "자연수 N이 주어지면 1부터 N까지의 원소를 갖는 집합의 부분집합을 모두 출력하는 프로그램을 작성하세요\n",
    "\n",
    "- 입력설명\n",
    "\n",
    "첫번째 줄에 자연수 N(1<= N <= 10)이 주어집니다.\n",
    "\n",
    "- 출력 설명\n",
    "\n",
    "첫번째 줄부터 각 줄에 하나씩 부분집합을 아래와 출력예제와 같은 순서로 출력한다.\n",
    "단 공집합은 출력하지 않습니다.\n",
    "\n",
    "- 입력 예제\n",
    "\n",
    "3\n",
    "\n",
    "- 출력 예제\n",
    "\n",
    "1 2 3\n",
    "\n",
    "1 2\n",
    "\n",
    "1 3\n",
    "\n",
    "1\n",
    "\n",
    "2 3\n",
    "\n",
    "2\n",
    "\n",
    "\n",
    "3"
   ]
  },
  {
   "cell_type": "code",
   "execution_count": 16,
   "metadata": {},
   "outputs": [
    {
     "name": "stdout",
     "output_type": "stream",
     "text": [
      "[0, 0, 0]\n"
     ]
    }
   ],
   "source": [
    "n = 3\n",
    "n_list = list(range(1,n+1))\n",
    "\n",
    "a = [0]*3\n",
    "print(a)\n",
    "\n",
    "for i in range(1,n+1):\n",
    "    "
   ]
  },
  {
   "cell_type": "code",
   "execution_count": 6,
   "metadata": {},
   "outputs": [
    {
     "data": {
      "text/plain": [
       "[1, 2, 3]"
      ]
     },
     "execution_count": 6,
     "metadata": {},
     "output_type": "execute_result"
    }
   ],
   "source": [
    "n_list"
   ]
  },
  {
   "cell_type": "code",
   "execution_count": 14,
   "metadata": {},
   "outputs": [
    {
     "name": "stdout",
     "output_type": "stream",
     "text": [
      "4"
     ]
    }
   ],
   "source": [
    "A = [0,0,0,1]\n",
    "B = [1,2,3,4]\n",
    "\n",
    "for j in range(len(B)):\n",
    "    if A[j] == 1:\n",
    "        print(B[j], end=\"\")"
   ]
  },
  {
   "cell_type": "code",
   "execution_count": 8,
   "metadata": {},
   "outputs": [
    {
     "data": {
      "text/plain": [
       "[0, 0, 0, 0]"
      ]
     },
     "execution_count": 8,
     "metadata": {},
     "output_type": "execute_result"
    }
   ],
   "source": [
    "a"
   ]
  },
  {
   "cell_type": "markdown",
   "metadata": {},
   "source": [
    "# 선생님 풀이\n",
    "\n",
    " - 바이너리 트리\n",
    " - 트리구조를 이해해보는것도 좋고,.... 이런 로직을 세워보는 훈련을 좀 더 많이해야겠다"
   ]
  },
  {
   "cell_type": "code",
   "execution_count": 18,
   "metadata": {},
   "outputs": [],
   "source": [
    "def MarkBit(x,c):\n",
    "    a=[0]*c\n",
    "    for i in range(c):\n",
    "        a[c-i-1]=x%2\n",
    "        x=x//2\n",
    "    return a"
   ]
  },
  {
   "cell_type": "code",
   "execution_count": 21,
   "metadata": {},
   "outputs": [
    {
     "name": "stdout",
     "output_type": "stream",
     "text": [
      "[0, 0, 0, 0]\n",
      "[1, 1, 1, 1]\n",
      "[1, 1, 1, 0]\n",
      "[1, 1, 0, 1]\n",
      "[1, 1, 0, 0]\n",
      "[1, 0, 1, 1]\n",
      "[1, 0, 1, 0]\n",
      "[1, 0, 0, 1]\n",
      "[1, 0, 0, 0]\n",
      "[0, 1, 1, 1]\n",
      "[0, 1, 1, 0]\n",
      "[0, 1, 0, 1]\n",
      "[0, 1, 0, 0]\n",
      "[0, 0, 1, 1]\n",
      "[0, 0, 1, 0]\n",
      "[0, 0, 0, 1]\n"
     ]
    }
   ],
   "source": [
    "n = 4\n",
    "for i in range(2**n):\n",
    "    idx = MarkBit(2**n-i,n)\n",
    "    print(idx)"
   ]
  },
  {
   "cell_type": "code",
   "execution_count": 23,
   "metadata": {},
   "outputs": [
    {
     "name": "stdout",
     "output_type": "stream",
     "text": [
      "n=3\n",
      "[1, 2, 3]\n",
      "\n",
      "1 2 3 \n",
      "1 2 \n",
      "1 3 \n",
      "1 \n",
      "2 3 \n",
      "2 \n",
      "3 \n"
     ]
    }
   ],
   "source": [
    "def MarkBit(x,c):\n",
    "    a=[0]*c\n",
    "    for i in range(c):\n",
    "        a[c-i-1]=x%2\n",
    "        x=x//2\n",
    "    return a\n",
    "\n",
    "n = int(input('n='))\n",
    "tt= [i for i in range(1,n+1)]\n",
    "\n",
    "for i in range(2**n):\n",
    "    idx = MarkBit(2**n-i,n)\n",
    "    for j in range(n):\n",
    "        if idx[j]==1:\n",
    "            print(tt[j], end=\" \")\n",
    "    print()"
   ]
  },
  {
   "cell_type": "code",
   "execution_count": null,
   "metadata": {},
   "outputs": [],
   "source": []
  }
 ],
 "metadata": {
  "kernelspec": {
   "display_name": "Python 3",
   "language": "python",
   "name": "python3"
  },
  "language_info": {
   "codemirror_mode": {
    "name": "ipython",
    "version": 3
   },
   "file_extension": ".py",
   "mimetype": "text/x-python",
   "name": "python",
   "nbconvert_exporter": "python",
   "pygments_lexer": "ipython3",
   "version": "3.8.3"
  }
 },
 "nbformat": 4,
 "nbformat_minor": 4
}
