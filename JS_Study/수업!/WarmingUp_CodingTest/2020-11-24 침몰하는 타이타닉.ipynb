{
 "cells": [
  {
   "cell_type": "markdown",
   "metadata": {},
   "source": [
    "구명보트는 2명 이하로만탈수있으며\n",
    "\n",
    "보트한개에 탈수있는 총 무게도 M kg 이하로 제한 되어있다\n",
    "\n",
    "n 명의 승객 몸무게가 주어졌을때\n",
    "\n",
    "모두 탈출하기위한 최소개수는?"
   ]
  },
  {
   "cell_type": "markdown",
   "metadata": {},
   "source": [
    "- 일단 sort를 한다..\n",
    "\n",
    "- "
   ]
  },
  {
   "cell_type": "code",
   "execution_count": 21,
   "metadata": {},
   "outputs": [
    {
     "name": "stdout",
     "output_type": "stream",
     "text": [
      "[10, 150]\n",
      "[22, 38, 49, 53, 67, 78, 86, 95, 107, 116]\n",
      "5\n"
     ]
    }
   ],
   "source": [
    "with open(\"침몰타이타닉1.txt\", \"r\") as f:\n",
    "    a = list(map(int,f.readline().split()))\n",
    "    w = sorted(list(map(int,f.readline().split())))\n",
    "    print(a)\n",
    "    print(w)\n",
    "    exit = 0\n",
    "    \n",
    "    while w is not None:\n",
    "        if not w:\n",
    "            print(exit)\n",
    "            break\n",
    "        if w[0] + w[-1] <= a[1]:\n",
    "            w.pop(-1)\n",
    "            w.pop(0)\n",
    "            exit +=1"
   ]
  },
  {
   "cell_type": "code",
   "execution_count": 18,
   "metadata": {},
   "outputs": [
    {
     "data": {
      "text/plain": [
       "[10, 150]"
      ]
     },
     "execution_count": 18,
     "metadata": {},
     "output_type": "execute_result"
    }
   ],
   "source": [
    "a"
   ]
  },
  {
   "cell_type": "code",
   "execution_count": 19,
   "metadata": {},
   "outputs": [
    {
     "data": {
      "text/plain": [
       "[]"
      ]
     },
     "execution_count": 19,
     "metadata": {},
     "output_type": "execute_result"
    }
   ],
   "source": [
    "w"
   ]
  },
  {
   "cell_type": "code",
   "execution_count": null,
   "metadata": {},
   "outputs": [],
   "source": [
    "with open(\"침몰타이타닉2.txt\", \"r\") as f:\n",
    "    a2 = list(map(int,f.readline().split()))\n",
    "    w2 = sorted(list(map(int,f.readline().split())))\n",
    "    \n",
    "    exit2 = 0\n",
    "    \n",
    "    while w2 is not None:\n",
    "        if not w2:\n",
    "            print(exit2)\n",
    "            break\n",
    "        if w2[0] + w2[-1] <= a2[1]:\n",
    "            w2.pop(-1)\n",
    "            w2.pop(0)\n",
    "            exit2 +=1"
   ]
  },
  {
   "cell_type": "markdown",
   "metadata": {},
   "source": [
    "deque 사용해보자"
   ]
  },
  {
   "cell_type": "code",
   "execution_count": null,
   "metadata": {},
   "outputs": [],
   "source": [
    "from collections import deque\n",
    "with open(\"침몰타이타닉1.txt\", \"r\") as f:\n",
    "    a = list(map(int,f.readline().split()))\n",
    "    w = sorted(list(map(int,f.readline().split())))\n",
    "    \n",
    "    exit = 0\n",
    "    \n",
    "    dq = deque(w)\n",
    "    while dq:\n",
    "        if len(dq) == 0:\n",
    "            print(exit)\n",
    "            break\n",
    "        if "
   ]
  },
  {
   "cell_type": "markdown",
   "metadata": {},
   "source": [
    "# 선생님 풀이"
   ]
  },
  {
   "cell_type": "code",
   "execution_count": 12,
   "metadata": {},
   "outputs": [
    {
     "name": "stdout",
     "output_type": "stream",
     "text": [
      "필요한 보트의 갯수는 =  5\n"
     ]
    }
   ],
   "source": [
    "with open(\"침몰타이타닉1.txt\", \"r\") as f:\n",
    "    n,weight = list(map(int,f.readline().split()))\n",
    "    vote_people = sorted(list(map(int,f.readline().split())))\n",
    "vote_people.sort()\n",
    "count=0\n",
    "\n",
    "while vote_people:\n",
    "    if len(vote_people) == 1: count+=1; vote_people(pop)\n",
    "    if vote_people[0] + vote_people[-1] > weight:\n",
    "        count += 1\n",
    "        vote_people.pop()\n",
    "    else:\n",
    "#         vote_people[0] + vote_people[-1] <= weight:\n",
    "        count += 1\n",
    "        vote_people.pop()\n",
    "        vote_people.pop(0)\n",
    "\n",
    "\n",
    "print(\"필요한 보트의 갯수는 = \",count)"
   ]
  },
  {
   "cell_type": "code",
   "execution_count": 16,
   "metadata": {},
   "outputs": [
    {
     "name": "stdout",
     "output_type": "stream",
     "text": [
      "탈출에 필요한 보트 갯수는 14\n"
     ]
    }
   ],
   "source": [
    "from collections import deque\n",
    "with open(\"침몰타이타닉2.txt\", \"r\") as f:\n",
    "    a,w = list(map(int,f.readline().split()))\n",
    "    p = sorted(list(map(int,f.readline().split())))\n",
    "    \n",
    "exit = 0\n",
    "    \n",
    "dq = deque(p)\n",
    "while dq:\n",
    "    if len(dq) == 1: exit += 1; dq.pop()\n",
    "    \n",
    "    if dq[0]+dq[-1] > w:\n",
    "        exit += 1\n",
    "        dq.pop()\n",
    "    else:\n",
    "        exit += 1\n",
    "        dq.popleft()\n",
    "        dq.pop()\n",
    "\n",
    "print(\"탈출에 필요한 보트 갯수는\",exit)"
   ]
  },
  {
   "cell_type": "code",
   "execution_count": null,
   "metadata": {},
   "outputs": [],
   "source": []
  }
 ],
 "metadata": {
  "kernelspec": {
   "display_name": "Python 3",
   "language": "python",
   "name": "python3"
  },
  "language_info": {
   "codemirror_mode": {
    "name": "ipython",
    "version": 3
   },
   "file_extension": ".py",
   "mimetype": "text/x-python",
   "name": "python",
   "nbconvert_exporter": "python",
   "pygments_lexer": "ipython3",
   "version": "3.8.3"
  }
 },
 "nbformat": 4,
 "nbformat_minor": 4
}
