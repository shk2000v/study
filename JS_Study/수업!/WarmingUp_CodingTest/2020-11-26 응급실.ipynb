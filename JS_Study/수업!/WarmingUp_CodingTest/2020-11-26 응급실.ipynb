{
 "cells": [
  {
   "cell_type": "markdown",
   "metadata": {},
   "source": [
    "- 완자가 접수한 순서대로의 목록에서 제일 앞에 있는 환자목록을 꺼냅니다\n",
    "- 나머지 대기목록에서 꺼낸 환자보다 위험도가 높은 환자가 존재하면 대기목록 제일 뒤로 다시 넣습니다. 그렇지않으면 진료를 받습니다\n",
    "\n",
    "\n",
    "현재 N명의 환자가 대기목록에 있습니다.\n"
   ]
  },
  {
   "cell_type": "code",
   "execution_count": 29,
   "metadata": {},
   "outputs": [
    {
     "name": "stdout",
     "output_type": "stream",
     "text": [
      "5\n",
      "2\n",
      "[(0, 60), (1, 50), (2, 70), (3, 80), (4, 90)]\n",
      "50\n"
     ]
    },
    {
     "ename": "AttributeError",
     "evalue": "'tuple' object has no attribute 'pop'",
     "output_type": "error",
     "traceback": [
      "\u001b[1;31m---------------------------------------------------------------------------\u001b[0m",
      "\u001b[1;31mAttributeError\u001b[0m                            Traceback (most recent call last)",
      "\u001b[1;32m<ipython-input-29-0f195a530419>\u001b[0m in \u001b[0;36m<module>\u001b[1;34m\u001b[0m\n\u001b[0;32m     13\u001b[0m     \u001b[0mprint\u001b[0m\u001b[1;33m(\u001b[0m\u001b[0mdq\u001b[0m\u001b[1;33m[\u001b[0m\u001b[1;36m1\u001b[0m\u001b[1;33m]\u001b[0m\u001b[1;33m[\u001b[0m\u001b[1;36m1\u001b[0m\u001b[1;33m]\u001b[0m\u001b[1;33m)\u001b[0m\u001b[1;33m\u001b[0m\u001b[1;33m\u001b[0m\u001b[0m\n\u001b[0;32m     14\u001b[0m \u001b[1;33m\u001b[0m\u001b[0m\n\u001b[1;32m---> 15\u001b[1;33m     \u001b[0mprint\u001b[0m\u001b[1;33m(\u001b[0m\u001b[0mdq\u001b[0m\u001b[1;33m[\u001b[0m\u001b[1;36m0\u001b[0m\u001b[1;33m]\u001b[0m\u001b[1;33m.\u001b[0m\u001b[0mpop\u001b[0m\u001b[1;33m(\u001b[0m\u001b[1;33m)\u001b[0m\u001b[1;33m)\u001b[0m\u001b[1;33m\u001b[0m\u001b[1;33m\u001b[0m\u001b[0m\n\u001b[0m\u001b[0;32m     16\u001b[0m \u001b[1;33m\u001b[0m\u001b[0m\n\u001b[0;32m     17\u001b[0m \u001b[1;31m#     while(True):\u001b[0m\u001b[1;33m\u001b[0m\u001b[1;33m\u001b[0m\u001b[1;33m\u001b[0m\u001b[0m\n",
      "\u001b[1;31mAttributeError\u001b[0m: 'tuple' object has no attribute 'pop'"
     ]
    }
   ],
   "source": [
    "from collections import deque\n",
    "with open(\"응급실in1.txt\", \"r\") as f:\n",
    "    N, M = map(int,f.readline().split())\n",
    "    p = list(map(int,f.readline().split()))\n",
    "    \n",
    "    cnt = 0\n",
    "    \n",
    "    print(N)\n",
    "    print(M)\n",
    "    dq = deque(p)\n",
    "    dq = list(enumerate(dq))\n",
    "    print(dq)\n",
    "    print(dq[1][1])\n",
    "    \n",
    "    print(dq[0].pop())\n",
    "    \n",
    "#     while(True):\n",
    "#         if Max(dq[0][1]):\n",
    "#             dq[0].pop()\n",
    "    \n",
    "    # 최종 결과ㅇㅇ \n",
    "#     if M == dq[0]:\n",
    "#         print dq[1]\n",
    "    \n",
    "    \n",
    "#     for i in enumerate(dq):\n",
    "#         print(list(i))\n",
    "    \n",
    "    \n",
    "        "
   ]
  },
  {
   "cell_type": "code",
   "execution_count": 3,
   "metadata": {},
   "outputs": [
    {
     "data": {
      "text/plain": [
       "5"
      ]
     },
     "execution_count": 3,
     "metadata": {},
     "output_type": "execute_result"
    }
   ],
   "source": [
    "N"
   ]
  },
  {
   "cell_type": "code",
   "execution_count": 4,
   "metadata": {},
   "outputs": [
    {
     "data": {
      "text/plain": [
       "2"
      ]
     },
     "execution_count": 4,
     "metadata": {},
     "output_type": "execute_result"
    }
   ],
   "source": [
    "M"
   ]
  },
  {
   "cell_type": "code",
   "execution_count": 8,
   "metadata": {},
   "outputs": [
    {
     "data": {
      "text/plain": [
       "[60, 50, 70, 80, 90]"
      ]
     },
     "execution_count": 8,
     "metadata": {},
     "output_type": "execute_result"
    }
   ],
   "source": [
    "p"
   ]
  },
  {
   "cell_type": "code",
   "execution_count": 40,
   "metadata": {},
   "outputs": [
    {
     "name": "stdout",
     "output_type": "stream",
     "text": [
      "지정하신 0 환자의 진료 차례는 5 번째 입니다\n"
     ]
    }
   ],
   "source": [
    "from collections import deque\n",
    "with open(\"응급실in2.txt\", \"r\") as f:\n",
    "    n, m = map(int,f.readline().split())\n",
    "    \n",
    "    emer_list= [(idx , int(xx)) for idx, xx in enumerate(f.readline().split())]\n",
    "    \n",
    "    Q = deque(emer_list)\n",
    "    cnt = 0 \n",
    "    while True:\n",
    "        now = Q.popleft()\n",
    "        if any(now[1] < x[1] for x in Q) :\n",
    "            Q.append(now)\n",
    "        else:\n",
    "            cnt += 1 # 이 사람은 진료를 \n",
    "            if now[0] == m :\n",
    "                break\n",
    "    print(\"지정하신 {} 환자의 진료 차례는 {} 번째 입니다\".format(m,cnt))"
   ]
  },
  {
   "cell_type": "code",
   "execution_count": 36,
   "metadata": {},
   "outputs": [
    {
     "data": {
      "text/plain": [
       "[(0, 60), (1, 50), (2, 70), (3, 80), (4, 90)]"
      ]
     },
     "execution_count": 36,
     "metadata": {},
     "output_type": "execute_result"
    }
   ],
   "source": [
    "emer_list"
   ]
  },
  {
   "cell_type": "code",
   "execution_count": null,
   "metadata": {},
   "outputs": [],
   "source": []
  }
 ],
 "metadata": {
  "kernelspec": {
   "display_name": "Python 3",
   "language": "python",
   "name": "python3"
  },
  "language_info": {
   "codemirror_mode": {
    "name": "ipython",
    "version": 3
   },
   "file_extension": ".py",
   "mimetype": "text/x-python",
   "name": "python",
   "nbconvert_exporter": "python",
   "pygments_lexer": "ipython3",
   "version": "3.8.3"
  }
 },
 "nbformat": 4,
 "nbformat_minor": 4
}
