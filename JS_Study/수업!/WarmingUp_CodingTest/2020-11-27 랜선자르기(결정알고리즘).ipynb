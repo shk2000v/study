{
 "cells": [
  {
   "cell_type": "markdown",
   "metadata": {},
   "source": [
    "앨리트 학원은 자체적으로 k개의 랜선을 가지고있다\n",
    "\n",
    "그러나 k 개의 랜선은 길이가 제각각이다. 선생님은 랜선을 모두 N개의 같은 길이의 랜선으로 만들고 싶었기 때문에 k개의 랜선을 잘라서 만들어야 한다.\n",
    "\n",
    "예를 들어 300cm 짜리 랜선에서 140cm짜리 랜선을 두개 잘라내면 20cm은 버려야 한다."
   ]
  },
  {
   "cell_type": "markdown",
   "metadata": {},
   "source": [
    "랜선자르기in1.txt -> 150\n",
    "랜선자르기in2.txt -> 166\n",
    "랜선자르기in3.txt -> 40198\n",
    "\n",
    "4 11 ( 총 4개를 가지고있고 랜선을 11개 같은 길이로 만들수있는 방법\n",
    "802\n",
    "743\n",
    "457\n",
    "539\n",
    "\n",
    "--------------\n",
    "200\n"
   ]
  },
  {
   "cell_type": "code",
   "execution_count": null,
   "metadata": {},
   "outputs": [],
   "source": [
    "with open(\"랜선자르기in1.txt\", \"r\") as f:\n",
    "    k, n = list(map(int,f.readline().split()))\n",
    "    line = []\n",
    "    for _ in range(k):\n",
    "        line.append(int(f.readline()))\n",
    "    line.sort()\n",
    "    \n",
    "    "
   ]
  },
  {
   "cell_type": "code",
   "execution_count": null,
   "metadata": {},
   "outputs": [],
   "source": [
    "line"
   ]
  },
  {
   "cell_type": "markdown",
   "metadata": {},
   "source": [
    "# 선생님 풀이"
   ]
  },
  {
   "cell_type": "code",
   "execution_count": 3,
   "metadata": {},
   "outputs": [
    {
     "name": "stdout",
     "output_type": "stream",
     "text": [
      "40198\n",
      "40198cm 길이의 케이블 100002 개를 만들수 있습니다\n"
     ]
    }
   ],
   "source": [
    "with open(\"랜선자르기in3.txt\", \"r\") as f:\n",
    "    k, n = list(map(int,f.readline().split()))\n",
    "    Line = []\n",
    "    answer = []\n",
    "    \n",
    "    for _ in range(k):\n",
    "        Line.append(int(f.readline()))\n",
    "    Line.sort()\n",
    "    \n",
    "    def Lan_Cable(l):\n",
    "        cnt= 0\n",
    "        for x in Line:\n",
    "            cnt += x // l\n",
    "        return cnt\n",
    "    \n",
    "    left_min=0\n",
    "    right_max = Line[-1]\n",
    "    \n",
    "    while left_min <= right_max :\n",
    "        mid = (left_min + right_max) // 2\n",
    "        if Lan_Cable(mid) >= n :\n",
    "#             answer.append(mid)\n",
    "            answer = mid\n",
    "            left_min = mid + 1\n",
    "        else:\n",
    "            right_max = mid -1\n",
    "    print(answer) # 10개를 만들수있는 len선 군\n",
    "#     print(max(answer))\n",
    "    print(\"{}cm 길이의 케이블 {} 개를 만들수 있습니다\".format(answer, Lan_Cable(answer)))\n",
    "    "
   ]
  },
  {
   "cell_type": "code",
   "execution_count": null,
   "metadata": {},
   "outputs": [],
   "source": [
    "Line"
   ]
  },
  {
   "cell_type": "code",
   "execution_count": null,
   "metadata": {},
   "outputs": [],
   "source": []
  },
  {
   "cell_type": "code",
   "execution_count": 5,
   "metadata": {},
   "outputs": [
    {
     "name": "stdout",
     "output_type": "stream",
     "text": [
      "800 100000\n",
      "40359\n",
      "100002\n",
      "케이블의 길이는 40198\n"
     ]
    }
   ],
   "source": [
    " def ave_func(lst, n):\n",
    "    return sum(lst) // n # 랜선의 길이 총합에 만들어야할 N개의 랜선을 나눈다.\n",
    "\n",
    "with open('랜선자르기in3.txt', \"r\") as f:\n",
    "        k, n = map(int, f.readline().split())\n",
    "        print(k, n)\n",
    "        lst = [int(f.readline()) for _ in range(k)]\n",
    "#         print(lst)\n",
    "        lst.sort()\n",
    "#         print(lst)\n",
    "middle = ave_func(lst, n)\n",
    "\n",
    "print(middle)\n",
    "while (True):\n",
    "    cnt = 0\n",
    "    for i in lst:\n",
    "        cnt += i // middle\n",
    "    if cnt >= n :\n",
    "        print(cnt)\n",
    "        break\n",
    "    middle -= 1\n",
    "#     print(cnt)\n",
    "#     print(middle)\n",
    "print(\"케이블의 길이는\", middle)\n"
   ]
  },
  {
   "cell_type": "code",
   "execution_count": null,
   "metadata": {},
   "outputs": [],
   "source": []
  }
 ],
 "metadata": {
  "kernelspec": {
   "display_name": "Python 3",
   "language": "python",
   "name": "python3"
  },
  "language_info": {
   "codemirror_mode": {
    "name": "ipython",
    "version": 3
   },
   "file_extension": ".py",
   "mimetype": "text/x-python",
   "name": "python",
   "nbconvert_exporter": "python",
   "pygments_lexer": "ipython3",
   "version": "3.8.3"
  }
 },
 "nbformat": 4,
 "nbformat_minor": 4
}
