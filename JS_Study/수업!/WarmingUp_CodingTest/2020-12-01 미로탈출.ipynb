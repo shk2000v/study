{
 "cells": [
  {
   "cell_type": "markdown",
   "metadata": {},
   "source": [
    "7*7  격자판 미로를 탈출하는 최단경로의 경로수를 출력하는 프로그램을 작성\n",
    "\n",
    "경로수는 출발점에서 도착점까지 가는데 이동한 횟수를 의미\n",
    "\n",
    "출발점은 격자의 1,1좌표이고 도착점은 7,7좌표이다\n",
    "\n",
    "도착할수없으면 -1을 출력한다"
   ]
  },
  {
   "cell_type": "code",
   "execution_count": null,
   "metadata": {},
   "outputs": [],
   "source": [
    "with open(\"미로탈출in1.txt\", \"r\") as f:\n",
    "    a = [list(map(int,f.readline().split())) for _ in range(7)]\n",
    "    cnt = 0\n",
    "    i = 0\n",
    "    j = 1\n",
    "while(True):\n",
    "    if a[i][j] ==0:\n",
    "        cnt+=1\n",
    "        j+=1\n",
    "        if j == 7:\n",
    "            j -= 1\n",
    "            i += 1\n",
    "    elif a[i][j] == 1:\n",
    "        \n",
    "    "
   ]
  },
  {
   "cell_type": "code",
   "execution_count": null,
   "metadata": {},
   "outputs": [],
   "source": [
    "a"
   ]
  },
  {
   "cell_type": "code",
   "execution_count": null,
   "metadata": {},
   "outputs": [],
   "source": [
    "with open(\"미로탈출test\", \"r\") as f:\n",
    "    asd = [list(map(int,f.readline().split())) for _ in range(3)]"
   ]
  },
  {
   "cell_type": "code",
   "execution_count": null,
   "metadata": {},
   "outputs": [],
   "source": [
    "asd"
   ]
  },
  {
   "cell_type": "markdown",
   "metadata": {},
   "source": [
    "# 만일 메트릭스 문제가 나올때의 해법 유도방법\n",
    "\n",
    "\n",
    "- B F S (Broad First Search) 넓이 우선 탐색\n",
    "- D F S (Depth First Search) 깊이 우선 탐색\n",
    "\n",
    "`\n",
    "- (경로수 물어볼때는 거의 DFS를 이용한다)\n",
    "\n",
    "`\n",
    "\n",
    "\n",
    "- 푸는법(외우자)\n",
    "1. Queue 이용\n",
    "\n",
    "2. Recursive 이용"
   ]
  },
  {
   "cell_type": "markdown",
   "metadata": {},
   "source": [
    "# 선생님 풀이 예시"
   ]
  },
  {
   "cell_type": "code",
   "execution_count": 2,
   "metadata": {},
   "outputs": [
    {
     "name": "stdout",
     "output_type": "stream",
     "text": [
      "8\n"
     ]
    }
   ],
   "source": [
    "from collections import deque\n",
    "matrix = [[0,0,0,1,1],\n",
    "          [0,1,0,0,1],\n",
    "          [0,1,1,0,1],\n",
    "          [0,1,1,0,0],\n",
    "          [0,0,0,0,0] ]\n",
    "\n",
    "dx=[-1,0,1,0]\n",
    "dy=[0,1,0,-1]\n",
    "dis = [[0]*5 for _ in range(5)]\n",
    "\n",
    "Q = deque()\n",
    "Q.append((0,0\n",
    "matrix[0][0] = 1 # 처음 시작점을 체크한 후 시작\n",
    "\n",
    "while Q: # Q에 뭔가 있으면 계속 시작하라\n",
    "    temp = Q.popleft() #최초의 temp는 (0,0) <- tuple\n",
    "    for i in range(4):\n",
    "        x = temp[0]+dx[i] # dx는 [-1,0,1,0] (0,-1) (0,0) (0,1) (0,0) # 상하좌우 좌표값을 모두 탐색한다\n",
    "        y = temp[1]+dy[i]\n",
    "        if 0 <= x <=4 and 0<=y <=4 and matrix[x][y] ==0 :\n",
    "            matrix[x][y]=1 # 다녀간곳은 1로 표시해 벽으로 만든다\n",
    "            dis[x][y] = dis[temp[0]][temp[1]] + 1\n",
    "            Q.append((x,y))\n",
    "            \n",
    "if dis[4][4]  == 0:\n",
    "    print(-1)\n",
    "else:\n",
    "    print(dis[4][4])"
   ]
  },
  {
   "cell_type": "code",
   "execution_count": null,
   "metadata": {},
   "outputs": [],
   "source": []
  },
  {
   "cell_type": "code",
   "execution_count": null,
   "metadata": {},
   "outputs": [],
   "source": [
    "for xx in matrix:\n",
    "    print(xx)"
   ]
  },
  {
   "cell_type": "code",
   "execution_count": null,
   "metadata": {},
   "outputs": [],
   "source": [
    "for dd in dis:\n",
    "    print(dd)\n",
    "\n",
    "# 클리어세트를 준비 해둬야 한다"
   ]
  },
  {
   "cell_type": "code",
   "execution_count": null,
   "metadata": {},
   "outputs": [],
   "source": [
    "import matplotlib.pyplot as plt\n",
    "from matplotlib.image import imread\n",
    "\n",
    "img = imread('DFS_matrix문제_준비모습.png')\n",
    "\n",
    "plt.imshow(img)\n",
    "plt.show()"
   ]
  },
  {
   "cell_type": "code",
   "execution_count": 3,
   "metadata": {},
   "outputs": [
    {
     "name": "stdout",
     "output_type": "stream",
     "text": [
      "deque([(0, 1)])\n",
      "deque([(0, 1), (1, 0)])\n",
      "deque([(1, 0), (0, 2)])\n",
      "deque([(0, 2), (2, 0)])\n",
      "deque([(2, 0), (0, 3)])\n",
      "deque([(0, 3), (2, 1)])\n",
      "deque([(2, 1), (0, 4)])\n",
      "deque([(0, 4), (2, 2)])\n",
      "deque([(2, 2), (0, 5)])\n",
      "deque([(0, 5), (3, 2)])\n",
      "deque([(3, 2), (0, 6)])\n",
      "deque([(0, 6), (4, 2)])\n",
      "deque([(4, 2), (1, 6)])\n",
      "deque([(1, 6), (4, 3)])\n",
      "deque([(1, 6), (4, 3), (5, 2)])\n",
      "deque([(4, 3), (5, 2), (2, 6)])\n",
      "deque([(5, 2), (2, 6), (4, 4)])\n",
      "deque([(2, 6), (4, 4), (6, 2)])\n",
      "deque([(4, 4), (6, 2), (2, 5)])\n",
      "deque([(6, 2), (2, 5), (3, 4)])\n",
      "deque([(6, 2), (2, 5), (3, 4), (4, 5)])\n",
      "deque([(2, 5), (3, 4), (4, 5), (6, 3)])\n",
      "deque([(2, 5), (3, 4), (4, 5), (6, 3), (6, 1)])\n",
      "deque([(3, 4), (4, 5), (6, 3), (6, 1), (2, 4)])\n",
      "deque([(6, 1), (2, 4), (6, 4)])\n",
      "deque([(6, 5)])\n",
      "deque([(6, 6)])\n",
      "deque([(5, 6)])\n",
      "12\n"
     ]
    }
   ],
   "source": [
    "from collections import deque\n",
    "\n",
    "with open(\"미로탈출in1.txt\", \"r\") as f:\n",
    "    matrix = [list(map(int,f.readline().split())) for _ in range(7)]\n",
    "\n",
    "dx=[-1,0,1,0]\n",
    "dy=[0,1,0,-1]\n",
    "dis = [[0]*7 for _ in range(7)]\n",
    "\n",
    "Q = deque()\n",
    "Q.append((0,0))\n",
    "matrix[0][0] = 8 # 처음 시작점을 체크한 후 시작\n",
    "\n",
    "while Q: # Q에 뭔가 있으면 계속 시작하라\n",
    "    temp = Q.popleft() #최초의 temp는 (0,0) <- tuple\n",
    "    for i in range(4):\n",
    "        x = temp[0]+dx[i] # dx는 [-1,0,1,0] (0,-1) (0,0) (0,1) (0,0) # 상하좌우 좌표값을 모두 탐색한다\n",
    "        y = temp[1]+dy[i]\n",
    "        if 0 <= x <=6 and 0<=y <=6 and matrix[x][y] ==0 :\n",
    "            matrix[x][y]=8 # 다녀간곳은 1로 표시해 벽으로 만든다\n",
    "            dis[x][y] = dis[temp[0]][temp[1]] + 1\n",
    "            Q.append((x,y))\n",
    "            print(Q)\n",
    "            \n",
    "if dis[6][6]  == 0:\n",
    "    print(-1)\n",
    "else:\n",
    "    print(dis[6][6])"
   ]
  },
  {
   "cell_type": "code",
   "execution_count": 3,
   "metadata": {},
   "outputs": [
    {
     "data": {
      "text/plain": [
       "[[8, 8, 8, 8, 8, 8, 8],\n",
       " [8, 1, 1, 1, 1, 1, 8],\n",
       " [8, 8, 8, 1, 8, 8, 8],\n",
       " [1, 1, 8, 1, 8, 1, 1],\n",
       " [1, 1, 8, 8, 8, 8, 1],\n",
       " [1, 1, 8, 1, 1, 1, 8],\n",
       " [1, 8, 8, 8, 8, 8, 8]]"
      ]
     },
     "execution_count": 3,
     "metadata": {},
     "output_type": "execute_result"
    }
   ],
   "source": [
    "matrix"
   ]
  },
  {
   "cell_type": "code",
   "execution_count": 4,
   "metadata": {},
   "outputs": [
    {
     "data": {
      "text/plain": [
       "[[0, 1, 2, 3, 4, 5, 6],\n",
       " [1, 0, 0, 0, 0, 0, 7],\n",
       " [2, 3, 4, 0, 10, 9, 8],\n",
       " [0, 0, 5, 0, 9, 0, 0],\n",
       " [0, 0, 6, 7, 8, 9, 0],\n",
       " [0, 0, 7, 0, 0, 0, 13],\n",
       " [0, 9, 8, 9, 10, 11, 12]]"
      ]
     },
     "execution_count": 4,
     "metadata": {},
     "output_type": "execute_result"
    }
   ],
   "source": [
    "dis"
   ]
  },
  {
   "cell_type": "markdown",
   "metadata": {},
   "source": [
    "# 미로탈출 경로수 알아내기\n",
    "\n",
    "- 출발점에서 도착점까지 갈 수 있는 방법의 수를 출력 하시오\n",
    "\n",
    "- \n",
    "0 0 0 0 0 0 0\n",
    "- 0 1 1 1 1 1 0\n",
    "- 0 0 0 1 0 0 0 \n",
    "- 1 1 0 1 0 1 1\n",
    "- 1 1 0 0 0 0 1 \n",
    "- 1 1 0 1 1 0 0\n",
    "- 1 0 0 0 0 0 0\n",
    "\n",
    "출력 예제 : 8\n",
    "\n",
    "1. BFS 넓이 우선 탐색\n",
    "2. DFS 깊이 우선 탐색\n",
    "\n",
    "\n",
    "- 이런 경로수 문제는 BFS 방법이 적절하다\n",
    "\n",
    "지우면서 빽한다는 느낌? 이 들면\n",
    "\n",
    "이 방법은 Recursive(재귀)를 써야한다\n",
    "\n",
    "Recursive call을 하는 function을 하나 만들어야한다...고 말씀하신다"
   ]
  },
  {
   "cell_type": "code",
   "execution_count": 14,
   "metadata": {},
   "outputs": [
    {
     "ename": "NameError",
     "evalue": "name 'q' is not defined",
     "output_type": "error",
     "traceback": [
      "\u001b[1;31m---------------------------------------------------------------------------\u001b[0m",
      "\u001b[1;31mNameError\u001b[0m                                 Traceback (most recent call last)",
      "\u001b[1;32m<ipython-input-14-d5150611ebff>\u001b[0m in \u001b[0;36m<module>\u001b[1;34m\u001b[0m\n\u001b[0;32m     29\u001b[0m             \u001b[0mdis2\u001b[0m\u001b[1;33m[\u001b[0m\u001b[0mx\u001b[0m\u001b[1;33m]\u001b[0m\u001b[1;33m[\u001b[0m\u001b[0my\u001b[0m\u001b[1;33m]\u001b[0m \u001b[1;33m=\u001b[0m \u001b[0mdis2\u001b[0m\u001b[1;33m[\u001b[0m\u001b[0mtemp2\u001b[0m\u001b[1;33m[\u001b[0m\u001b[1;36m0\u001b[0m\u001b[1;33m]\u001b[0m\u001b[1;33m]\u001b[0m\u001b[1;33m[\u001b[0m\u001b[0mtemp2\u001b[0m\u001b[1;33m[\u001b[0m\u001b[1;36m1\u001b[0m\u001b[1;33m]\u001b[0m\u001b[1;33m]\u001b[0m \u001b[1;33m+\u001b[0m \u001b[1;36m1\u001b[0m\u001b[1;33m\u001b[0m\u001b[1;33m\u001b[0m\u001b[0m\n\u001b[0;32m     30\u001b[0m             \u001b[0mQ2\u001b[0m\u001b[1;33m.\u001b[0m\u001b[0mappend\u001b[0m\u001b[1;33m(\u001b[0m\u001b[1;33m(\u001b[0m\u001b[0mx\u001b[0m\u001b[1;33m,\u001b[0m\u001b[0my\u001b[0m\u001b[1;33m)\u001b[0m\u001b[1;33m)\u001b[0m\u001b[1;33m\u001b[0m\u001b[1;33m\u001b[0m\u001b[0m\n\u001b[1;32m---> 31\u001b[1;33m             \u001b[0mprint\u001b[0m\u001b[1;33m(\u001b[0m\u001b[0mq\u001b[0m\u001b[1;33m)\u001b[0m\u001b[1;33m\u001b[0m\u001b[1;33m\u001b[0m\u001b[0m\n\u001b[0m\u001b[0;32m     32\u001b[0m \u001b[1;33m\u001b[0m\u001b[0m\n\u001b[0;32m     33\u001b[0m \u001b[1;32mif\u001b[0m \u001b[0mdis2\u001b[0m\u001b[1;33m[\u001b[0m\u001b[1;36m6\u001b[0m\u001b[1;33m]\u001b[0m\u001b[1;33m[\u001b[0m\u001b[1;36m6\u001b[0m\u001b[1;33m]\u001b[0m  \u001b[1;33m==\u001b[0m \u001b[1;36m0\u001b[0m\u001b[1;33m:\u001b[0m\u001b[1;33m\u001b[0m\u001b[1;33m\u001b[0m\u001b[0m\n",
      "\u001b[1;31mNameError\u001b[0m: name 'q' is not defined"
     ]
    }
   ],
   "source": [
    "from collections import deque\n",
    "\n",
    "# with open(\"미로탈출in1.txt\", \"r\") as f:\n",
    "#     matrix = [list(map(int,f.readline().split())) for _ in range(7)]\n",
    "\n",
    "matrix2 = [[0, 0, 0, 0, 0, 0, 0],\n",
    "           [0, 1, 1, 1, 1, 1, 0],\n",
    "           [0, 0, 0, 1, 0, 0, 0],\n",
    "           [1, 1, 0, 1, 0, 1, 1],\n",
    "           [1, 1, 0, 0, 0, 0, 1],\n",
    "           [1, 1, 0, 1, 1, 0, 0],\n",
    "           [1, 0, 0, 0, 0, 0, 0]]\n",
    "\n",
    "dx2=[-1,0,1,0]\n",
    "dy2=[0,1,0,-1]\n",
    "dis2 = [[0]*7 for _ in range(7)]\n",
    "\n",
    "Q2 = deque()\n",
    "Q2.append((0,0))\n",
    "matrix2[0][0] = 8 # 처음 시작점을 체크한 후 시작\n",
    "\n",
    "while Q2: # Q에 뭔가 있으면 계속 시작하라\n",
    "    temp2 = Q2.popleft() #최초의 temp는 (0,0) <- tuple\n",
    "    for i in range(4):\n",
    "        x = temp2[0]+dx2[i] # dx는 [-1,0,1,0] (0,-1) (0,0) (0,1) (0,0) # 상하좌우 좌표값을 모두 탐색한다\n",
    "        y = temp2[1]+dy2[i]\n",
    "        if 0 <= x <=6 and 0<=y <=6 and matrix2[x][y] ==0 :\n",
    "            matrix2[x][y]=8 # 다녀간곳은 1로 표시해 벽으로 만든다\n",
    "            dis2[x][y] = dis2[temp2[0]][temp2[1]] + 1\n",
    "            Q2.append((x,y))\n",
    "            print(q)\n",
    "            \n",
    "if dis2[6][6]  == 0:\n",
    "    print(-1)\n",
    "else:\n",
    "    print(dis2[6][6])"
   ]
  },
  {
   "cell_type": "code",
   "execution_count": 8,
   "metadata": {},
   "outputs": [
    {
     "data": {
      "text/plain": [
       "[[8, 0, 0, 0, 0, 0, 0],\n",
       " [0, 1, 1, 1, 1, 1, 0],\n",
       " [0, 0, 0, 1, 0, 0, 0],\n",
       " [1, 1, 0, 1, 0, 1, 1],\n",
       " [1, 1, 0, 0, 0, 0, 1],\n",
       " [1, 1, 0, 1, 1, 0, 0],\n",
       " [1, 0, 0, 0, 0, 0, 0]]"
      ]
     },
     "execution_count": 8,
     "metadata": {},
     "output_type": "execute_result"
    }
   ],
   "source": [
    "matrix2"
   ]
  },
  {
   "cell_type": "code",
   "execution_count": 9,
   "metadata": {},
   "outputs": [
    {
     "data": {
      "text/plain": [
       "[[0, 0, 0, 0, 0, 0, 0],\n",
       " [0, 0, 0, 0, 0, 0, 0],\n",
       " [0, 0, 0, 0, 0, 0, 0],\n",
       " [0, 0, 0, 0, 0, 0, 0],\n",
       " [0, 0, 0, 0, 0, 0, 0],\n",
       " [0, 0, 0, 0, 0, 0, 0],\n",
       " [0, 0, 0, 0, 0, 0, 0]]"
      ]
     },
     "execution_count": 9,
     "metadata": {},
     "output_type": "execute_result"
    }
   ],
   "source": [
    "dis2"
   ]
  },
  {
   "cell_type": "code",
   "execution_count": null,
   "metadata": {},
   "outputs": [],
   "source": [
    "matrix3 = [[0,0,0,],\n",
    "          [0,1,0],\n",
    "          [0,0,0]]\n",
    "dx=[-1,0,1,0]\n",
    "dy=[0,1,0,-1]"
   ]
  }
 ],
 "metadata": {
  "kernelspec": {
   "display_name": "Python 3",
   "language": "python",
   "name": "python3"
  },
  "language_info": {
   "codemirror_mode": {
    "name": "ipython",
    "version": 3
   },
   "file_extension": ".py",
   "mimetype": "text/x-python",
   "name": "python",
   "nbconvert_exporter": "python",
   "pygments_lexer": "ipython3",
   "version": "3.8.3"
  }
 },
 "nbformat": 4,
 "nbformat_minor": 4
}
