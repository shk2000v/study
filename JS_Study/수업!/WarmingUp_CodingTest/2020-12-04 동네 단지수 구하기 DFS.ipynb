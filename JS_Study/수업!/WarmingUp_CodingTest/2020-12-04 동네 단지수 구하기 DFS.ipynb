{
 "cells": [
  {
   "cell_type": "markdown",
   "metadata": {},
   "source": [
    "1은 집이 있는 곳을\n",
    "\n",
    "0은 집이 없는 곳을 나타낸다.\n",
    "\n",
    "철수는 이 지도를 가지고 연결된 집들의 모임인 단지를 정의하고, 단지에 번호르 ㄹ붙이려 한다.\n",
    "\n",
    "여기에 연결되었다는것은 어떤집이 좌우, 혹은 아래위로 다른집이 있는 경우를 말한다.\n",
    "대각선상에 집이 있는 경우는 연결된 것이 아니다 "
   ]
  },
  {
   "cell_type": "code",
   "execution_count": null,
   "metadata": {},
   "outputs": [],
   "source": [
    "from collections import deque\n",
    "with open(\"동네단지in1.txt\", \"r\") as f:\n",
    "    n = int(f.readline())\n",
    "    matrix = [list(map(int,f.readline().split())) for _ in range(n)]\n",
    "    \n",
    "dx = [-1,0,1,0]\n",
    "dy = [0,1,0,-1]\n",
    "\n",
    "ckd_tbl = [[0]*n for _ in range(n)]\n",
    "cnt = 0\n",
    "numlist = [] \n",
    "\n",
    "def DFS(row,col):\n",
    "    matrix[row][col] == 0 # 다녀간곳은 탐색할때 안걸리도록 0으로 만든다\n",
    "    for i in range(4):\n",
    "        x= row+dx[i]\n",
    "        y= col+dy[i]\n",
    "        if 0 <= x <=n and 0<=y <=n and matrix[x][y] ==1 :\n",
    "            ckd_tbl[row][col] = cnt\n",
    "            DFS(x,y)\n",
    "            \n",
    "            \n",
    "            \n",
    "            \n",
    "# Q = deque()\n",
    "for i in range(n):\n",
    "    for j in range(n):\n",
    "        if matrix[i][j] == 1:\n",
    "            DFS(i,j)\n",
    "            cnt+=1"
   ]
  },
  {
   "cell_type": "code",
   "execution_count": null,
   "metadata": {},
   "outputs": [],
   "source": [
    "ckd_tbl"
   ]
  },
  {
   "cell_type": "code",
   "execution_count": null,
   "metadata": {},
   "outputs": [],
   "source": [
    "matrix"
   ]
  },
  {
   "cell_type": "markdown",
   "metadata": {},
   "source": [
    "# 선생님 풀이"
   ]
  },
  {
   "cell_type": "code",
   "execution_count": 12,
   "metadata": {},
   "outputs": [
    {
     "name": "stdout",
     "output_type": "stream",
     "text": [
      "4 [3, 5, 10, 22]\n"
     ]
    }
   ],
   "source": [
    "# 초기화 세팅\n",
    "with open(\"동네단지in1.txt\", \"r\") as f:\n",
    "    n = int(f.readline())\n",
    "    matrix = [list(map(int,f.readline().split())) for _ in range(n)]\n",
    "\n",
    "    \n",
    "dx = [-1,0,1,0]\n",
    "dy = [0,1,0,-1]\n",
    "\n",
    "\n",
    "def DFS(row,col):\n",
    "    global h_cnt\n",
    "    h_cnt +=1\n",
    "    matrix[row][col] = 8\n",
    "    for i in range(4):\n",
    "        nrow = row + dx[i]\n",
    "        ncol = col + dy[i]\n",
    "        if 0<= nrow < n and 0<= ncol < n and matrix[nrow][ncol] == 1:\n",
    "            DFS(nrow,ncol)\n",
    "\n",
    "\n",
    "danji = []\n",
    "for i in range(n):\n",
    "    for j in range(n):\n",
    "        if matrix[i][j] == 1:\n",
    "            h_cnt = 0\n",
    "            DFS(i,j)\n",
    "            danji.append(h_cnt)\n",
    "print(len(danji), sorted(danji))"
   ]
  },
  {
   "cell_type": "code",
   "execution_count": 8,
   "metadata": {},
   "outputs": [
    {
     "data": {
      "text/plain": [
       "[[0, 0, 8, 0, 8, 0, 8, 8],\n",
       " [8, 8, 8, 0, 8, 8, 0, 8],\n",
       " [0, 8, 8, 8, 0, 8, 8, 8],\n",
       " [8, 0, 0, 8, 8, 8, 8, 0],\n",
       " [8, 0, 0, 8, 0, 8, 0, 8],\n",
       " [8, 8, 8, 0, 8, 0, 8, 8],\n",
       " [0, 0, 8, 0, 8, 8, 0, 8],\n",
       " [8, 8, 8, 8, 0, 0, 0, 8]]"
      ]
     },
     "execution_count": 8,
     "metadata": {},
     "output_type": "execute_result"
    }
   ],
   "source": [
    "matrix"
   ]
  },
  {
   "cell_type": "code",
   "execution_count": 5,
   "metadata": {},
   "outputs": [
    {
     "name": "stdout",
     "output_type": "stream",
     "text": [
      "4 [3, 5, 10, 22]\n"
     ]
    }
   ],
   "source": [
    "f = open(\"동네단지in1.txt\", \"r\")\n",
    "n=int(f.readline())\n",
    "matrix = [list(map(int, f.readline().split())) for _ in range(n)]\n",
    "\n",
    "dx=[-1,0,1,0]\n",
    "dy=[0,1,0,-1]\n",
    "\n",
    "def DFS(row,col):\n",
    "    global h_cnt\n",
    "    h_cnt +=1\n",
    "    matrix[row][col]=8\n",
    "    for i in range(4):\n",
    "        n_row = row+dx[i]\n",
    "        n_col = col+dy[i]\n",
    "        if 0<= n_row < n and 0<= n_col < n and matrix[n_row][n_col]==1:\n",
    "            DFS(n_row,n_col)\n",
    "\n",
    "danji=[]\n",
    "for i in range(n):\n",
    "    for j in range(n):\n",
    "        if matrix[i][j] == 1:\n",
    "            h_cnt=0\n",
    "            DFS(i,j)\n",
    "            danji.append(h_cnt)\n",
    "\n",
    "print(len(danji), sorted(danji))\n",
    "\n",
    "f.close()\n",
    "\n",
    "\n",
    "            \n",
    "\n",
    "\n"
   ]
  },
  {
   "cell_type": "code",
   "execution_count": null,
   "metadata": {},
   "outputs": [],
   "source": []
  }
 ],
 "metadata": {
  "kernelspec": {
   "display_name": "Python 3",
   "language": "python",
   "name": "python3"
  },
  "language_info": {
   "codemirror_mode": {
    "name": "ipython",
    "version": 3
   },
   "file_extension": ".py",
   "mimetype": "text/x-python",
   "name": "python",
   "nbconvert_exporter": "python",
   "pygments_lexer": "ipython3",
   "version": "3.8.3"
  }
 },
 "nbformat": 4,
 "nbformat_minor": 4
}
