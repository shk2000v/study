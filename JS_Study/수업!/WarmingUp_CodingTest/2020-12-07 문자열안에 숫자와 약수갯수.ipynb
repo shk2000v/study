{
 "cells": [
  {
   "cell_type": "markdown",
   "metadata": {},
   "source": [
    "문자와 숫자가 섞여있는 문자열이 주어지면 그 중 숫자만 추출하여 그 순서대로 자연수를 만듭니다 만들어진 자연수와 그 자연수의 약수 개수를 출력합니다.\n",
    "\n",
    "toeoa1c2hoer 에서 숫자만 추출하면 00120  이것을 자연수로 만들면 120\n",
    "\n",
    "출력은 120을 출력하고 약수의 갯수도 출력\n",
    "\n",
    "- g0en2Ts8eSoft 라면\n",
    "- 28과 6이 출력되어야 한다\n",
    "\n",
    "28 // 1 2 4 7 11 28"
   ]
  },
  {
   "cell_type": "code",
   "execution_count": 9,
   "metadata": {},
   "outputs": [],
   "source": [
    "#약수 갯수 구하는 식\n",
    "n = 20\n",
    "cnt = 0\n",
    "for i in range(1, n+1):\n",
    "    if n % i == 0:\n",
    "        cnt +=1\n"
   ]
  },
  {
   "cell_type": "code",
   "execution_count": 10,
   "metadata": {},
   "outputs": [
    {
     "data": {
      "text/plain": [
       "6"
      ]
     },
     "execution_count": 10,
     "metadata": {},
     "output_type": "execute_result"
    }
   ],
   "source": [
    "cnt"
   ]
  },
  {
   "cell_type": "code",
   "execution_count": 26,
   "metadata": {},
   "outputs": [
    {
     "name": "stdout",
     "output_type": "stream",
     "text": [
      "추출한 숫자는28이며 약수의 개수는 6개 입니다\n"
     ]
    }
   ],
   "source": [
    "# 문자열내에서 숫자 추출\n",
    "\n",
    "sen = \"g0en2Ts8eSoft\"\n",
    "lst = []\n",
    "newnum = 0\n",
    "cnt = 0\n",
    "\n",
    "for xx in sen:\n",
    "    for yy in range(10):\n",
    "        if xx == str(yy):\n",
    "            lst.append(xx)\n",
    "# print(lst)\n",
    "newnum = int(\"\".join(lst))\n",
    "\n",
    "for k in range(1, newnum+1):\n",
    "    if newnum % k ==0:\n",
    "        cnt +=1\n",
    "\n",
    "print(\"추출한 숫자는{}이며 약수의 개수는 {}개 입니다\".format(newnum, cnt))\n"
   ]
  },
  {
   "cell_type": "code",
   "execution_count": 22,
   "metadata": {},
   "outputs": [
    {
     "data": {
      "text/plain": [
       "28"
      ]
     },
     "execution_count": 22,
     "metadata": {},
     "output_type": "execute_result"
    }
   ],
   "source": [
    "newnum"
   ]
  },
  {
   "cell_type": "markdown",
   "metadata": {},
   "source": [
    "# 선생님 풀이"
   ]
  },
  {
   "cell_type": "code",
   "execution_count": 31,
   "metadata": {},
   "outputs": [
    {
     "name": "stdout",
     "output_type": "stream",
     "text": [
      "kjnawd8p[;oinasd0\n",
      "80\n",
      "28\n"
     ]
    }
   ],
   "source": [
    "temp_str=input()\n",
    "num = 0\n",
    "for xx in temp_str:\n",
    "    if xx.isdecimal(): # 이게 뭔함수여?\n",
    "        num = num*10+int(xx)\n",
    "print(num)\n",
    "for i in range(1, num+1):\n",
    "    if (num % i == 0 ):\n",
    "        cnt +=1\n",
    "print(cnt)"
   ]
  },
  {
   "cell_type": "code",
   "execution_count": null,
   "metadata": {},
   "outputs": [],
   "source": []
  }
 ],
 "metadata": {
  "kernelspec": {
   "display_name": "Python 3",
   "language": "python",
   "name": "python3"
  },
  "language_info": {
   "codemirror_mode": {
    "name": "ipython",
    "version": 3
   },
   "file_extension": ".py",
   "mimetype": "text/x-python",
   "name": "python",
   "nbconvert_exporter": "python",
   "pygments_lexer": "ipython3",
   "version": "3.8.3"
  }
 },
 "nbformat": 4,
 "nbformat_minor": 4
}
