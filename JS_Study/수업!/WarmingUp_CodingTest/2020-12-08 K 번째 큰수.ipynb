{
 "cells": [
  {
   "cell_type": "markdown",
   "metadata": {},
   "source": [
    "# k번째 큰수\n",
    "\n",
    "현수는 1부터 100사이의 자연수가 적힌 N장의 카드를 가지고 있습니다. 같은 숫자으 ㅣ카드가 여러장 있을 수 있습니다.\n",
    "현수는 이 중 3장을 뽑아 각 카드에 적힌 수를 합한 값을 기록하려고 합니다. 3장을 뽑을 수 있는 모든 경우를 기록합니다.\n",
    "기록한 값 중 k번째로 큰 수를 출력하는 크로그램을 작성 하세요.\n",
    "\n",
    "만약 큰수부터 만들어진 수가 25 25 23 23 22 20 19 .... 이고 k값이 3이라면 k번째 큰값은 22입니다.\n",
    "\n",
    "10 3 \n",
    "13 15 34 23 45 65 33 11 26 42\n",
    "\n",
    "143"
   ]
  },
  {
   "cell_type": "code",
   "execution_count": null,
   "metadata": {},
   "outputs": [],
   "source": [
    "with open(\"k번째큰수in1.txt\", \"r\") as f:\n",
    "    n, k = map(int,f.readline().split())\n",
    "    card = sorted(list(map(int,f.readline().split())))\n",
    "\n",
    "max_value = 0\n",
    "for i in range()\n",
    "    "
   ]
  },
  {
   "cell_type": "code",
   "execution_count": null,
   "metadata": {},
   "outputs": [],
   "source": [
    "n"
   ]
  },
  {
   "cell_type": "code",
   "execution_count": null,
   "metadata": {},
   "outputs": [],
   "source": [
    "k"
   ]
  },
  {
   "cell_type": "code",
   "execution_count": null,
   "metadata": {},
   "outputs": [],
   "source": [
    "card"
   ]
  },
  {
   "cell_type": "code",
   "execution_count": null,
   "metadata": {},
   "outputs": [],
   "source": [
    "54+52+46"
   ]
  },
  {
   "cell_type": "markdown",
   "metadata": {},
   "source": [
    "# 선생님 풀이"
   ]
  },
  {
   "cell_type": "code",
   "execution_count": 2,
   "metadata": {},
   "outputs": [
    {
     "name": "stdout",
     "output_type": "stream",
     "text": [
      "152\n"
     ]
    }
   ],
   "source": [
    "with open(\"k번째큰수in1.txt\", \"r\") as f:\n",
    "    n, k = map(int,f.readline().split())\n",
    "    card = sorted(list(map(int,f.readline().split())))\n",
    "\n",
    "sum_list = set()\n",
    "for i in range(n):\n",
    "    for j in range(i+1,n):\n",
    "        for l in range(j+1,n):\n",
    "            sum_list.add(card[i]+card[j]+card[l]) # 들어가면서 중복이 제거된다\n",
    "            \n",
    "sum_list = list(sum_list)\n",
    "sum_list.sort(reverse=True) # 내림차순으로 소트하게 된다\n",
    "print(sum_list[k-1])\n"
   ]
  },
  {
   "cell_type": "code",
   "execution_count": 4,
   "metadata": {},
   "outputs": [
    {
     "name": "stdout",
     "output_type": "stream",
     "text": [
      "0 1 2\n",
      "0 1 3\n",
      "0 1 4\n",
      "0 1 5\n",
      "0 1 6\n",
      "0 1 7\n",
      "0 1 8\n",
      "0 1 9\n",
      "0 2 3\n",
      "0 2 4\n",
      "0 2 5\n",
      "0 2 6\n",
      "0 2 7\n",
      "0 2 8\n",
      "0 2 9\n",
      "0 3 4\n",
      "0 3 5\n",
      "0 3 6\n",
      "0 3 7\n",
      "0 3 8\n",
      "0 3 9\n",
      "0 4 5\n",
      "0 4 6\n",
      "0 4 7\n",
      "0 4 8\n",
      "0 4 9\n",
      "0 5 6\n",
      "0 5 7\n",
      "0 5 8\n",
      "0 5 9\n",
      "0 6 7\n",
      "0 6 8\n",
      "0 6 9\n",
      "0 7 8\n",
      "0 7 9\n",
      "0 8 9\n",
      "1 2 3\n",
      "1 2 4\n",
      "1 2 5\n",
      "1 2 6\n",
      "1 2 7\n",
      "1 2 8\n",
      "1 2 9\n",
      "1 3 4\n",
      "1 3 5\n",
      "1 3 6\n",
      "1 3 7\n",
      "1 3 8\n",
      "1 3 9\n",
      "1 4 5\n",
      "1 4 6\n",
      "1 4 7\n",
      "1 4 8\n",
      "1 4 9\n",
      "1 5 6\n",
      "1 5 7\n",
      "1 5 8\n",
      "1 5 9\n",
      "1 6 7\n",
      "1 6 8\n",
      "1 6 9\n",
      "1 7 8\n",
      "1 7 9\n",
      "1 8 9\n",
      "2 3 4\n",
      "2 3 5\n",
      "2 3 6\n",
      "2 3 7\n",
      "2 3 8\n",
      "2 3 9\n",
      "2 4 5\n",
      "2 4 6\n",
      "2 4 7\n",
      "2 4 8\n",
      "2 4 9\n",
      "2 5 6\n",
      "2 5 7\n",
      "2 5 8\n",
      "2 5 9\n",
      "2 6 7\n",
      "2 6 8\n",
      "2 6 9\n",
      "2 7 8\n",
      "2 7 9\n",
      "2 8 9\n",
      "3 4 5\n",
      "3 4 6\n",
      "3 4 7\n",
      "3 4 8\n",
      "3 4 9\n",
      "3 5 6\n",
      "3 5 7\n",
      "3 5 8\n",
      "3 5 9\n",
      "3 6 7\n",
      "3 6 8\n",
      "3 6 9\n",
      "3 7 8\n",
      "3 7 9\n",
      "3 8 9\n",
      "4 5 6\n",
      "4 5 7\n",
      "4 5 8\n",
      "4 5 9\n",
      "4 6 7\n",
      "4 6 8\n",
      "4 6 9\n",
      "4 7 8\n",
      "4 7 9\n",
      "4 8 9\n",
      "5 6 7\n",
      "5 6 8\n",
      "5 6 9\n",
      "5 7 8\n",
      "5 7 9\n",
      "5 8 9\n",
      "6 7 8\n",
      "6 7 9\n",
      "6 8 9\n",
      "7 8 9\n",
      "143\n"
     ]
    }
   ],
   "source": [
    "n,k = (10, 3) \n",
    "card = [13, 15, 34, 23, 45, 65, 33, 11, 26, 42]\n",
    "\n",
    "sum_list = set()\n",
    "for i in range(n):\n",
    "    for j in range(i+1,n):\n",
    "        for l in range(j+1,n):\n",
    "            sum_list.add(card[i]+card[j]+card[l]) # 들어가면서 중복이 제거된다\n",
    "            print(i,j,l)\n",
    "            \n",
    "sum_list = list(sum_list)\n",
    "sum_list.sort(reverse=True) # 내림차순으로 소트하게 된다\n",
    "print(sum_list[k-1])"
   ]
  },
  {
   "cell_type": "code",
   "execution_count": null,
   "metadata": {},
   "outputs": [],
   "source": []
  }
 ],
 "metadata": {
  "kernelspec": {
   "display_name": "Python 3",
   "language": "python",
   "name": "python3"
  },
  "language_info": {
   "codemirror_mode": {
    "name": "ipython",
    "version": 3
   },
   "file_extension": ".py",
   "mimetype": "text/x-python",
   "name": "python",
   "nbconvert_exporter": "python",
   "pygments_lexer": "ipython3",
   "version": "3.8.3"
  }
 },
 "nbformat": 4,
 "nbformat_minor": 4
}
