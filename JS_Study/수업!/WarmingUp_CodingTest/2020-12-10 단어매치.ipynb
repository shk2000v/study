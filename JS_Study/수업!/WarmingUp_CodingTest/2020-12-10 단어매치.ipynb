{
 "cells": [
  {
   "cell_type": "markdown",
   "metadata": {},
   "source": [
    "같은 단어끼리 Match를 맺는데 Match가 안되는 단어를 찾아서 출력을 하세요\n",
    "\n",
    "2n-1개의 단어가 들어온다\n",
    "\n",
    "5\n",
    "big\n",
    "good\n",
    "sky\n",
    "blue\n",
    "mouse\n",
    "sky\n",
    "good\n",
    "mouse\n",
    "big\n",
    "\n",
    "blue"
   ]
  },
  {
   "cell_type": "code",
   "execution_count": 18,
   "metadata": {},
   "outputs": [
    {
     "name": "stdout",
     "output_type": "stream",
     "text": [
      "blue\n"
     ]
    }
   ],
   "source": [
    "with open(\"단어매치in1.txt\", \"r\") as f:\n",
    "    n = int(f.readline())\n",
    "    ma = []\n",
    "    for _ in range((2*n)-1):\n",
    "        ma += (f.readline().split())\n",
    "    \n",
    "    for i in ma:\n",
    "        if ma.count(i) == 1:\n",
    "            print(i)"
   ]
  },
  {
   "cell_type": "code",
   "execution_count": 12,
   "metadata": {},
   "outputs": [
    {
     "data": {
      "text/plain": [
       "['big', 'good', 'sky', 'blue', 'mouse', 'sky', 'good', 'mouse', 'big']"
      ]
     },
     "execution_count": 12,
     "metadata": {},
     "output_type": "execute_result"
    }
   ],
   "source": []
  },
  {
   "cell_type": "markdown",
   "metadata": {},
   "source": [
    "# 선생님 풀이 및 예제"
   ]
  },
  {
   "cell_type": "code",
   "execution_count": null,
   "metadata": {},
   "outputs": [],
   "source": [
    "f = open(\"단어매치in1.txt\", \"r\")\n",
    "n = int(f.readline())\n",
    "sw=dic()\n",
    "for i in range(2*n-1):\n",
    "    word=f.readline()\n",
    "    if sw.get(word) == None:\n",
    "        sw[word]=1\n",
    "    else:\n",
    "        sw[word] +=1\n",
    "for key, vla in sw.items():\n",
    "    if val ==1:\n",
    "        print(key)\n",
    "        break\n",
    "f.close()\n"
   ]
  }
 ],
 "metadata": {
  "kernelspec": {
   "display_name": "Python 3",
   "language": "python",
   "name": "python3"
  },
  "language_info": {
   "codemirror_mode": {
    "name": "ipython",
    "version": 3
   },
   "file_extension": ".py",
   "mimetype": "text/x-python",
   "name": "python",
   "nbconvert_exporter": "python",
   "pygments_lexer": "ipython3",
   "version": "3.8.3"
  }
 },
 "nbformat": 4,
 "nbformat_minor": 4
}
