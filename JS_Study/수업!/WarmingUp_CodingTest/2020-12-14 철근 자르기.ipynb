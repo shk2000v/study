{
 "cells": [
  {
   "cell_type": "markdown",
   "metadata": {},
   "source": [
    "레이저는 여는 괄호와 닫는 괄호의 인접한 쌍 '()' 으로 표현된다.\n",
    "또한, 모든 '()' 는 반드시 레이저를 표현한다. 철근의 왼쪽 끝은 여는 괄호 '('로, 오른쪾 끝은 닫힌 괄호')'로 표현된다.\n",
    "\n",
    "철근은 레이저에 의해 몇개의 조각으로 잘려지는데, 예에서 가장 위에있는 두개의 철근은 각각 3개와 2개의 조각으로 잘려지고, 이와 같은 방식으로 주어진 철근들은 총 17개의 조각으로 잘려진다.\n",
    "\n",
    "철근과 레이저의 배치를 나타내는 괄호표현이 주어질때 잘려진 철근 조각의 총 개수는?\n",
    "\n",
    "()(((()())(())()))(())   => 17\n",
    "(((()(()()))(())()))(()()) => 24\n",
    "\n",
    "철근 1 => 17\n",
    "철근 2 => 24 \n",
    "철근 3 => 48"
   ]
  },
  {
   "cell_type": "code",
   "execution_count": 36,
   "metadata": {},
   "outputs": [
    {
     "name": "stdout",
     "output_type": "stream",
     "text": [
      "(((()(()()))(())()))(()())\n",
      "['(']\n",
      "0\n",
      "['(', '(']\n",
      "0\n",
      "['(', '(', '(']\n",
      "0\n",
      "['(', '(', '(', '(']\n",
      "0\n",
      "['(', '(', '(', '(', ')']\n",
      "0\n",
      "['(', '(', '(', '(']\n",
      "3\n",
      "['(', '(', '(', '(', '(']\n",
      "3\n",
      "['(', '(', '(', '(', '(', ')']\n",
      "3\n",
      "['(', '(', '(', '(', '(']\n",
      "7\n",
      "['(', '(', '(', '(', '(', ')']\n",
      "7\n",
      "['(', '(', '(', '(', ')']\n",
      "11\n",
      "['(', '(', '(', ')']\n",
      "14\n",
      "['(', '(', '(']\n",
      "16\n",
      "['(', '(', '(', '(']\n",
      "16\n",
      "['(', '(', '(', '(', ')']\n",
      "16\n",
      "['(', '(', '(', ')']\n",
      "19\n",
      "['(', '(', '(']\n",
      "21\n",
      "['(', '(', '(', ')']\n",
      "21\n",
      "['(', '(', ')']\n",
      "23\n",
      "['(', ')']\n",
      "24\n",
      "['(']\n",
      "24\n",
      "['(', '(']\n",
      "24\n",
      "['(', '(', ')']\n",
      "24\n",
      "['(', '(']\n",
      "25\n",
      "['(', '(', ')']\n",
      "25\n",
      "['(', ')']\n",
      "26\n"
     ]
    },
    {
     "data": {
      "text/plain": [
       "26"
      ]
     },
     "execution_count": 36,
     "metadata": {},
     "output_type": "execute_result"
    }
   ],
   "source": [
    "with open(\"철근in2.txt\", 'r') as f:\n",
    "    n = f.readline().strip(\"\\n\")\n",
    "    \n",
    "cnt = 0\n",
    "stack_n = []\n",
    "\n",
    "print(n)\n",
    "for i in n:\n",
    "    stack_n.append(i)\n",
    "    print(stack_n)\n",
    "    print(cnt)\n",
    "    if len(stack_n) >=2 and stack_n[-2] == '(' and stack_n[-1] == ')':\n",
    "        stack_n.pop()\n",
    "        stack_n.pop()\n",
    "        cnt += len(stack_n)\n",
    "cnt\n",
    "        \n"
   ]
  },
  {
   "cell_type": "code",
   "execution_count": 53,
   "metadata": {},
   "outputs": [
    {
     "name": "stdout",
     "output_type": "stream",
     "text": [
      "(((()(()()))(())()))(()())(((()(()()))(())()))(()())\n"
     ]
    },
    {
     "data": {
      "text/plain": [
       "52"
      ]
     },
     "execution_count": 53,
     "metadata": {},
     "output_type": "execute_result"
    }
   ],
   "source": [
    "# 선생님 풀이 후 수정시도 \n",
    "with open(\"철근in3.txt\", 'r') as f:\n",
    "    n = f.readline().strip(\"\\n\")\n",
    "    \n",
    "cnt = 0\n",
    "stack_n = []\n",
    "\n",
    "print(n)\n",
    "for i in n:\n",
    "    if i =='(':\n",
    "        stack_n.append(i)\n",
    "    else:\n",
    "        stack_n.pop()\n",
    "        cnt += len(stack_n)\n",
    "    \n",
    "cnt\n",
    "        \n"
   ]
  },
  {
   "cell_type": "code",
   "execution_count": 27,
   "metadata": {},
   "outputs": [
    {
     "data": {
      "text/plain": [
       "(')', ')')"
      ]
     },
     "execution_count": 27,
     "metadata": {},
     "output_type": "execute_result"
    }
   ],
   "source": []
  },
  {
   "cell_type": "code",
   "execution_count": 41,
   "metadata": {},
   "outputs": [
    {
     "name": "stdout",
     "output_type": "stream",
     "text": [
      "24\n"
     ]
    }
   ],
   "source": [
    "f = open(\"철근in2.txt\" , \"r\")\n",
    "ori = [ xx for xx in f.readline().replace(\"\\n\",'')]\n",
    "stack = []\n",
    "cnt = 0\n",
    "\n",
    "for i in range(len(ori)):\n",
    "    if ori[i] == '(':\n",
    "        stack.append(ori[i])\n",
    "    else: # '(' 가 아니면 내려온 조건 즉 ')'\n",
    "        if ori[i-1] == '(': # 이 자리가 레이저\n",
    "            stack.pop()\n",
    "            cnt += len(stack)\n",
    "        else: # 레이저 발사 안하고  ori[i-1] == ')'\n",
    "            stack.pop()\n",
    "            cnt += 1\n",
    "print(cnt)\n",
    "            \n",
    "f.close()"
   ]
  },
  {
   "cell_type": "code",
   "execution_count": null,
   "metadata": {},
   "outputs": [],
   "source": [
    "\n"
   ]
  }
 ],
 "metadata": {
  "kernelspec": {
   "display_name": "Python 3",
   "language": "python",
   "name": "python3"
  },
  "language_info": {
   "codemirror_mode": {
    "name": "ipython",
    "version": 3
   },
   "file_extension": ".py",
   "mimetype": "text/x-python",
   "name": "python",
   "nbconvert_exporter": "python",
   "pygments_lexer": "ipython3",
   "version": "3.8.3"
  }
 },
 "nbformat": 4,
 "nbformat_minor": 4
}
