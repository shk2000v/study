{
 "cells": [
  {
   "cell_type": "markdown",
   "metadata": {},
   "source": [
    "랜선의 길이는 4<= N <= 10 이다.\n",
    "\n",
    "예를들어 4m의 네트워크 선이 주어지면\n",
    "\n",
    "- 1 1 1 1 \n",
    "- 2 1 1 \n",
    "- 1 2 1\n",
    "- 1 1 2 \n",
    "- 2 2\n",
    "\n",
    "\n",
    "5가지 경우가 나온다"
   ]
  },
  {
   "cell_type": "code",
   "execution_count": null,
   "metadata": {},
   "outputs": [],
   "source": [
    "def DFS(XX):\n",
    "    global cnt\n",
    "#     print(\"XX = \", XX)\n",
    "#     print(\"cnt = \" , cnt)\n",
    "\n",
    "    if XX > n:\n",
    "        return\n",
    "    if XX == n:\n",
    "        cnt += 1\n",
    "    for i in range(2):\n",
    "        DFS(XX+k[i])\n",
    "        dis.append(k[i])\n",
    "            \n",
    "dis = []\n",
    "n = 4\n",
    "cnt = 0\n",
    "k = [1,2]\n",
    "DFS(0)\n",
    "print(cnt)"
   ]
  },
  {
   "cell_type": "code",
   "execution_count": null,
   "metadata": {},
   "outputs": [],
   "source": [
    "a = [1,1,1,1]"
   ]
  },
  {
   "cell_type": "code",
   "execution_count": null,
   "metadata": {},
   "outputs": [],
   "source": [
    "sum(a)"
   ]
  },
  {
   "cell_type": "code",
   "execution_count": 9,
   "metadata": {},
   "outputs": [
    {
     "name": "stdout",
     "output_type": "stream",
     "text": [
      "[1, 1, 1, 1, 1, 1]\n",
      "[1, 1, 1, 1, 2]\n",
      "[1, 1, 1, 2, 1]\n",
      "[1, 1, 2, 1, 1]\n",
      "[1, 1, 2, 2]\n",
      "[1, 2, 1, 1, 1]\n",
      "[1, 2, 1, 2]\n",
      "[1, 2, 2, 1]\n",
      "[2, 1, 1, 1, 1]\n",
      "[2, 1, 1, 2]\n",
      "[2, 1, 2, 1]\n",
      "[2, 2, 1, 1]\n",
      "[2, 2, 2]\n",
      "13\n"
     ]
    }
   ],
   "source": [
    "# 선생님 풀이\n",
    "# n = int(input())\n",
    "def DFS(node):\n",
    "    global cnt\n",
    "    if node> n:\n",
    "        return\n",
    "    if node == n:\n",
    "        cnt +=1\n",
    "        print(dis)\n",
    "    else:\n",
    "        for i in range(2):\n",
    "            dis.append(ar[i])\n",
    "            DFS(node + ar[i])\n",
    "            dis.pop()\n",
    "            \n",
    "    \n",
    "\n",
    "n = 6\n",
    "dis = []\n",
    "ar =[1,2]\n",
    "cnt = 0\n",
    "DFS(0)\n",
    "print(cnt)"
   ]
  },
  {
   "cell_type": "code",
   "execution_count": null,
   "metadata": {},
   "outputs": [],
   "source": []
  }
 ],
 "metadata": {
  "kernelspec": {
   "display_name": "Python 3",
   "language": "python",
   "name": "python3"
  },
  "language_info": {
   "codemirror_mode": {
    "name": "ipython",
    "version": 3
   },
   "file_extension": ".py",
   "mimetype": "text/x-python",
   "name": "python",
   "nbconvert_exporter": "python",
   "pygments_lexer": "ipython3",
   "version": "3.8.3"
  }
 },
 "nbformat": 4,
 "nbformat_minor": 4
}
