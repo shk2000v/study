{
 "cells": [
  {
   "cell_type": "markdown",
   "metadata": {},
   "source": [
    "자릿수의 합\n",
    "\n",
    "N 개의 자연수가 입력되면 각 자연수의 자릿수의 합을 구하고, \n",
    "\n",
    "그 합이 최대인 자연수를 출력하는 프로그램을 작성하세요.\n",
    "\n",
    "각 자연수의 자릿수의 합을 구하는 함수를 def digit_sum(x)를 꼭 작성해서 프로그래밍 하세요\n",
    "\n",
    "ex)\n",
    "3 \n",
    "\n",
    "12 23 45 # 1+2=3 // 2+3=5 // 4+5=9\n",
    "\n",
    "result => 45"
   ]
  },
  {
   "cell_type": "code",
   "execution_count": 16,
   "metadata": {},
   "outputs": [],
   "source": [
    "with open(\"자릿수합input1.txt\", \"r\") as f:\n",
    "    n = int(f.readline())\n",
    "    x = list(map(int,f.readline().split()))"
   ]
  },
  {
   "cell_type": "markdown",
   "metadata": {},
   "source": [
    "- 나열한 리스트의 각 요소는 int타입\n",
    "- 각 요소의 자릿수마다 더할수 있어야 한다.\n",
    "- 가장 큰값을 찾는 문제는 Max_value를 설정 할수있어야 한다.\n",
    "- 동점자 처리를 생각도 해야하며 그 대비를 위해 빈 리스트를 만들어놔야 한다"
   ]
  },
  {
   "cell_type": "code",
   "execution_count": 17,
   "metadata": {},
   "outputs": [
    {
     "data": {
      "text/plain": [
       "7"
      ]
     },
     "execution_count": 17,
     "metadata": {},
     "output_type": "execute_result"
    }
   ],
   "source": [
    "n"
   ]
  },
  {
   "cell_type": "code",
   "execution_count": 18,
   "metadata": {},
   "outputs": [
    {
     "data": {
      "text/plain": [
       "[137, 460, 603, 40, 521, 128, 125]"
      ]
     },
     "execution_count": 18,
     "metadata": {},
     "output_type": "execute_result"
    }
   ],
   "source": [
    "x"
   ]
  },
  {
   "cell_type": "code",
   "execution_count": 28,
   "metadata": {},
   "outputs": [
    {
     "name": "stdout",
     "output_type": "stream",
     "text": [
      "137\n",
      "460\n",
      "603\n",
      "40\n",
      "521\n",
      "128\n",
      "125\n"
     ]
    }
   ],
   "source": [
    "max_value = 0\n",
    "for i in x:\n",
    "    print(str(i))"
   ]
  },
  {
   "cell_type": "code",
   "execution_count": 51,
   "metadata": {},
   "outputs": [],
   "source": [
    "def ssss(x):\n",
    "    sum([int(i) for i in str(x)])"
   ]
  },
  {
   "cell_type": "code",
   "execution_count": 70,
   "metadata": {},
   "outputs": [],
   "source": []
  },
  {
   "cell_type": "code",
   "execution_count": null,
   "metadata": {},
   "outputs": [],
   "source": []
  },
  {
   "cell_type": "code",
   "execution_count": null,
   "metadata": {},
   "outputs": [],
   "source": []
  },
  {
   "cell_type": "markdown",
   "metadata": {},
   "source": [
    "# 선생님 풀이"
   ]
  },
  {
   "cell_type": "code",
   "execution_count": 78,
   "metadata": {},
   "outputs": [
    {
     "name": "stdout",
     "output_type": "stream",
     "text": [
      "884 659 "
     ]
    }
   ],
   "source": [
    "with open(\"자릿수합input2.txt\", \"r\") as f:\n",
    "    n = int(f.readline())\n",
    "    a = list(map(int,f.readline().split()))\n",
    "    \n",
    "def digit_sum(num):\n",
    "    return sum(map(int,str(num)))\n",
    "\n",
    "max_val = 0\n",
    "lst = []\n",
    "for xx in a:\n",
    "    tot = digit_sum(xx)\n",
    "    if tot >= max_val:\n",
    "        max_val =tot\n",
    "        lst.append(xx)\n",
    "        \n",
    "#슬라이싱 기법\n",
    "final = 0 \n",
    "for i in range(len(lst)-1,-1,-1):  # 인덱스 기법, 슬라이싱 방식을 리버스로 하는 방법\n",
    "    tot = digit_sum(lst[i])\n",
    "    if tot >= final :\n",
    "        final = tot\n",
    "        print(lst[i], end = \" \")"
   ]
  },
  {
   "cell_type": "code",
   "execution_count": 79,
   "metadata": {},
   "outputs": [
    {
     "data": {
      "text/plain": [
       "[770, 883, 659, 884]"
      ]
     },
     "execution_count": 79,
     "metadata": {},
     "output_type": "execute_result"
    }
   ],
   "source": [
    "lst"
   ]
  },
  {
   "cell_type": "code",
   "execution_count": null,
   "metadata": {},
   "outputs": [],
   "source": []
  },
  {
   "cell_type": "code",
   "execution_count": null,
   "metadata": {},
   "outputs": [],
   "source": []
  },
  {
   "cell_type": "code",
   "execution_count": 40,
   "metadata": {},
   "outputs": [
    {
     "data": {
      "text/plain": [
       "[137, 460, 603, 40, 521, 128, 125]"
      ]
     },
     "execution_count": 40,
     "metadata": {},
     "output_type": "execute_result"
    }
   ],
   "source": [
    "a"
   ]
  },
  {
   "cell_type": "code",
   "execution_count": 42,
   "metadata": {},
   "outputs": [
    {
     "name": "stdout",
     "output_type": "stream",
     "text": [
      "11,10,9,4,8,11,8,"
     ]
    }
   ],
   "source": [
    "for xx in a:\n",
    "    print(digit_sum(xx), end = \",\")"
   ]
  },
  {
   "cell_type": "markdown",
   "metadata": {},
   "source": [
    "# 왜 못풀었나 + 부족한 부분\n",
    "\n",
    "- 최대값 구하는 로직의 이해가 부족했음\n",
    "- 자릿수끼리의 합을 이용하는 로직을 너무 늦게 이해함...아직도 좀 부족한데 아무튼 이거에 사로잡혀서 시간을 너무 잡아먹음"
   ]
  },
  {
   "cell_type": "code",
   "execution_count": null,
   "metadata": {},
   "outputs": [],
   "source": []
  }
 ],
 "metadata": {
  "kernelspec": {
   "display_name": "Python 3",
   "language": "python",
   "name": "python3"
  },
  "language_info": {
   "codemirror_mode": {
    "name": "ipython",
    "version": 3
   },
   "file_extension": ".py",
   "mimetype": "text/x-python",
   "name": "python",
   "nbconvert_exporter": "python",
   "pygments_lexer": "ipython3",
   "version": "3.8.3"
  }
 },
 "nbformat": 4,
 "nbformat_minor": 4
}
