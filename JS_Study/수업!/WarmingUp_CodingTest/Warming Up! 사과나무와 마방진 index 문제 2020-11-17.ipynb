{
 "cells": [
  {
   "cell_type": "markdown",
   "metadata": {},
   "source": [
    "수학한 사과의 총 개수를 출력합니다.\n",
    "\n",
    "N x N의 격자판\n",
    "첫줄에 자연수 N(홀수)가 주어진다 (3 <= N <= 20 )\n",
    "두번째 줄부터 N줄에 걸쳐 각 줄에 N개의 자연수가 주어진다.\n",
    "이 자연수는 각 격자안에 있는 사과나무에 열린 사과의 개수이다.\n",
    "각 격자안의 사과의 개수는 100을 넘지않는다'\n",
    "\n",
    "\n",
    "\n",
    "인덱스 문제를 풀때는 항상 주변에 노트로 적으면서 풀어보자"
   ]
  },
  {
   "cell_type": "code",
   "execution_count": null,
   "metadata": {},
   "outputs": [],
   "source": []
  },
  {
   "cell_type": "code",
   "execution_count": 29,
   "metadata": {},
   "outputs": [],
   "source": [
    "f=open('사과나무in1.txt',\"r\")\n",
    "n = int(f.readline())\n",
    "a = [list(map(int,f.readline().split())) for _ in range(n)] \n",
    "# map 함수가 가장 빠르다\n",
    "# _ 를 왜 쓰나? index 쓸일이 없으니 그냥 range(n) 만큼만 회전시킨다"
   ]
  },
  {
   "cell_type": "markdown",
   "metadata": {},
   "source": [
    "피클로 저장????\n",
    "\n",
    "- 저장하고 읽어들일때 집합 튜플 리스트 같은 정보를 기억하기 위해\n",
    "- 이럴때 피클을 "
   ]
  },
  {
   "cell_type": "code",
   "execution_count": 30,
   "metadata": {},
   "outputs": [
    {
     "data": {
      "text/plain": [
       "[[74, 10, 31, 26, 59, 16, 89],\n",
       " [78, 44, 49, 1, 64, 33, 15],\n",
       " [9, 95, 70, 18, 22, 25, 40],\n",
       " [62, 77, 28, 3, 78, 75, 23],\n",
       " [82, 38, 20, 16, 42, 1, 79],\n",
       " [1, 24, 2, 25, 95, 26, 79],\n",
       " [4, 35, 46, 94, 70, 44, 83]]"
      ]
     },
     "execution_count": 30,
     "metadata": {},
     "output_type": "execute_result"
    }
   ],
   "source": [
    "a"
   ]
  },
  {
   "cell_type": "code",
   "execution_count": 47,
   "metadata": {},
   "outputs": [
    {
     "name": "stdout",
     "output_type": "stream",
     "text": [
      "183\n"
     ]
    }
   ],
   "source": [
    "result = 0\n",
    "mid = int(n/2)\n",
    "for i in range(n):\n",
    "    if i == 0 or n-1:\n",
    "        result += a[i][mid]\n",
    "\n",
    "print(result)"
   ]
  },
  {
   "cell_type": "code",
   "execution_count": 43,
   "metadata": {},
   "outputs": [
    {
     "data": {
      "text/plain": [
       "[10, 31, 26]"
      ]
     },
     "execution_count": 43,
     "metadata": {},
     "output_type": "execute_result"
    }
   ],
   "source": [
    "a[0][1:4]"
   ]
  },
  {
   "cell_type": "code",
   "execution_count": null,
   "metadata": {},
   "outputs": [],
   "source": []
  },
  {
   "cell_type": "markdown",
   "metadata": {},
   "source": [
    "# index 문제가 왜 안풀리는지 고민해보자 ㅠㅠ"
   ]
  },
  {
   "cell_type": "code",
   "execution_count": 57,
   "metadata": {},
   "outputs": [],
   "source": [
    "def N_Matrix(n):\n",
    "    import random\n",
    "    random.seed(0) # 랜덤시드는 시드를 맞추면 맞춘 시드끼리는 램덤으로 주어져도 값을 같게 맞출수있다\n",
    "    return [[random.randint(1,n*n) for i in range(n)] for j in range(n)]"
   ]
  },
  {
   "cell_type": "code",
   "execution_count": null,
   "metadata": {},
   "outputs": [],
   "source": []
  },
  {
   "cell_type": "code",
   "execution_count": 58,
   "metadata": {},
   "outputs": [
    {
     "name": "stdout",
     "output_type": "stream",
     "text": [
      "[7, 7, 1]\n",
      "[5, 9, 8]\n",
      "[7, 5, 8]\n"
     ]
    }
   ],
   "source": [
    "x = 3\n",
    "m1 = N_Matrix(x)\n",
    "for i in range(x):\n",
    "    print(m1[i])"
   ]
  },
  {
   "cell_type": "markdown",
   "metadata": {},
   "source": [
    "# 선생님 풀이"
   ]
  },
  {
   "cell_type": "code",
   "execution_count": 62,
   "metadata": {},
   "outputs": [
    {
     "name": "stdout",
     "output_type": "stream",
     "text": [
      "1049\n"
     ]
    }
   ],
   "source": [
    "f=open('사과나무in1.txt',\"r\")\n",
    "n = int(f.readline())\n",
    "a = [list(map(int,f.readline().split())) for _ in range(n)] \n",
    "\n",
    "sum = 0\n",
    "s=e=n//2 # 몫을 구하는거라 정수만 취한다\n",
    "# 시작은 s index이고 마지막은 e index 이다\n",
    "\n",
    "for i in range(n):\n",
    "    for j in range(s,e+1):\n",
    "        sum = sum + a[i][j]\n",
    "    if i < n//2 : \n",
    "        s= s -1 ; e= e+1\n",
    "    else:\n",
    "        s= s+1 ; e= e-1\n",
    "\n",
    "print(sum)\n",
    "f.close()"
   ]
  },
  {
   "cell_type": "code",
   "execution_count": 65,
   "metadata": {},
   "outputs": [],
   "source": [
    "# 사과나무 in 2 도 해보자\n",
    "# with 사용"
   ]
  },
  {
   "cell_type": "code",
   "execution_count": 64,
   "metadata": {},
   "outputs": [
    {
     "name": "stdout",
     "output_type": "stream",
     "text": [
      "1991\n"
     ]
    }
   ],
   "source": [
    "with open('사과나무in2.txt',\"r\") as f:\n",
    "    n = int(f.readline())\n",
    "    a = [list(map(int,f.readline().split())) for _ in range(n)] \n",
    "\n",
    "    sum = 0\n",
    "    s=e=n//2 # 몫을 구하는거라 정수만 취한다\n",
    "    # 시작은 s index이고 마지막은 e index 이다\n",
    "\n",
    "    for i in range(n):\n",
    "        for j in range(s,e+1):\n",
    "            sum = sum + a[i][j]\n",
    "        if i < n//2 : \n",
    "            s= s -1 ; e= e+1\n",
    "        else:\n",
    "            s= s+1 ; e= e-1\n",
    "\n",
    "    print(sum)"
   ]
  },
  {
   "cell_type": "markdown",
   "metadata": {},
   "source": [
    "대표적인 index 문제로 마방진을 구하는 문제가 있다\n",
    "\n",
    "\n",
    "- 4 9 2\n",
    "- 3 5 7\n",
    "- 8 1 6\n",
    "\n",
    "어느방향의 가로세로를 더해도 15가 나온다\n",
    "\n",
    "N*N Matrix 마방진을 만들어보세요..\n",
    "1. N은 홀수로 입력 받는다. N은 3이상이다.\n",
    "2. 가로세로대각선의 합이 같은 매트릭스를 만드세요"
   ]
  },
  {
   "cell_type": "code",
   "execution_count": 67,
   "metadata": {},
   "outputs": [
    {
     "ename": "SyntaxError",
     "evalue": "invalid syntax (<ipython-input-67-4e248f929b63>, line 4)",
     "output_type": "error",
     "traceback": [
      "\u001b[1;36m  File \u001b[1;32m\"<ipython-input-67-4e248f929b63>\"\u001b[1;36m, line \u001b[1;32m4\u001b[0m\n\u001b[1;33m    M =  for i in range(n) for j in range(n)\u001b[0m\n\u001b[1;37m         ^\u001b[0m\n\u001b[1;31mSyntaxError\u001b[0m\u001b[1;31m:\u001b[0m invalid syntax\n"
     ]
    }
   ],
   "source": [
    "# 마방진~ 일단 3x3\n",
    "\n",
    "def Matrix(N):\n",
    "    M =  for i in range(n) for j in range(n)"
   ]
  },
  {
   "cell_type": "markdown",
   "metadata": {},
   "source": [
    "# 선생님 풀이"
   ]
  },
  {
   "cell_type": "code",
   "execution_count": 74,
   "metadata": {},
   "outputs": [
    {
     "name": "stdout",
     "output_type": "stream",
     "text": [
      "n*n 마방진을 위한 n값을 입력(3이상, 홀수만)17\n",
      "[[155 174 193 212 231 250 269 288   1  20  39  58  77  96 115 134 153]\n",
      " [173 192 211 230 249 268 287  17  19  38  57  76  95 114 133 152 154]\n",
      " [191 210 229 248 267 286  16  18  37  56  75  94 113 132 151 170 172]\n",
      " [209 228 247 266 285  15  34  36  55  74  93 112 131 150 169 171 190]\n",
      " [227 246 265 284  14  33  35  54  73  92 111 130 149 168 187 189 208]\n",
      " [245 264 283  13  32  51  53  72  91 110 129 148 167 186 188 207 226]\n",
      " [263 282  12  31  50  52  71  90 109 128 147 166 185 204 206 225 244]\n",
      " [281  11  30  49  68  70  89 108 127 146 165 184 203 205 224 243 262]\n",
      " [ 10  29  48  67  69  88 107 126 145 164 183 202 221 223 242 261 280]\n",
      " [ 28  47  66  85  87 106 125 144 163 182 201 220 222 241 260 279   9]\n",
      " [ 46  65  84  86 105 124 143 162 181 200 219 238 240 259 278   8  27]\n",
      " [ 64  83 102 104 123 142 161 180 199 218 237 239 258 277   7  26  45]\n",
      " [ 82 101 103 122 141 160 179 198 217 236 255 257 276   6  25  44  63]\n",
      " [100 119 121 140 159 178 197 216 235 254 256 275   5  24  43  62  81]\n",
      " [118 120 139 158 177 196 215 234 253 272 274   4  23  42  61  80  99]\n",
      " [136 138 157 176 195 214 233 252 271 273   3  22  41  60  79  98 117]\n",
      " [137 156 175 194 213 232 251 270 289   2  21  40  59  78  97 116 135]]\n"
     ]
    }
   ],
   "source": [
    "import numpy as np\n",
    "n=int(input(\"n*n 마방진을 위한 n값을 입력(3이상, 홀수만)\"))\n",
    "matrix = np.zeros((n,n), dtype=int)\n",
    "\n",
    "s_row=0; s_col=n//2\n",
    "matrix[s_row, s_col] = 1\n",
    "row = 0; col = 0\n",
    "\n",
    "for i in range(2, n*n+1):\n",
    "    row = s_row # 전 위치값  row 값 보관\n",
    "    col = s_col # 전 위치값 col 값 보관\n",
    "    \n",
    "    s_row = s_row -1 ; s_col = s_col + 1\n",
    "    \n",
    "    if s_row < 0 :\n",
    "        s_row = n -1\n",
    "    if s_col > n-1 :\n",
    "        s_col = 0\n",
    "    \n",
    "    if matrix[s_row, s_col] == 0:\n",
    "        matrix[s_row, s_col] = i\n",
    "    else: #0이 아니면 다른 숫자가 있다는 얘기\n",
    "        s_row = row + 1 ; s_col = col\n",
    "        matrix[s_row, s_col] = i\n",
    "print(matrix)"
   ]
  },
  {
   "cell_type": "markdown",
   "metadata": {},
   "source": [
    "아 존나 어려워 ㅠㅠ\n",
    "일단 외워보자...안되도 정말 외워서 머리에 넣어보자"
   ]
  },
  {
   "cell_type": "code",
   "execution_count": 83,
   "metadata": {},
   "outputs": [],
   "source": [
    "\n",
    "a = range(10,1,-1)"
   ]
  },
  {
   "cell_type": "code",
   "execution_count": 84,
   "metadata": {},
   "outputs": [
    {
     "data": {
      "text/plain": [
       "[10, 9, 8, 7, 6, 5, 4, 3, 2]"
      ]
     },
     "execution_count": 84,
     "metadata": {},
     "output_type": "execute_result"
    }
   ],
   "source": [
    "list(a)"
   ]
  },
  {
   "cell_type": "code",
   "execution_count": null,
   "metadata": {},
   "outputs": [],
   "source": []
  }
 ],
 "metadata": {
  "kernelspec": {
   "display_name": "Python 3",
   "language": "python",
   "name": "python3"
  },
  "language_info": {
   "codemirror_mode": {
    "name": "ipython",
    "version": 3
   },
   "file_extension": ".py",
   "mimetype": "text/x-python",
   "name": "python",
   "nbconvert_exporter": "python",
   "pygments_lexer": "ipython3",
   "version": "3.8.3"
  }
 },
 "nbformat": 4,
 "nbformat_minor": 4
}
