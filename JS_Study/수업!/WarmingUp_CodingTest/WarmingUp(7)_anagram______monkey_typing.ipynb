{
 "cells": [
  {
   "cell_type": "markdown",
   "metadata": {},
   "source": [
    "testing_anagram(fword,sword) 함수를 만드세요\n",
    "\n",
    "애너그램 게임:( 스펠링 갯수를 모두 조합을 시켜 동일한 스펠링의 갯수를 갖는 단어/단어열)"
   ]
  },
  {
   "cell_type": "markdown",
   "metadata": {},
   "source": [
    "ex)\n",
    "\n",
    "listen, silent => true\n",
    "\n",
    "programming, gram Ring Mop => true"
   ]
  },
  {
   "cell_type": "markdown",
   "metadata": {},
   "source": [
    "해결방법?\n",
    "1. 공백 제거 \n",
    "2. 정렬하면 어차피 같은 스펠링에 같을 알파벳순이니깐 ㅇㅋ \n",
    "3. sort하면 일치하는지의 boolean을 확인할수있다 ㅇㅋ\n"
   ]
  },
  {
   "cell_type": "code",
   "execution_count": 22,
   "metadata": {},
   "outputs": [],
   "source": [
    "def testing_anagram(fword,sword):\n",
    "    if sorted(fword.replace(\" \",\"\").lower()) == sorted(sword.replace(\" \",\"\").lower()):\n",
    "        return True\n",
    "    else:\n",
    "        return False"
   ]
  },
  {
   "cell_type": "code",
   "execution_count": 23,
   "metadata": {},
   "outputs": [
    {
     "data": {
      "text/plain": [
       "True"
      ]
     },
     "execution_count": 23,
     "metadata": {},
     "output_type": "execute_result"
    }
   ],
   "source": [
    "testing_anagram(\"listen\", \"silent\")\n",
    "testing_anagram(\"programming\", \"gram Ring Mop\")"
   ]
  },
  {
   "cell_type": "markdown",
   "metadata": {},
   "source": [
    "# 문제2"
   ]
  },
  {
   "cell_type": "markdown",
   "metadata": {},
   "source": [
    "monkey_typing(data,words) 함수를 만드시오\n",
    "처리조건\n",
    "- 원숭이가 마구 컴퓨터 자팜을 두드린다\n",
    "- 호출할수의 인자는 첫번째는 스트링, 두번째는 소문자 단어 set으로 넘어간다.\n",
    "- 몇개의 단어가 의미가 있었는지 확인한다."
   ]
  },
  {
   "cell_type": "code",
   "execution_count": 40,
   "metadata": {},
   "outputs": [],
   "source": [
    "#조건 함수(String,set)\n",
    "def monkey_typing(data,words):\n",
    "    cnt = 0\n",
    "    for i in words:\n",
    "        if data.count(i) > 0:\n",
    "            cnt += 1\n",
    "    return cnt"
   ]
  },
  {
   "cell_type": "code",
   "execution_count": 41,
   "metadata": {},
   "outputs": [
    {
     "data": {
      "text/plain": [
       "1"
      ]
     },
     "execution_count": 41,
     "metadata": {},
     "output_type": "execute_result"
    }
   ],
   "source": [
    "a= \"how areyouwdyguhqwuythvqwkiudfvqwiytd\"\n",
    "b = {'how','are','you','hello'}\n",
    "a.count('how')"
   ]
  },
  {
   "cell_type": "code",
   "execution_count": 42,
   "metadata": {},
   "outputs": [
    {
     "data": {
      "text/plain": [
       "3"
      ]
     },
     "execution_count": 42,
     "metadata": {},
     "output_type": "execute_result"
    }
   ],
   "source": [
    "monkey_typing(a,b)"
   ]
  },
  {
   "cell_type": "code",
   "execution_count": 43,
   "metadata": {},
   "outputs": [],
   "source": [
    "def monkey_typing2(data,words):\n",
    "    cnt = 0\n",
    "    for i in words:\n",
    "        if i in data:\n",
    "            cnt += 1\n",
    "    return cnt"
   ]
  },
  {
   "cell_type": "code",
   "execution_count": 44,
   "metadata": {},
   "outputs": [
    {
     "data": {
      "text/plain": [
       "3"
      ]
     },
     "execution_count": 44,
     "metadata": {},
     "output_type": "execute_result"
    }
   ],
   "source": [
    "monkey_typing2(a,b)"
   ]
  },
  {
   "cell_type": "code",
   "execution_count": 45,
   "metadata": {},
   "outputs": [],
   "source": [
    "#  좀 더 파이써닉한 방법\n",
    "def monkey_typing2(data,words):\n",
    "    return len([xx for xx in words if xx in data])"
   ]
  },
  {
   "cell_type": "code",
   "execution_count": 46,
   "metadata": {},
   "outputs": [
    {
     "data": {
      "text/plain": [
       "3"
      ]
     },
     "execution_count": 46,
     "metadata": {},
     "output_type": "execute_result"
    }
   ],
   "source": [
    "monkey_typing2(a,b)"
   ]
  },
  {
   "cell_type": "code",
   "execution_count": null,
   "metadata": {},
   "outputs": [],
   "source": []
  }
 ],
 "metadata": {
  "kernelspec": {
   "display_name": "Python 3",
   "language": "python",
   "name": "python3"
  },
  "language_info": {
   "codemirror_mode": {
    "name": "ipython",
    "version": 3
   },
   "file_extension": ".py",
   "mimetype": "text/x-python",
   "name": "python",
   "nbconvert_exporter": "python",
   "pygments_lexer": "ipython3",
   "version": "3.8.3"
  }
 },
 "nbformat": 4,
 "nbformat_minor": 4
}
