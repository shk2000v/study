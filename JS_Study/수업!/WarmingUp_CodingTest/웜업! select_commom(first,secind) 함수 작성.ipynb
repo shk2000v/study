{
 "cells": [
  {
   "cell_type": "markdown",
   "metadata": {},
   "source": [
    "# 2020-11-16\n",
    "## Warming Up!!\n",
    "\n",
    "\n",
    "## 문제\n",
    "- 주어진 첫번째 문장과 두먼째 문장을 비교해서 공통된 단어를 출력하자"
   ]
  },
  {
   "cell_type": "code",
   "execution_count": null,
   "metadata": {},
   "outputs": [],
   "source": [
    "def select_common(first,second):\n",
    "    com = \"\"\n",
    "    for i in set(second.split(\",\")):\n",
    "        if i in set(first.split(\",\")):\n",
    "            com += i.strip()+\",\"\n",
    "    return com.rstrip(\",\")"
   ]
  },
  {
   "cell_type": "code",
   "execution_count": null,
   "metadata": {},
   "outputs": [],
   "source": [
    "print(select_common(\"one,two,three, six, two\", \"two, five, six\"))"
   ]
  },
  {
   "cell_type": "code",
   "execution_count": null,
   "metadata": {},
   "outputs": [],
   "source": [
    "print(select_common(\"Hello, World\", \"The, World, is ,very, beatiful\"))"
   ]
  },
  {
   "cell_type": "markdown",
   "metadata": {},
   "source": [
    "# 선생님 풀이\n",
    "- 교집합과 차집합 이용"
   ]
  },
  {
   "cell_type": "code",
   "execution_count": null,
   "metadata": {},
   "outputs": [],
   "source": [
    "fword = \"one,two,three, six, two\"\n",
    "sword = \"two, five, six\""
   ]
  },
  {
   "cell_type": "code",
   "execution_count": null,
   "metadata": {},
   "outputs": [],
   "source": [
    "aset =set(fword.replace(\" \", \"\").split(','))\n",
    "bset =set(sword.replace(\" \", \"\").split(','))"
   ]
  },
  {
   "cell_type": "code",
   "execution_count": null,
   "metadata": {},
   "outputs": [],
   "source": [
    "aset"
   ]
  },
  {
   "cell_type": "code",
   "execution_count": null,
   "metadata": {},
   "outputs": [],
   "source": [
    "bset"
   ]
  },
  {
   "cell_type": "code",
   "execution_count": null,
   "metadata": {},
   "outputs": [],
   "source": [
    "aset & bset"
   ]
  },
  {
   "cell_type": "code",
   "execution_count": null,
   "metadata": {},
   "outputs": [],
   "source": [
    "def select_common2(first, second):\n",
    "    aset, bset = set(fword.replace(\" \", \"\").split(',')),set(sword.replace(\" \", \"\").split(','))\n",
    "    return \",\".join(sorted(aset & bset))"
   ]
  },
  {
   "cell_type": "code",
   "execution_count": null,
   "metadata": {},
   "outputs": [],
   "source": [
    "select_common(fword, sword)"
   ]
  },
  {
   "cell_type": "markdown",
   "metadata": {},
   "source": [
    "\n",
    "# 중복되는건 집합을 생각하자!!!\n",
    "## 중복문제를 풀때 set과 not in 을 활용하자"
   ]
  },
  {
   "cell_type": "code",
   "execution_count": null,
   "metadata": {},
   "outputs": [],
   "source": []
  },
  {
   "cell_type": "code",
   "execution_count": null,
   "metadata": {},
   "outputs": [],
   "source": []
  },
  {
   "cell_type": "markdown",
   "metadata": {},
   "source": [
    "# *번외 로또 번호 뽑는 프로그램*"
   ]
  },
  {
   "cell_type": "code",
   "execution_count": null,
   "metadata": {},
   "outputs": [],
   "source": [
    "import random"
   ]
  },
  {
   "cell_type": "code",
   "execution_count": null,
   "metadata": {},
   "outputs": [],
   "source": [
    "def lotto():\n",
    "    return random.sample(range(1,46),6)"
   ]
  },
  {
   "cell_type": "code",
   "execution_count": null,
   "metadata": {},
   "outputs": [],
   "source": [
    "lotto()"
   ]
  },
  {
   "cell_type": "code",
   "execution_count": null,
   "metadata": {},
   "outputs": [],
   "source": []
  },
  {
   "cell_type": "code",
   "execution_count": null,
   "metadata": {},
   "outputs": [],
   "source": [
    "lotto_numlist = []\n",
    "cnt = 0\n",
    "while cnt < 6:\n",
    "    xx= random.randint(1,46)\n",
    "    if xx in lotto_numlist:\n",
    "        lotto_numlist.append(xx)\n",
    "        cnt += 1\n",
    "        \n",
    "print(lotto_numlist)"
   ]
  },
  {
   "cell_type": "code",
   "execution_count": null,
   "metadata": {},
   "outputs": [],
   "source": [
    "random.sample"
   ]
  },
  {
   "cell_type": "code",
   "execution_count": null,
   "metadata": {},
   "outputs": [],
   "source": [
    "유니크하다 == 중복되지않는다"
   ]
  },
  {
   "cell_type": "code",
   "execution_count": null,
   "metadata": {},
   "outputs": [],
   "source": []
  },
  {
   "cell_type": "markdown",
   "metadata": {},
   "source": [
    "# 처리조건\n",
    "- 10이상, 최소 한 대문자, 소문자, 숫자 한개는 반드시 포함하는 조합으로 패스워드를 만들어\n",
    "- 이 조건을 만족하면 True 그렇지 않으면 False  을 출력하는 함수를 만드시오\n",
    "\n",
    "- 위의 조건을 만족하는 함수를 만들었다면 이제는 특수문자를 반드시 포함하는 is_realgoodpw(data)함수로 확장해 보시오"
   ]
  },
  {
   "cell_type": "code",
   "execution_count": 1,
   "metadata": {},
   "outputs": [],
   "source": [
    "def is_goodpw(data):\n",
    "    if len(data) >=10:\n",
    "        if data != data.upper():\n",
    "            if data != data.lower():\n",
    "                if data in range(9):\n",
    "                    return True\n",
    "                else:\n",
    "                    return False\n",
    "            else:\n",
    "                return False\n",
    "        else:\n",
    "            return False\n",
    "    else:\n",
    "        return False"
   ]
  },
  {
   "cell_type": "code",
   "execution_count": 2,
   "metadata": {},
   "outputs": [
    {
     "name": "stdout",
     "output_type": "stream",
     "text": [
      "False\n"
     ]
    }
   ],
   "source": [
    "print(is_goodpw(\"tmdghks49409\"))"
   ]
  },
  {
   "cell_type": "code",
   "execution_count": 5,
   "metadata": {},
   "outputs": [
    {
     "name": "stdout",
     "output_type": "stream",
     "text": [
      "False\n"
     ]
    }
   ],
   "source": [
    "print(is_goodpw(\"Tmdghks4940\"))"
   ]
  },
  {
   "cell_type": "markdown",
   "metadata": {},
   "source": [
    "# 예시"
   ]
  },
  {
   "cell_type": "code",
   "execution_count": 9,
   "metadata": {},
   "outputs": [],
   "source": [
    "def is_goodpw2(data):\n",
    "    if len(data) < 10 : return False\n",
    "    if data.upper() == data: return False # 소문자가 없다는 뜻\n",
    "    if data.lower() == data : return False # 대문자가 없다는 뜻\n",
    "    return any(xx.isdigit() for xx in data)\n",
    "\n",
    "# isdigit 함수는 문자열이 숫자인지 아닌지를 True,False로 리턴\n",
    "# is alpha 함수는 문자열이 문자인지 아닌지를 True, False로 리턴"
   ]
  },
  {
   "cell_type": "code",
   "execution_count": 10,
   "metadata": {},
   "outputs": [
    {
     "data": {
      "text/plain": [
       "False"
      ]
     },
     "execution_count": 10,
     "metadata": {},
     "output_type": "execute_result"
    }
   ],
   "source": [
    "is_goodpw2(\"avcasdiuhwqiu1234\")"
   ]
  },
  {
   "cell_type": "code",
   "execution_count": 11,
   "metadata": {},
   "outputs": [
    {
     "data": {
      "text/plain": [
       "True"
      ]
     },
     "execution_count": 11,
     "metadata": {},
     "output_type": "execute_result"
    }
   ],
   "source": [
    "is_goodpw2(\"avcasdiuFwqiu1234\")"
   ]
  },
  {
   "cell_type": "code",
   "execution_count": 12,
   "metadata": {},
   "outputs": [
    {
     "ename": "SyntaxError",
     "evalue": "invalid syntax (<ipython-input-12-42b6a46dcc8f>, line 5)",
     "output_type": "error",
     "traceback": [
      "\u001b[1;36m  File \u001b[1;32m\"<ipython-input-12-42b6a46dcc8f>\"\u001b[1;36m, line \u001b[1;32m5\u001b[0m\n\u001b[1;33m    if any( xx in ['!','@','#','$','%','^','&','*'] for xx in data)\u001b[0m\n\u001b[1;37m                                                                   ^\u001b[0m\n\u001b[1;31mSyntaxError\u001b[0m\u001b[1;31m:\u001b[0m invalid syntax\n"
     ]
    }
   ],
   "source": [
    "def real_is_goodpw2(data):\n",
    "    if len(data) < 10 : return False\n",
    "    if data.upper() == data: return False # 소문자가 없다는 뜻\n",
    "    if data.lower() == data : return False # 대문자가 없다는 뜻\n",
    "    if any( xx in ['!','@','#','$','%','^','&','*'] for xx in data):\n",
    "        return any(xx.isdigit() for xx in data)\n",
    "    else L return False"
   ]
  },
  {
   "cell_type": "code",
   "execution_count": null,
   "metadata": {},
   "outputs": [],
   "source": []
  }
 ],
 "metadata": {
  "kernelspec": {
   "display_name": "Python 3",
   "language": "python",
   "name": "python3"
  },
  "language_info": {
   "codemirror_mode": {
    "name": "ipython",
    "version": 3
   },
   "file_extension": ".py",
   "mimetype": "text/x-python",
   "name": "python",
   "nbconvert_exporter": "python",
   "pygments_lexer": "ipython3",
   "version": "3.8.3"
  }
 },
 "nbformat": 4,
 "nbformat_minor": 4
}
