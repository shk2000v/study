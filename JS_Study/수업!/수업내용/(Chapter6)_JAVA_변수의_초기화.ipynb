{
 "cells": [
  {
   "cell_type": "markdown",
   "metadata": {},
   "source": [
    "# 자바\n",
    "\n",
    "instance method 에선\n",
    "\n",
    "static, static 변수 사용가능"
   ]
  },
  {
   "cell_type": "markdown",
   "metadata": {},
   "source": [
    "변수의 초기화\n",
    "- 변수를 선언하고 처음으로 값을 저장하는 것\n",
    "- 지역변수는 사용전에 꼭 초기화 해야한다"
   ]
  },
  {
   "cell_type": "markdown",
   "metadata": {},
   "source": [
    "# 자바의 상속!\n",
    "\n",
    "캡상추다!\n",
    "\n",
    "1. 캡슐화\n",
    "2. 상속\n",
    "3. 추상화\n",
    "4. 다향성"
   ]
  },
  {
   "cell_type": "markdown",
   "metadata": {},
   "source": [
    "맴버 = 변수(iv, cv) + method(i.m, c.m 다 포함)"
   ]
  },
  {
   "cell_type": "markdown",
   "metadata": {},
   "source": [
    "오버라이딩(overriding) =(비슷하게 over writing 이라고도 쓰는 사람이 있다)\n",
    "\n",
    "조상한테 물려받은 메서드를 나한테 맞춰 쓰는것\n",
    "\n",
    "(변수와 메서드)"
   ]
  },
  {
   "cell_type": "markdown",
   "metadata": {},
   "source": [
    "- 오버로딩은 기존에 없던 새로운 메서드를 정의\n",
    "- 오버라이딩은 상속받은 매서드의 내용을 변경하는것"
   ]
  },
  {
   "cell_type": "markdown",
   "metadata": {},
   "source": [
    "- this ( ) <= 자기 자신의 생성자\n",
    "- super( ) <= 조상의 생성자\n",
    "\n",
    "\n",
    "- this. == 참조변수 (iv 와 lv를 구분하기 위해서 사용한다)\n",
    "- super. == 참조변수 (조상의 iv나 cv를 참조하기 위해)"
   ]
  },
  {
   "cell_type": "code",
   "execution_count": null,
   "metadata": {},
   "outputs": [],
   "source": []
  }
 ],
 "metadata": {
  "kernelspec": {
   "display_name": "Python 3",
   "language": "python",
   "name": "python3"
  },
  "language_info": {
   "codemirror_mode": {
    "name": "ipython",
    "version": 3
   },
   "file_extension": ".py",
   "mimetype": "text/x-python",
   "name": "python",
   "nbconvert_exporter": "python",
   "pygments_lexer": "ipython3",
   "version": "3.8.3"
  }
 },
 "nbformat": 4,
 "nbformat_minor": 4
}
