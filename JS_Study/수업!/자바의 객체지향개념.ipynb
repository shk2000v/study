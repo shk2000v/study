{
 "cells": [
  {
   "cell_type": "markdown",
   "metadata": {},
   "source": [
    "# 자바의 객체 지향개념\n",
    "\n",
    "- 객체 지향 언어\n",
    "- Object oriented Program Language\n",
    "- 줄여서 OOP 라고 한다"
   ]
  },
  {
   "cell_type": "markdown",
   "metadata": {},
   "source": [
    "객체지향의 네가지 요소\n",
    "\n",
    "- 기존 프로그래밍언어와 크게 다르지 않다.\n",
    "- 코드의 재 사용성이 높다\n",
    "- 코드의 관리가 쉬워졌다\n",
    "- 신뢰성이 높은 프로그램의 개발을 가능하게 한다"
   ]
  },
  {
   "cell_type": "markdown",
   "metadata": {},
   "source": [
    "제어자= public, privite ..etc"
   ]
  },
  {
   "cell_type": "markdown",
   "metadata": {},
   "source": [
    "인스턴스화(instantiate)\n",
    "참조형을 가지는 변수를 만드는것"
   ]
  },
  {
   "cell_type": "markdown",
   "metadata": {},
   "source": [
    "클래스 = 데이터와 함수의 결합\n",
    "\n",
    "변수 => 배열 => 구조체 => 함수\n",
    "\n",
    "클래스를 잘 쓰면\n",
    "원하는 스타일대로 만들수있다\n"
   ]
  },
  {
   "cell_type": "code",
   "execution_count": null,
   "metadata": {},
   "outputs": [],
   "source": []
  }
 ],
 "metadata": {
  "kernelspec": {
   "display_name": "Python 3",
   "language": "python",
   "name": "python3"
  },
  "language_info": {
   "codemirror_mode": {
    "name": "ipython",
    "version": 3
   },
   "file_extension": ".py",
   "mimetype": "text/x-python",
   "name": "python",
   "nbconvert_exporter": "python",
   "pygments_lexer": "ipython3",
   "version": "3.8.3"
  }
 },
 "nbformat": 4,
 "nbformat_minor": 4
}
