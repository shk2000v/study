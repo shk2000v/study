{
 "cells": [
  {
   "cell_type": "markdown",
   "metadata": {},
   "source": [
    "# 11-10일자 수업"
   ]
  },
  {
   "cell_type": "code",
   "execution_count": 16,
   "metadata": {},
   "outputs": [],
   "source": [
    "\n",
    "#get_median(data) 함수를 만들고 중앙값을 return 하는 함수를 만드세요\n",
    "#[1,2,3,4,5] ==> return = 3.0\n",
    "#[1,2,3,4,5,6] == > return = 3.5\n",
    "\n",
    "# def get_median(data):\n",
    "#     data = data.sort()\n",
    "#     return ((data[0]+data[:-1]) / 2)\n",
    "\n",
    "#ex) [3,4,5,6,7] or [3,4,5,6,7,8]\n",
    "\n",
    "def get_median(data):\n",
    "    data = data.sort()\n",
    "    if len(data) % 2 == 1:\n",
    "        pass\n",
    "    else:\n",
    "        pass"
   ]
  },
  {
   "cell_type": "code",
   "execution_count": 19,
   "metadata": {},
   "outputs": [],
   "source": [
    "#더 나은 풀이\n",
    "def get_median3(data):\n",
    "    sorted(data)\n",
    "    center_index = len(data)//2\n",
    "    return (data[center_index]+data[-center_index-1])/2"
   ]
  },
  {
   "cell_type": "code",
   "execution_count": 20,
   "metadata": {},
   "outputs": [],
   "source": [
    "# Wqrming up  median 값 구하기 선생님 풀이\n",
    "\n",
    "def get_median2(data):\n",
    "    sorted(data)\n",
    "    center_index = len(data)//2\n",
    "    if(len(data % 2)) == 1:\n",
    "        return[center_index]\n",
    "    else:\n",
    "        return (data[center_index - 2] + data[center_index - 1]/ 2)"
   ]
  },
  {
   "cell_type": "code",
   "execution_count": 21,
   "metadata": {},
   "outputs": [],
   "source": [
    "def get_median5(data):\n",
    "    sorted(data)\n",
    "    return (data[0]+data[-1])/2"
   ]
  },
  {
   "cell_type": "code",
   "execution_count": 41,
   "metadata": {},
   "outputs": [
    {
     "data": {
      "text/plain": [
       "5.0"
      ]
     },
     "execution_count": 41,
     "metadata": {},
     "output_type": "execute_result"
    }
   ],
   "source": [
    "dataset=[3,5,6,2,4,7]\n",
    "dataset2=[2,3,4,5,6]\n",
    "get_median5(dataset)\n",
    "#get_median5(dataset2)"
   ]
  },
  {
   "cell_type": "code",
   "execution_count": 39,
   "metadata": {},
   "outputs": [],
   "source": [
    "def get_median6(data):\n",
    "    data.sort()\n",
    "    return (data[0]+data[-1])/2"
   ]
  },
  {
   "cell_type": "code",
   "execution_count": 42,
   "metadata": {},
   "outputs": [
    {
     "data": {
      "text/plain": [
       "4.5"
      ]
     },
     "execution_count": 42,
     "metadata": {},
     "output_type": "execute_result"
    }
   ],
   "source": [
    "get_median6(dataset)"
   ]
  },
  {
   "cell_type": "code",
   "execution_count": 43,
   "metadata": {},
   "outputs": [],
   "source": [
    "# 선생님 예제가 아닌 양끝을 더하는건 평균을 구하는것이고\n",
    "# 중앙값(median)데를 구하는것으로 정의되어져 있는것이다"
   ]
  },
  {
   "cell_type": "code",
   "execution_count": null,
   "metadata": {},
   "outputs": [],
   "source": []
  }
 ],
 "metadata": {
  "kernelspec": {
   "display_name": "Python 3",
   "language": "python",
   "name": "python3"
  },
  "language_info": {
   "codemirror_mode": {
    "name": "ipython",
    "version": 3
   },
   "file_extension": ".py",
   "mimetype": "text/x-python",
   "name": "python",
   "nbconvert_exporter": "python",
   "pygments_lexer": "ipython3",
   "version": "3.8.3"
  }
 },
 "nbformat": 4,
 "nbformat_minor": 4
}
