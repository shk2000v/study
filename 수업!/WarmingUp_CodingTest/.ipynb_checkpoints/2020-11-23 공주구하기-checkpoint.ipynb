{
 "cells": [
  {
   "cell_type": "markdown",
   "metadata": {},
   "source": [
    "공주구하기( 큐 자료구조로 해결)\n",
    "\n",
    "예를들어 총 8명의 왕자가 있고, 3을 외친 왕자가 제외된다고 하자.\n",
    "\n",
    "처음에는 3번 왕자가 3을 외쳐 제외된다. 이어 6,1,5,2,8,4번 왕자가 차레대로 제외되고 마지막까지 남게 된 7번 왕자에게 공주를 구하러갑니다."
   ]
  },
  {
   "cell_type": "code",
   "execution_count": null,
   "metadata": {},
   "outputs": [],
   "source": [
    "def deque(n,x):\n",
    "    member=list(map(int,range(1,n+1)))\n",
    "#     member=[xx for xx in range(1,n+1)]\n",
    "\n",
    "    while(len(member) != 1):\n",
    "        for i in range(x):\n",
    "            if i == x-1:\n",
    "                member.pop(0)\n",
    "            else:\n",
    "                member.append(member.pop(0))\n",
    "    return member"
   ]
  },
  {
   "cell_type": "code",
   "execution_count": null,
   "metadata": {},
   "outputs": [],
   "source": []
  },
  {
   "cell_type": "markdown",
   "metadata": {},
   "source": [
    "언제나 divide & conquer 가 핵심이다!"
   ]
  },
  {
   "cell_type": "code",
   "execution_count": 42,
   "metadata": {},
   "outputs": [
    {
     "data": {
      "text/plain": [
       "[7]"
      ]
     },
     "execution_count": 42,
     "metadata": {},
     "output_type": "execute_result"
    }
   ],
   "source": [
    "n = 8\n",
    "x = 3\n",
    "\n",
    "member=list(map(int,range(1,n+1)))\n",
    "\n",
    "while(len(member) != 1):\n",
    "    for i in range(x):\n",
    "        if i == x-1:\n",
    "            member.pop(0)\n",
    "        else:\n",
    "            member.append(member.pop(0))\n",
    "member"
   ]
  },
  {
   "cell_type": "code",
   "execution_count": 41,
   "metadata": {},
   "outputs": [
    {
     "data": {
      "text/plain": [
       "[7]"
      ]
     },
     "execution_count": 41,
     "metadata": {},
     "output_type": "execute_result"
    }
   ],
   "source": [
    "deque(8,3)"
   ]
  },
  {
   "cell_type": "code",
   "execution_count": 43,
   "metadata": {},
   "outputs": [
    {
     "data": {
      "text/plain": [
       "[3]"
      ]
     },
     "execution_count": 43,
     "metadata": {},
     "output_type": "execute_result"
    }
   ],
   "source": [
    "deque(20,7)"
   ]
  },
  {
   "cell_type": "code",
   "execution_count": 44,
   "metadata": {},
   "outputs": [
    {
     "data": {
      "text/plain": [
       "[50]"
      ]
     },
     "execution_count": 44,
     "metadata": {},
     "output_type": "execute_result"
    }
   ],
   "source": [
    "deque(100,7)"
   ]
  },
  {
   "cell_type": "markdown",
   "metadata": {},
   "source": [
    "# 선생님 풀이"
   ]
  },
  {
   "cell_type": "code",
   "execution_count": 46,
   "metadata": {},
   "outputs": [
    {
     "name": "stdout",
     "output_type": "stream",
     "text": [
      "n과 k를 컴마로 구분해서 입력하세요 = 8,3\n"
     ]
    }
   ],
   "source": [
    "n, k = map(int,input('n과 k를 컴마로 구분해서 입력하세요 = ').split(','))\n",
    "\n",
    "princes =list(range(1,n+1))\n",
    "\n",
    "while princes:\n",
    "    for _ in range(k-1):\n",
    "        tmp = princes.pop(0)\n",
    "    princes.pop(0)\n",
    "    if len(princes) == 1:\n",
    "        print(princes[0])\n",
    "        break"
   ]
  },
  {
   "cell_type": "code",
   "execution_count": 47,
   "metadata": {},
   "outputs": [
    {
     "data": {
      "text/plain": [
       "[1, 2, 3, 4, 5, 6, 7, 8]"
      ]
     },
     "execution_count": 47,
     "metadata": {},
     "output_type": "execute_result"
    }
   ],
   "source": [
    "princes"
   ]
  },
  {
   "cell_type": "code",
   "execution_count": null,
   "metadata": {},
   "outputs": [],
   "source": []
  },
  {
   "cell_type": "code",
   "execution_count": null,
   "metadata": {},
   "outputs": [],
   "source": []
  }
 ],
 "metadata": {
  "kernelspec": {
   "display_name": "Python 3",
   "language": "python",
   "name": "python3"
  },
  "language_info": {
   "codemirror_mode": {
    "name": "ipython",
    "version": 3
   },
   "file_extension": ".py",
   "mimetype": "text/x-python",
   "name": "python",
   "nbconvert_exporter": "python",
   "pygments_lexer": "ipython3",
   "version": "3.8.3"
  }
 },
 "nbformat": 4,
 "nbformat_minor": 4
}
