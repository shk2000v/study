{
 "cells": [
  {
   "cell_type": "markdown",
   "metadata": {},
   "source": [
    "- 바나나 농장에서는 바나나를 보관하는 큰 창고를 가지고 있다. 바나나는 아래의 그림과 같이 격자 모양의 상자의 칸에 넣어서 창고에 보관한다. 창고에 보관되는 바나나들 중에는 잘 익은것도 있지만 ,ㅡ 아직 익지 않은 바나나들도 있을 수 있다. 보관후 하루가 지나면, 익은 바나나들의 인접한 곳에 있는 익지 않은 바나나들은 익은 바나나의 영향을 받아 익게 된다.\n",
    "\n",
    "- 하나의 바나나의 인접한 곳은 왼쪽 오른쪾 앞 위  네방향에 있는 바나나를 의미한다. 대각선 방향에 있는 ㅂ바나나들에게는 영향을 주지 못하며, 바나나가 혼자 저절로 익는 경우는 없다고 가정한다. 현수는 창고에 보관된 바나나들이 며칠이 지나면 다 익게 되는지, 그 최소 일수를 알고싶어한다.\n",
    "- 바나나를 창고에 보관하는 격자모양의 상자들의 크기와 익은 바나나들과 익지 않은 바나나들의 정보가 주어졌으 때, 며칠이 지나면 바나나들이 모두 익는지, 그 최소 일수를 구하는 프로그램을 작성하라 , 단 상자의 일부칸엔 바나나가 들어있지않을 수도 있다.\n"
   ]
  },
  {
   "cell_type": "code",
   "execution_count": 48,
   "metadata": {},
   "outputs": [
    {
     "ename": "IndexError",
     "evalue": "list index out of range",
     "output_type": "error",
     "traceback": [
      "\u001b[1;31m---------------------------------------------------------------------------\u001b[0m",
      "\u001b[1;31mIndexError\u001b[0m                                Traceback (most recent call last)",
      "\u001b[1;32m<ipython-input-48-e22580a2f68e>\u001b[0m in \u001b[0;36m<module>\u001b[1;34m\u001b[0m\n\u001b[0;32m     23\u001b[0m         \u001b[0mx\u001b[0m\u001b[1;33m=\u001b[0m \u001b[0mtemp\u001b[0m\u001b[1;33m[\u001b[0m\u001b[1;36m0\u001b[0m\u001b[1;33m]\u001b[0m\u001b[1;33m+\u001b[0m\u001b[0mdx\u001b[0m\u001b[1;33m[\u001b[0m\u001b[0mi\u001b[0m\u001b[1;33m]\u001b[0m\u001b[1;33m\u001b[0m\u001b[1;33m\u001b[0m\u001b[0m\n\u001b[0;32m     24\u001b[0m         \u001b[0my\u001b[0m\u001b[1;33m=\u001b[0m \u001b[0mtemp\u001b[0m\u001b[1;33m[\u001b[0m\u001b[1;36m1\u001b[0m\u001b[1;33m]\u001b[0m\u001b[1;33m+\u001b[0m\u001b[0mdy\u001b[0m\u001b[1;33m[\u001b[0m\u001b[0mi\u001b[0m\u001b[1;33m]\u001b[0m\u001b[1;33m\u001b[0m\u001b[1;33m\u001b[0m\u001b[0m\n\u001b[1;32m---> 25\u001b[1;33m         \u001b[1;32mif\u001b[0m \u001b[1;36m0\u001b[0m \u001b[1;33m<=\u001b[0m \u001b[0mx\u001b[0m \u001b[1;33m<=\u001b[0m\u001b[1;36m10\u001b[0m \u001b[1;32mand\u001b[0m \u001b[1;36m0\u001b[0m\u001b[1;33m<=\u001b[0m\u001b[0my\u001b[0m \u001b[1;33m<=\u001b[0m\u001b[1;36m10\u001b[0m \u001b[1;32mand\u001b[0m \u001b[0mmatrix\u001b[0m\u001b[1;33m[\u001b[0m\u001b[0mx\u001b[0m\u001b[1;33m]\u001b[0m\u001b[1;33m[\u001b[0m\u001b[0my\u001b[0m\u001b[1;33m]\u001b[0m \u001b[1;33m==\u001b[0m\u001b[1;36m0\u001b[0m \u001b[1;33m:\u001b[0m\u001b[1;33m\u001b[0m\u001b[1;33m\u001b[0m\u001b[0m\n\u001b[0m\u001b[0;32m     26\u001b[0m             \u001b[0mmatrix\u001b[0m\u001b[1;33m[\u001b[0m\u001b[0mx\u001b[0m\u001b[1;33m]\u001b[0m\u001b[1;33m[\u001b[0m\u001b[0my\u001b[0m\u001b[1;33m]\u001b[0m\u001b[1;33m=\u001b[0m\u001b[1;36m1\u001b[0m \u001b[1;31m# 다녀간곳은 1로 표시해 벽으로 만든다\u001b[0m\u001b[1;33m\u001b[0m\u001b[1;33m\u001b[0m\u001b[0m\n\u001b[0;32m     27\u001b[0m             \u001b[0mdis\u001b[0m\u001b[1;33m[\u001b[0m\u001b[0mx\u001b[0m\u001b[1;33m]\u001b[0m\u001b[1;33m[\u001b[0m\u001b[0my\u001b[0m\u001b[1;33m]\u001b[0m \u001b[1;33m=\u001b[0m \u001b[0mdis\u001b[0m\u001b[1;33m[\u001b[0m\u001b[0mtemp\u001b[0m\u001b[1;33m[\u001b[0m\u001b[1;36m0\u001b[0m\u001b[1;33m]\u001b[0m\u001b[1;33m]\u001b[0m\u001b[1;33m[\u001b[0m\u001b[0mtemp\u001b[0m\u001b[1;33m[\u001b[0m\u001b[1;36m1\u001b[0m\u001b[1;33m]\u001b[0m\u001b[1;33m]\u001b[0m \u001b[1;33m+\u001b[0m \u001b[1;36m1\u001b[0m\u001b[1;33m\u001b[0m\u001b[1;33m\u001b[0m\u001b[0m\n",
      "\u001b[1;31mIndexError\u001b[0m: list index out of range"
     ]
    }
   ],
   "source": [
    "from collections import deque\n",
    "with open(\"바나나숙성in1.txt\", \"r\") as f:\n",
    "    a, b = list(map(int,f.readline().split()))\n",
    "    matrix = [list(map(int,f.readline().split())) for _ in range(b)]\n",
    "\n",
    "dx = [-1,0,1,0]\n",
    "dy = [0,1,0,-1]\n",
    "\n",
    "dis = [[0]*a for _ in range(b)]\n",
    "\n",
    "Q = deque()\n",
    "cnt = 0\n",
    "#숙성 바나나의 위치값을 Q에 append\n",
    "\n",
    "for xx in range(b):\n",
    "    for yy in range(a):\n",
    "        if matrix[xx][yy] == 1:\n",
    "            Q.append((xx,yy))\n",
    "            \n",
    "while Q:\n",
    "    temp = Q.popleft()\n",
    "    for i in range(4):\n",
    "        x= temp[0]+dx[i]\n",
    "        y= temp[1]+dy[i]\n",
    "        if 0 <= x <=a and 0<=y <=b and matrix[x][y] ==0 :\n",
    "            matrix[x][y]=1 # 다녀간곳은 1로 표시해 벽으로 만든다\n",
    "            dis[x][y] = dis[temp[0]][temp[1]] + 1\n",
    "            Q.append((x,y))\n",
    "            cnt += 1\n",
    "print(cnt)"
   ]
  },
  {
   "cell_type": "code",
   "execution_count": 43,
   "metadata": {},
   "outputs": [
    {
     "data": {
      "text/plain": [
       "deque([(0, 4), (1, 7), (3, 0), (3, 6), (5, 1), (5, 3), (5, 6), (6, 3), (9, 7)])"
      ]
     },
     "execution_count": 43,
     "metadata": {},
     "output_type": "execute_result"
    }
   ],
   "source": [
    "Q"
   ]
  },
  {
   "cell_type": "code",
   "execution_count": 44,
   "metadata": {},
   "outputs": [
    {
     "data": {
      "text/plain": [
       "[[0, 0, 0, 0, 0, 0, 0, 0, 0, 0],\n",
       " [0, 0, 0, 0, 0, 0, 0, 0, 0, 0],\n",
       " [0, 0, 0, 0, 0, 0, 0, 0, 0, 0],\n",
       " [0, 0, 0, 0, 0, 0, 0, 0, 0, 0],\n",
       " [0, 0, 0, 0, 0, 0, 0, 0, 0, 0],\n",
       " [0, 0, 0, 0, 0, 0, 0, 0, 0, 0],\n",
       " [0, 0, 0, 0, 0, 0, 0, 0, 0, 0],\n",
       " [0, 0, 0, 0, 0, 0, 0, 0, 0, 0],\n",
       " [0, 0, 0, 0, 0, 0, 0, 0, 0, 0],\n",
       " [0, 0, 0, 0, 0, 0, 0, 0, 0, 0]]"
      ]
     },
     "execution_count": 44,
     "metadata": {},
     "output_type": "execute_result"
    }
   ],
   "source": [
    "dis"
   ]
  },
  {
   "cell_type": "code",
   "execution_count": 45,
   "metadata": {},
   "outputs": [
    {
     "data": {
      "text/plain": [
       "[[0, -1, 0, -1, 1, -1, 0, 0, 0, 0],\n",
       " [0, 0, 0, 0, 0, 0, 0, 1, 0, 0],\n",
       " [0, 0, 0, 0, 0, 0, 0, -1, 0, -1],\n",
       " [1, 0, 0, 0, -1, 0, 1, -1, 0, 0],\n",
       " [0, 0, 0, 0, 0, -1, 0, 0, 0, 0],\n",
       " [0, 1, 0, 1, 0, 0, 1, 0, 0, 0],\n",
       " [0, 0, 0, 1, 0, 0, 0, 0, 0, 0],\n",
       " [0, 0, -1, 0, 0, 0, 0, 0, -1, 0],\n",
       " [-1, 0, 0, 0, -1, 0, 0, 0, 0, 0],\n",
       " [0, 0, -1, 0, 0, 0, 0, 1, 0, 0]]"
      ]
     },
     "execution_count": 45,
     "metadata": {},
     "output_type": "execute_result"
    }
   ],
   "source": [
    "c"
   ]
  },
  {
   "cell_type": "markdown",
   "metadata": {},
   "source": [
    "# 선생님 풀이"
   ]
  },
  {
   "cell_type": "code",
   "execution_count": 67,
   "metadata": {},
   "outputs": [
    {
     "name": "stdout",
     "output_type": "stream",
     "text": [
      "0일이 지나면 바나나는 모두 숙성 됩니다\n"
     ]
    }
   ],
   "source": [
    "from collections import deque\n",
    "with open(\"바나나숙성in1.txt\", \"r\") as f:\n",
    "    col, row = list(map(int,f.readline().split()))\n",
    "    matrix2 = [list(map(int,f.readline().split())) for _ in range(b)]\n",
    "\n",
    "dx = [-1,0,1,0]\n",
    "dy = [0,1,0,-1]\n",
    "cnt = 0\n",
    "#초기셋팅\n",
    "chk_tbl = [[0]*col for _ in range(row)]\n",
    "Q=deque()\n",
    "#숙성바나나의 위치값을 파악한후 Q에 집어넣기\n",
    "for i in range(row):\n",
    "    for j in range(col):\n",
    "        if matrix[i][j] == 1:\n",
    "            Q.append((i,j))\n",
    "            \n",
    "while Q:\n",
    "    x, y = Q.popleft()\n",
    "    for i in range(4):\n",
    "        nx = x + dx[i]\n",
    "        ny = y + dy[i]\n",
    "        if 0 <= nx < row and 0<= ny < col and matrix[nx][ny] == 0:\n",
    "            matrix[nx][ny] = 1;\n",
    "            chk_tbl[nx][ny] = chk_tbl[x][y] + 1 # 전 좌표값에 +1\n",
    "            Q.append((nx,ny))\n",
    "ripe=1\n",
    "for i in range(row):\n",
    "    for j in range(col):\n",
    "        if matrix[i][j] == 0:\n",
    "            ripe = 0\n",
    "            break\n",
    "            \n",
    "max_day=0\n",
    "if ripe == 1:\n",
    "    for i in range(row):\n",
    "        for j in range(col):\n",
    "            if chk_tbl[i][j] >max_day: # 빈공간에 갖혀서 숙성이 안된 케이스\n",
    "                max_day = chk_tbl[i][j]\n",
    "print(\"{}일이 지나면 바나나는 모두 숙성 됩니다\".format(max_day))"
   ]
  },
  {
   "cell_type": "code",
   "execution_count": 66,
   "metadata": {},
   "outputs": [
    {
     "data": {
      "text/plain": [
       "[[0, 0, 0, 0, 0, 0, 0, 0, 0, 0],\n",
       " [0, 0, 0, 0, 0, 0, 0, 0, 0, 0],\n",
       " [0, 0, 0, 0, 0, 0, 0, 0, 0, 0],\n",
       " [0, 0, 0, 0, 0, 0, 0, 0, 0, 0],\n",
       " [0, 0, 0, 0, 0, 0, 0, 0, 0, 0],\n",
       " [0, 0, 0, 0, 0, 0, 0, 0, 0, 0],\n",
       " [0, 0, 0, 0, 0, 0, 0, 0, 0, 0],\n",
       " [0, 0, 0, 0, 0, 0, 0, 0, 0, 0],\n",
       " [0, 0, 0, 0, 0, 0, 0, 0, 0, 0],\n",
       " [0, 0, 0, 0, 0, 0, 0, 0, 0, 0]]"
      ]
     },
     "execution_count": 66,
     "metadata": {},
     "output_type": "execute_result"
    }
   ],
   "source": [
    "chk_tbl"
   ]
  },
  {
   "cell_type": "code",
   "execution_count": null,
   "metadata": {},
   "outputs": [],
   "source": []
  }
 ],
 "metadata": {
  "kernelspec": {
   "display_name": "Python 3",
   "language": "python",
   "name": "python3"
  },
  "language_info": {
   "codemirror_mode": {
    "name": "ipython",
    "version": 3
   },
   "file_extension": ".py",
   "mimetype": "text/x-python",
   "name": "python",
   "nbconvert_exporter": "python",
   "pygments_lexer": "ipython3",
   "version": "3.8.3"
  }
 },
 "nbformat": 4,
 "nbformat_minor": 4
}
