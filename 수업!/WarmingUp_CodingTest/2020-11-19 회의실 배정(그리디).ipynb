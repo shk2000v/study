{
 "cells": [
  {
   "cell_type": "markdown",
   "metadata": {},
   "source": [
    "회의실 배정(그리디)\n",
    "\n",
    "한개의 회의실이 있는데 이를 사용하고자 하는 b개의 회의들에 대하여\n",
    "\n",
    "예제)\n",
    "5\n",
    "1 4\n",
    "2 3\n",
    "3 5\n",
    "4 6\n",
    "5 7\n",
    "\n",
    "출력예제)\n",
    "3"
   ]
  },
  {
   "cell_type": "code",
   "execution_count": null,
   "metadata": {},
   "outputs": [],
   "source": [
    "with open(\"회의실in1.txt\", \"r\") as f:\n",
    "    n= int(f.readline())\n",
    "    a = [list(map(int,f.readline().split())) for _ in range(n)]"
   ]
  },
  {
   "cell_type": "code",
   "execution_count": null,
   "metadata": {},
   "outputs": [],
   "source": []
  },
  {
   "cell_type": "code",
   "execution_count": 41,
   "metadata": {},
   "outputs": [],
   "source": [
    "with open(\"회의실in3.txt\", \"r\") as f:\n",
    "    n3 = int(f.readline())\n",
    "    a3 = [list(map(int,f.readline().split())) for _ in range(n3)]"
   ]
  },
  {
   "cell_type": "code",
   "execution_count": 42,
   "metadata": {},
   "outputs": [
    {
     "data": {
      "text/plain": [
       "[[2, 3], [6, 9], [1, 2], [7, 9], [10, 12], [4, 6], [5, 9], [2, 11], [3, 17]]"
      ]
     },
     "execution_count": 42,
     "metadata": {},
     "output_type": "execute_result"
    }
   ],
   "source": [
    "a3"
   ]
  },
  {
   "cell_type": "code",
   "execution_count": 46,
   "metadata": {},
   "outputs": [],
   "source": [
    "# a3.sort(key=lambda x:x[1]) # 무지하게 많이 쓰인다\n",
    "a3.sort(key=lambda x:(x[1], x[0])) # 두번째 인덱스 값(== x[1])을 받아서 x[0]에 위치시켜 sort 한다\n",
    "# x[1],x[0]을 하는 이유는 동률이 있을경우를 고려하여 sort할수있게 하기 위해\n",
    "# a3.sort(key=lambda x:(x[1], -x[0]) # - 붙이면 내림차순으로 된다.\n",
    "\n",
    "# 브루트 포스라는 기법도 있으니 검색해서 알아보자"
   ]
  },
  {
   "cell_type": "code",
   "execution_count": 47,
   "metadata": {},
   "outputs": [
    {
     "data": {
      "text/plain": [
       "[[1, 2], [2, 3], [4, 6], [5, 9], [6, 9], [7, 9], [2, 11], [10, 12], [3, 17]]"
      ]
     },
     "execution_count": 47,
     "metadata": {},
     "output_type": "execute_result"
    }
   ],
   "source": [
    "a3"
   ]
  },
  {
   "cell_type": "code",
   "execution_count": null,
   "metadata": {},
   "outputs": [],
   "source": []
  }
 ],
 "metadata": {
  "kernelspec": {
   "display_name": "Python 3",
   "language": "python",
   "name": "python3"
  },
  "language_info": {
   "codemirror_mode": {
    "name": "ipython",
    "version": 3
   },
   "file_extension": ".py",
   "mimetype": "text/x-python",
   "name": "python",
   "nbconvert_exporter": "python",
   "pygments_lexer": "ipython3",
   "version": "3.8.3"
  }
 },
 "nbformat": 4,
 "nbformat_minor": 4
}
