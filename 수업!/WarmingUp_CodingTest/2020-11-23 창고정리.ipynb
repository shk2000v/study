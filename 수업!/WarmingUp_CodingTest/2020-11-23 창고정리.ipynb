{
 "cells": [
  {
   "cell_type": "markdown",
   "metadata": {},
   "source": [
    "첫번째 중에 창고 가로의 길이인 자연수 L이 주어집니다\n",
    "\n",
    "두번째 줄에 L개의 자연수가 공백을 사이에 두고 입력됩니다.\n",
    "각 자연수는 100을 넘지 않습니다\n",
    "\n",
    "세번째 중에 높이 조정 횟수인 M이 주어집니다"
   ]
  },
  {
   "cell_type": "code",
   "execution_count": null,
   "metadata": {},
   "outputs": [],
   "source": [
    "with open(\"창고정리1.txt\", \"r\") as f:\n",
    "    n = list(f.readline)\n",
    "    lst = list(f.readline)\n",
    "    k = list(f.readline)"
   ]
  },
  {
   "cell_type": "code",
   "execution_count": null,
   "metadata": {},
   "outputs": [],
   "source": []
  },
  {
   "cell_type": "code",
   "execution_count": 10,
   "metadata": {},
   "outputs": [],
   "source": [
    "n = 10\n",
    "lst = [69 ,42, 68, 76, 40, 87, 14, 65, 76, 81]\n",
    "k = 50"
   ]
  },
  {
   "cell_type": "code",
   "execution_count": 11,
   "metadata": {},
   "outputs": [
    {
     "name": "stdout",
     "output_type": "stream",
     "text": [
      "20\n"
     ]
    }
   ],
   "source": [
    "lst.sort()\n",
    "for i in range(k):\n",
    "    lst[0] +=1\n",
    "    lst[-1] -= 1\n",
    "    lst.sort()\n",
    "print(lst[-1] - lst[0] )"
   ]
  },
  {
   "cell_type": "code",
   "execution_count": 4,
   "metadata": {},
   "outputs": [
    {
     "name": "stdout",
     "output_type": "stream",
     "text": [
      "20\n"
     ]
    }
   ],
   "source": [
    "with open('창고정리1.txt', 'r') as f:\n",
    "    n=int(f.readline())\n",
    "    ar = list(map(int,f.readline().split()))\n",
    "    k = int(f.readline())\n",
    "    ar.sort()\n",
    "    for _ in range(k):\n",
    "        ar[0] += 1\n",
    "        ar[-1] -= 1\n",
    "        ar.sort()\n",
    "    print(ar[-1]-ar[0])"
   ]
  },
  {
   "cell_type": "code",
   "execution_count": 5,
   "metadata": {},
   "outputs": [
    {
     "name": "stdout",
     "output_type": "stream",
     "text": [
      "16\n"
     ]
    }
   ],
   "source": [
    "with open('창고정리2.txt', 'r') as f:\n",
    "    n=int(f.readline())\n",
    "    ar = list(map(int,f.readline().split()))\n",
    "    k = int(f.readline())\n",
    "    ar.sort()\n",
    "    for _ in range(k):\n",
    "        ar[0] += 1\n",
    "        ar[-1] -= 1\n",
    "        ar.sort()\n",
    "    print(ar[-1]-ar[0])"
   ]
  },
  {
   "cell_type": "code",
   "execution_count": null,
   "metadata": {},
   "outputs": [],
   "source": []
  }
 ],
 "metadata": {
  "kernelspec": {
   "display_name": "Python 3",
   "language": "python",
   "name": "python3"
  },
  "language_info": {
   "codemirror_mode": {
    "name": "ipython",
    "version": 3
   },
   "file_extension": ".py",
   "mimetype": "text/x-python",
   "name": "python",
   "nbconvert_exporter": "python",
   "pygments_lexer": "ipython3",
   "version": "3.8.3"
  }
 },
 "nbformat": 4,
 "nbformat_minor": 4
}
