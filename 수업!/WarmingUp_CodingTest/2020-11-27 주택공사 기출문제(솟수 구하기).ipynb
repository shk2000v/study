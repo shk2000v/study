{
 "cells": [
  {
   "cell_type": "markdown",
   "metadata": {},
   "source": [
    "자연수 num이 솟수인지 아닌지 분별하는 is_prime_num(num) 함수를 만드시오\n",
    "\n",
    "그리고 이 함수를 호출하여 주어진 숫자N을 솟수로만 곱해지는 수이면 그 솟수들을 출력하세요\n",
    "\n",
    "처리조건\n",
    "- 가능한 빠른 시간에 출력하는 알고리즘으로 작성\n",
    "- 입력 조건은 자연수 2부터 10에 12승까지 허용\n",
    "\n",
    "처리예)\n",
    "- 6을 입력하면 2,3 출력 6 -> 2,3\n",
    "- 9를 입력하면 9 -> 3,3\n",
    "- 21을 입력하면 21 -> 3,7\n",
    "- 처리할 수 없으면 '솟수로만 곱하기 불가' 메시지 출력"
   ]
  },
  {
   "cell_type": "code",
   "execution_count": null,
   "metadata": {},
   "outputs": [],
   "source": [
    "def is_prime_num(num):\n",
    "    a= 0\n",
    "    answer = []\n",
    "    for i in range(2,num):\n",
    "        if num % i == 0:\n",
    "            a +=1\n",
    "            answer.append(i)\n",
    "    if a >= 1:\n",
    "        print(answer)\n",
    "    else:\n",
    "        print(\"소수로만 곱하기 불가\")"
   ]
  },
  {
   "cell_type": "code",
   "execution_count": null,
   "metadata": {},
   "outputs": [],
   "source": [
    "is_prime_num(5541566351)"
   ]
  },
  {
   "cell_type": "code",
   "execution_count": null,
   "metadata": {},
   "outputs": [],
   "source": [
    "whos"
   ]
  },
  {
   "cell_type": "code",
   "execution_count": null,
   "metadata": {},
   "outputs": [],
   "source": [
    "def is_prime_num2(num): \n",
    "    a= 0\n",
    "    cnt = 0 \n",
    "    if cnt ==2:\n",
    "        return\n",
    "    answer = []\n",
    "    for i in range(2,num):\n",
    "        if num % i == 0:\n",
    "            a +=1\n",
    "            answer.append(i)\n",
    "    if a >= 1:\n",
    "        print(answer)\n",
    "    else:\n",
    "        print(\"소수로만 곱하기 불가\")"
   ]
  },
  {
   "cell_type": "markdown",
   "metadata": {},
   "source": [
    "# 선생님 풀이"
   ]
  },
  {
   "cell_type": "code",
   "execution_count": 15,
   "metadata": {},
   "outputs": [
    {
     "name": "stdout",
     "output_type": "stream",
     "text": [
      "숫자를 입력 = 50\n",
      "처리불가\n"
     ]
    }
   ],
   "source": [
    "from math import sqrt\n",
    "def is_prime(num):\n",
    "    for j in range(2, int(sqrt(num)+1)):\n",
    "        if num % j == 0:\n",
    "            return False\n",
    "    return True\n",
    "mul_prime = False\n",
    "N = int(input(\"숫자를 입력 = \"))\n",
    "for i in range(2, int(sqrt(N)+1)):\n",
    "    if is_prime(i):\n",
    "        m = N % i\n",
    "        if m == 0 and is_prime(N//i):\n",
    "            print(\"{} ==>{} * {}\".format(N,i,N//i))\n",
    "            mul_prime = True\n",
    "            break\n",
    "if not mul_prime : print(\"처리불가\")"
   ]
  },
  {
   "cell_type": "code",
   "execution_count": 5,
   "metadata": {},
   "outputs": [
    {
     "name": "stdout",
     "output_type": "stream",
     "text": [
      "숫자를 입력 = 1111111\n",
      "솟수 아님\n"
     ]
    }
   ],
   "source": [
    "N = int(input(\"숫자를 입력 = \"))\n",
    "if is_prime(N):\n",
    "    print('솟수')\n",
    "else:\n",
    "    print('솟수 아님')"
   ]
  },
  {
   "cell_type": "code",
   "execution_count": 11,
   "metadata": {},
   "outputs": [
    {
     "data": {
      "text/plain": [
       "11.0"
      ]
     },
     "execution_count": 11,
     "metadata": {},
     "output_type": "execute_result"
    }
   ],
   "source": [
    "sqrt(100)+1"
   ]
  },
  {
   "cell_type": "code",
   "execution_count": 17,
   "metadata": {},
   "outputs": [
    {
     "data": {
      "text/plain": [
       "9.9498743710662"
      ]
     },
     "execution_count": 17,
     "metadata": {},
     "output_type": "execute_result"
    }
   ],
   "source": [
    "sqrt(99)"
   ]
  },
  {
   "cell_type": "code",
   "execution_count": null,
   "metadata": {},
   "outputs": [],
   "source": []
  }
 ],
 "metadata": {
  "kernelspec": {
   "display_name": "Python 3",
   "language": "python",
   "name": "python3"
  },
  "language_info": {
   "codemirror_mode": {
    "name": "ipython",
    "version": 3
   },
   "file_extension": ".py",
   "mimetype": "text/x-python",
   "name": "python",
   "nbconvert_exporter": "python",
   "pygments_lexer": "ipython3",
   "version": "3.8.3"
  }
 },
 "nbformat": 4,
 "nbformat_minor": 4
}
