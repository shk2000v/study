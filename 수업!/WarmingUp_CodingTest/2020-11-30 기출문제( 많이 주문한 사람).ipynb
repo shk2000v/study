{
 "cells": [
  {
   "cell_type": "markdown",
   "metadata": {},
   "source": [
    "orders = [\"alex pizza pasta\",\"alex pizza pasta\",\"alex noodle\", \"bob, pasta\", \"bob noodle sandwitch pasta\", \"bob steak noodle\"]\n",
    "\n",
    "result = [bob]\n",
    "\n",
    "orders = [\"alex pizza pasta\", \"bob noodle sandwitch pasta\", \"choi pizza sanwich\", \"alex pizza pasta\"]\n",
    "\n",
    "result = \"alex\",\"bob\""
   ]
  },
  {
   "cell_type": "code",
   "execution_count": 65,
   "metadata": {},
   "outputs": [
    {
     "name": "stdout",
     "output_type": "stream",
     "text": [
      "['alex', 'pizza', 'pasta']\n",
      "2\n",
      "['bob', 'steak', 'noodle']\n",
      "2\n",
      "['bob', 'pasta']\n",
      "1\n",
      "['alex', 'noodle']\n",
      "1\n",
      "['bob', 'noodle', 'sandwitch', 'pasta']\n",
      "3\n",
      "['alex', 'pizza', 'pizza']\n",
      "2\n",
      "['bob']\n"
     ]
    }
   ],
   "source": [
    "orders3 = [\"alex pizza pasta steak\", \"bob noodle sandwitch pasta\", \"choi pizza sanwich\", \"alex pizza pasta steak\"]\n",
    "orders = [\"alex pizza pasta\",\"alex pizza pizza\",\"alex noodle\", \"bob pasta\", \"bob noodle sandwitch pasta\", \"bob steak noodle\"]\n",
    "dic = {}\n",
    "result = []\n",
    "\n",
    "for i in set(orders):\n",
    "    i = i.split()\n",
    "    print(i)\n",
    "    dic[i[0]] = len(i[1:])\n",
    "    print(dic[i[0]])\n",
    "    \n",
    "m = max(dic.values())\n",
    "# print(m)\n",
    "for j in dic.items():\n",
    "    if j[1] == m:\n",
    "        result.append(j[0])\n",
    "print(result)"
   ]
  },
  {
   "cell_type": "code",
   "execution_count": 24,
   "metadata": {},
   "outputs": [
    {
     "data": {
      "text/plain": [
       "3"
      ]
     },
     "execution_count": 24,
     "metadata": {},
     "output_type": "execute_result"
    }
   ],
   "source": [
    "max(dic.values())"
   ]
  },
  {
   "cell_type": "code",
   "execution_count": 26,
   "metadata": {},
   "outputs": [
    {
     "data": {
      "text/plain": [
       "dict_keys(['alex', 'choi', 'bob'])"
      ]
     },
     "execution_count": 26,
     "metadata": {},
     "output_type": "execute_result"
    }
   ],
   "source": [
    "dic.keys()"
   ]
  },
  {
   "cell_type": "code",
   "execution_count": 56,
   "metadata": {},
   "outputs": [],
   "source": [
    "def max_orders(order):\n",
    "    dic = {}\n",
    "    result = []\n",
    "\n",
    "    for i in set(order):\n",
    "        i = i.split()\n",
    "        dic[i[0]] = len(set(i[1:]))\n",
    "        print(dic(i[0]))\n",
    "    \n",
    "    m = max(dic.values())\n",
    "    \n",
    "    for j in dic.items():\n",
    "        if j[1] == m:\n",
    "            result.append(j[0])\n",
    "    print(result)"
   ]
  },
  {
   "cell_type": "code",
   "execution_count": 2,
   "metadata": {},
   "outputs": [],
   "source": [
    "orders1 = [\"alex pizza pasta\",\"alex pizza pizza\",\"alex noodle\", \"bob pasta\", \"bob noodle sandwitch pasta\", \"bob steak noodle\"]\n",
    "\n",
    "orders2 = [\"alex pizza pasta steak\", \"bob noodle sandwitch pasta\", \"choi pizza sanwich\", \"alex pizza pasta steak\"]\n",
    "\n",
    "# max_orders(orders1)\n",
    "# max_orders(orders2)"
   ]
  },
  {
   "cell_type": "markdown",
   "metadata": {},
   "source": [
    "# 선생님 풀이(+근호씨 풀이)"
   ]
  },
  {
   "cell_type": "code",
   "execution_count": 4,
   "metadata": {},
   "outputs": [
    {
     "ename": "NameError",
     "evalue": "name 'orders' is not defined",
     "output_type": "error",
     "traceback": [
      "\u001b[1;31m---------------------------------------------------------------------------\u001b[0m",
      "\u001b[1;31mNameError\u001b[0m                                 Traceback (most recent call last)",
      "\u001b[1;32m<ipython-input-4-c54c9938da13>\u001b[0m in \u001b[0;36m<module>\u001b[1;34m\u001b[0m\n\u001b[0;32m      8\u001b[0m \u001b[1;32mfor\u001b[0m \u001b[0mname\u001b[0m \u001b[1;32min\u001b[0m \u001b[0mnames\u001b[0m\u001b[1;33m:\u001b[0m\u001b[1;33m\u001b[0m\u001b[1;33m\u001b[0m\u001b[0m\n\u001b[0;32m      9\u001b[0m     \u001b[0morder_list\u001b[0m\u001b[1;33m=\u001b[0m\u001b[1;33m[\u001b[0m\u001b[1;33m]\u001b[0m\u001b[1;33m\u001b[0m\u001b[1;33m\u001b[0m\u001b[0m\n\u001b[1;32m---> 10\u001b[1;33m     \u001b[1;32mfor\u001b[0m \u001b[0mxx\u001b[0m \u001b[1;32min\u001b[0m \u001b[0morders\u001b[0m \u001b[1;33m:\u001b[0m\u001b[1;33m\u001b[0m\u001b[1;33m\u001b[0m\u001b[0m\n\u001b[0m\u001b[0;32m     11\u001b[0m         \u001b[0morder\u001b[0m \u001b[1;33m=\u001b[0m \u001b[0mxx\u001b[0m\u001b[1;33m.\u001b[0m\u001b[0msplit\u001b[0m\u001b[1;33m(\u001b[0m\u001b[1;33m)\u001b[0m\u001b[1;33m\u001b[0m\u001b[1;33m\u001b[0m\u001b[0m\n\u001b[0;32m     12\u001b[0m         \u001b[1;32mif\u001b[0m \u001b[0mname\u001b[0m \u001b[1;33m==\u001b[0m \u001b[0morder\u001b[0m\u001b[1;33m[\u001b[0m\u001b[1;36m0\u001b[0m\u001b[1;33m]\u001b[0m\u001b[1;33m:\u001b[0m\u001b[1;33m\u001b[0m\u001b[1;33m\u001b[0m\u001b[0m\n",
      "\u001b[1;31mNameError\u001b[0m: name 'orders' is not defined"
     ]
    }
   ],
   "source": [
    "names=[]\n",
    "for xx in orders1:\n",
    "    name_order = xx.split()\n",
    "    names.append(name_order[0])\n",
    "names = list(set(names)) # 이름 중복 제거\n",
    "\n",
    "name_menu_cnt = []\n",
    "for name in names:\n",
    "    order_list=[]\n",
    "    for xx in orders :\n",
    "        order = xx.split()\n",
    "        if name == order[0]:\n",
    "            for k in range(1, len(order)):\n",
    "                order_list.append(order[k])\n",
    "            print(name, order_list)\n",
    "    name_menu_cnt.append(name, len(set(order_list)))\n",
    "print(name_menu_cnt)\n",
    "\n",
    "name_menu_cnt.sort(key=lambda x : (x[1], x[0]), reverse=True)\n",
    "print(name_menu_cnt)\n",
    "\n",
    "for xx in name_menu_cnt:\n",
    "    if xx[1] >= top:\n",
    "        print(xx[0], end = \" \")\n",
    "        top=xx[1]"
   ]
  },
  {
   "cell_type": "code",
   "execution_count": 14,
   "metadata": {},
   "outputs": [],
   "source": [
    "orders1 = [\"alex pizza pasta\",\"alex pizza pizza\",\"alex noodle\", \"bob pasta\", \"bob noodle sandwitch pasta\", \"bob steak noodle\"]\n",
    "\n",
    "orders2 = [\"alex pizza pasta steak\", \"bob noodle sandwitch pasta\", \"choi pizza sanwich\", \"alex pizza pasta steak\"]\n",
    "\n",
    "\n",
    "def taster(order):\n",
    "    taster_dic = {}\n",
    "    \n",
    "    for i in order:\n",
    "        \n",
    "        i = i.split(\" \")\n",
    "        \n",
    "        if i[0] not in taster_dic:\n",
    "            taster_dic[i[0]] = set(i[1::])\n",
    "        else:\n",
    "            taster_dic[i].update(i[1::])\n",
    "            \n",
    "    for j in taster_dict:\n",
    "        taster_dic[j] = len(taster__dict[j])\n",
    "    \n",
    "    print(taster_dict)\n",
    "    \n",
    "    name_menu_cnt = []\n",
    "    for key,value in taster_dic.item():\n",
    "        name_menu_cnt.append(key,value)\n",
    "    \n",
    "    return sorted(taster_dict.items(), key = lambda x : x[i], reverse=True)\n",
    "\n",
    "top=0\n",
    "for xx in name_menu_cnt:\n",
    "    if xx[i] >= top :\n",
    "        print(xx[0], end= \" , \")\n",
    "        top=xx[1]"
   ]
  },
  {
   "cell_type": "code",
   "execution_count": 13,
   "metadata": {},
   "outputs": [
    {
     "ename": "TypeError",
     "evalue": "unhashable type: 'list'",
     "output_type": "error",
     "traceback": [
      "\u001b[1;31m---------------------------------------------------------------------------\u001b[0m",
      "\u001b[1;31mTypeError\u001b[0m                                 Traceback (most recent call last)",
      "\u001b[1;32m<ipython-input-13-b3b95da2c120>\u001b[0m in \u001b[0;36m<module>\u001b[1;34m\u001b[0m\n\u001b[1;32m----> 1\u001b[1;33m \u001b[0mtaster\u001b[0m\u001b[1;33m(\u001b[0m\u001b[0morders1\u001b[0m\u001b[1;33m)\u001b[0m\u001b[1;33m\u001b[0m\u001b[1;33m\u001b[0m\u001b[0m\n\u001b[0m",
      "\u001b[1;32m<ipython-input-12-966130ea9f8b>\u001b[0m in \u001b[0;36mtaster\u001b[1;34m(order)\u001b[0m\n\u001b[0;32m     14\u001b[0m             \u001b[0mtaster_dic\u001b[0m\u001b[1;33m[\u001b[0m\u001b[0mi\u001b[0m\u001b[1;33m[\u001b[0m\u001b[1;36m0\u001b[0m\u001b[1;33m]\u001b[0m\u001b[1;33m]\u001b[0m \u001b[1;33m=\u001b[0m \u001b[0mset\u001b[0m\u001b[1;33m(\u001b[0m\u001b[0mi\u001b[0m\u001b[1;33m[\u001b[0m\u001b[1;36m1\u001b[0m\u001b[1;33m:\u001b[0m\u001b[1;33m:\u001b[0m\u001b[1;33m]\u001b[0m\u001b[1;33m)\u001b[0m\u001b[1;33m\u001b[0m\u001b[1;33m\u001b[0m\u001b[0m\n\u001b[0;32m     15\u001b[0m         \u001b[1;32melse\u001b[0m\u001b[1;33m:\u001b[0m\u001b[1;33m\u001b[0m\u001b[1;33m\u001b[0m\u001b[0m\n\u001b[1;32m---> 16\u001b[1;33m             \u001b[0mtaster_dic\u001b[0m\u001b[1;33m[\u001b[0m\u001b[0mi\u001b[0m\u001b[1;33m]\u001b[0m\u001b[1;33m.\u001b[0m\u001b[0mupdate\u001b[0m\u001b[1;33m(\u001b[0m\u001b[0mi\u001b[0m\u001b[1;33m[\u001b[0m\u001b[1;36m1\u001b[0m\u001b[1;33m:\u001b[0m\u001b[1;33m:\u001b[0m\u001b[1;33m]\u001b[0m\u001b[1;33m)\u001b[0m\u001b[1;33m\u001b[0m\u001b[1;33m\u001b[0m\u001b[0m\n\u001b[0m\u001b[0;32m     17\u001b[0m \u001b[1;33m\u001b[0m\u001b[0m\n\u001b[0;32m     18\u001b[0m     \u001b[1;32mfor\u001b[0m \u001b[0mj\u001b[0m \u001b[1;32min\u001b[0m \u001b[0mtaster_dict\u001b[0m\u001b[1;33m:\u001b[0m\u001b[1;33m\u001b[0m\u001b[1;33m\u001b[0m\u001b[0m\n",
      "\u001b[1;31mTypeError\u001b[0m: unhashable type: 'list'"
     ]
    }
   ],
   "source": [
    "taster(orders1)"
   ]
  },
  {
   "cell_type": "code",
   "execution_count": null,
   "metadata": {},
   "outputs": [],
   "source": []
  }
 ],
 "metadata": {
  "kernelspec": {
   "display_name": "Python 3",
   "language": "python",
   "name": "python3"
  },
  "language_info": {
   "codemirror_mode": {
    "name": "ipython",
    "version": 3
   },
   "file_extension": ".py",
   "mimetype": "text/x-python",
   "name": "python",
   "nbconvert_exporter": "python",
   "pygments_lexer": "ipython3",
   "version": "3.8.3"
  }
 },
 "nbformat": 4,
 "nbformat_minor": 4
}
