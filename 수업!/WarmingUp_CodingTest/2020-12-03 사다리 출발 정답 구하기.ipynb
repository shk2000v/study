{
 "cells": [
  {
   "cell_type": "markdown",
   "metadata": {},
   "source": [
    "1. 맨 아래의 원하는 좌표값을 구해서 DFS를 구하면 된다\n",
    "2. DFS(좌표값) \n",
    "\n",
    "\n",
    "사다리in1.txt -> 7\n",
    "사다리in2.txt -> 5"
   ]
  },
  {
   "cell_type": "code",
   "execution_count": null,
   "metadata": {},
   "outputs": [],
   "source": [
    "# 10 x 10 으로 고정된 문제이다\n",
    "from collections import deque\n",
    "with open(\"사다리in1.txt\", \"r\") as f:\n",
    "    matrix = [list(map(int,f.readline().split())) for _ in range(10)]\n",
    "\n",
    "    \n",
    "dx = [-1,0,1,0]\n",
    "dy = [0,1,0,-1]\n",
    "\n",
    "chk_tbl = [[0]*10 for _ in range(10)]\n",
    "\n",
    "Q = deque()\n",
    "for i in range(10):\n",
    "    if matrix[9][i] == 2:\n",
    "        Q.append((9,i))\n",
    "\n",
    "while Q:\n",
    "    x,y = Q.popleft()\n",
    "    for j in range(4):\n",
    "        nx = x + dx[j]\n",
    "        ny = y + dx[j]\n",
    "        if j = 0 and matrix[nx][ny] ==1:\n",
    "            chk_tbl = chk_tbl[x][y] +1\n",
    "            Q.append((nx,ny))\n",
    "        if j = 2 and matrix[nx][ny] == 1:\n",
    "            chk_tbl = chk_tbl[x][y] +1\n",
    "            Q.append((nx,ny))\n",
    "        else j= 1 and matrix[nx][ny] == 1:\n",
    "            chk_tbl = chk_tbl[x][y] +1\n",
    "            Q.append((nx,ny))"
   ]
  },
  {
   "cell_type": "code",
   "execution_count": null,
   "metadata": {},
   "outputs": [],
   "source": [
    "Q"
   ]
  },
  {
   "cell_type": "markdown",
   "metadata": {},
   "source": [
    "# 선생님 풀이"
   ]
  },
  {
   "cell_type": "code",
   "execution_count": 6,
   "metadata": {},
   "outputs": [
    {
     "name": "stdout",
     "output_type": "stream",
     "text": [
      "5칸에서 출발하시면 행운이ㅋ\n"
     ]
    }
   ],
   "source": [
    "#DFS 함수를 만들어 이용하자\n",
    "def DFS(row,col):\n",
    "    ckd_tbl[row][col] = 1\n",
    "    if row ==0:\n",
    "        print(\"{}칸에서 출발하시면 행운이ㅋ\".format(col))\n",
    "    else:\n",
    "        if col - 1 >= 0  and matrix[row][col-1] == 1 and ckd_tbl[row][col-1]==0:\n",
    "            DFS(row,col-1)\n",
    "        elif col + 1 < 10 and matrix[row][col+1] == 1 and ckd_tbl[row][col+1]==0: # 조심\n",
    "            DFS(row,col+1)\n",
    "        else:\n",
    "            DFS(row-1,col)\n",
    "\n",
    "from collections import deque\n",
    "with open(\"사다리in2.txt\", \"r\") as f:\n",
    "    matrix = [list(map(int,f.readline().split())) for _ in range(10)]\n",
    "\n",
    "    \n",
    "dx = [-1,0,1,0]\n",
    "dy = [0,1,0,-1]\n",
    "\n",
    "ckd_tbl = [[0]*10 for _ in range(10)]\n",
    "\n",
    "# Q = deque()\n",
    "for i in range(10):\n",
    "    if matrix[9][i] == 2:\n",
    "        DFS(9,i)"
   ]
  },
  {
   "cell_type": "code",
   "execution_count": 7,
   "metadata": {},
   "outputs": [
    {
     "data": {
      "text/plain": [
       "[[1, 0, 1, 0, 0, 1, 0, 1, 0, 1],\n",
       " [1, 0, 1, 1, 1, 1, 0, 1, 0, 1],\n",
       " [1, 0, 1, 0, 0, 1, 0, 1, 0, 1],\n",
       " [1, 0, 1, 0, 0, 1, 0, 1, 1, 1],\n",
       " [1, 1, 1, 0, 0, 1, 0, 1, 0, 1],\n",
       " [1, 0, 1, 1, 1, 1, 0, 1, 0, 1],\n",
       " [1, 0, 1, 0, 0, 1, 0, 1, 1, 1],\n",
       " [1, 1, 1, 0, 0, 1, 0, 1, 0, 1],\n",
       " [1, 0, 1, 0, 0, 1, 1, 1, 0, 1],\n",
       " [1, 0, 2, 0, 0, 1, 0, 1, 0, 1]]"
      ]
     },
     "execution_count": 7,
     "metadata": {},
     "output_type": "execute_result"
    }
   ],
   "source": [
    "matrix"
   ]
  },
  {
   "cell_type": "code",
   "execution_count": 8,
   "metadata": {},
   "outputs": [
    {
     "data": {
      "text/plain": [
       "[[0, 0, 0, 0, 0, 1, 0, 0, 0, 0],\n",
       " [0, 0, 1, 1, 1, 1, 0, 0, 0, 0],\n",
       " [0, 0, 1, 0, 0, 0, 0, 0, 0, 0],\n",
       " [0, 0, 1, 0, 0, 0, 0, 0, 0, 0],\n",
       " [1, 1, 1, 0, 0, 0, 0, 0, 0, 0],\n",
       " [1, 0, 0, 0, 0, 0, 0, 0, 0, 0],\n",
       " [1, 0, 0, 0, 0, 0, 0, 0, 0, 0],\n",
       " [1, 1, 1, 0, 0, 0, 0, 0, 0, 0],\n",
       " [0, 0, 1, 0, 0, 0, 0, 0, 0, 0],\n",
       " [0, 0, 1, 0, 0, 0, 0, 0, 0, 0]]"
      ]
     },
     "execution_count": 8,
     "metadata": {},
     "output_type": "execute_result"
    }
   ],
   "source": [
    "ckd_tbl"
   ]
  },
  {
   "cell_type": "code",
   "execution_count": null,
   "metadata": {},
   "outputs": [],
   "source": []
  }
 ],
 "metadata": {
  "kernelspec": {
   "display_name": "Python 3",
   "language": "python",
   "name": "python3"
  },
  "language_info": {
   "codemirror_mode": {
    "name": "ipython",
    "version": 3
   },
   "file_extension": ".py",
   "mimetype": "text/x-python",
   "name": "python",
   "nbconvert_exporter": "python",
   "pygments_lexer": "ipython3",
   "version": "3.8.3"
  }
 },
 "nbformat": 4,
 "nbformat_minor": 4
}
