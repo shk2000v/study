{
 "cells": [
  {
   "cell_type": "markdown",
   "metadata": {},
   "source": [
    "N 개의 자연수가 입력되면 각 자연수를 뒤집은 후 그 뒤집은 수가 소수이면 그 수를 출력하는 프로그램을 작성하세요.\n",
    "\n",
    "예를들어 32를 뒤집으면 23이고 23은 소수이다 그러면 23을 출력한다 단 910를 뒤집으면 19로 숫자화한다,\n",
    "\n",
    "첫자리부터 연속된0은 무시한다. 뒤집는 함수인 def reverse(x)와 소수인지를 확인하는 함수 def isPrime(x)를 반드시 작성하여 프로그래밍 한다"
   ]
  },
  {
   "cell_type": "code",
   "execution_count": 7,
   "metadata": {},
   "outputs": [],
   "source": [
    "def isPrime(x):\n",
    "    a= 0\n",
    "    answer= []\n",
    "    for i in range(2,x):\n",
    "        if x % i ==0:\n",
    "            a +=1\n",
    "            answer.append(i)\n",
    "    if a>= 1:\n",
    "#         print(answer)\n",
    "        print('소수가 아닙니다')\n",
    "    else:\n",
    "        print('소수입니다')"
   ]
  },
  {
   "cell_type": "code",
   "execution_count": 8,
   "metadata": {},
   "outputs": [
    {
     "name": "stdout",
     "output_type": "stream",
     "text": [
      "[2]\n",
      "소수가 아닙니다\n"
     ]
    }
   ],
   "source": [
    "isPrime(4)"
   ]
  },
  {
   "cell_type": "code",
   "execution_count": 38,
   "metadata": {},
   "outputs": [],
   "source": [
    "def revers_prime(x):\n",
    "#      print(str(x))\n",
    "    rx = list(str(x))\n",
    "    rx.reverse()\n",
    "    while rx:\n",
    "        if rx[0] == 0:\n",
    "            rx.pop(rx[0])\n",
    "        elif rx[-1] ==0:\n",
    "            rx.pop()\n",
    "        else:\n",
    "            break\n",
    "    print(''.join(rx))\n",
    "    rx = int(''.join(rx))\n",
    "    return isPrime(rx)\n",
    "            "
   ]
  },
  {
   "cell_type": "markdown",
   "metadata": {},
   "source": [
    "1. 뒤집은후 조건줘서 인뎃스 끝부붙이 0이면 없애는 반복문..\n",
    "2. 2300 -> 0023"
   ]
  },
  {
   "cell_type": "code",
   "execution_count": 42,
   "metadata": {},
   "outputs": [
    {
     "name": "stdout",
     "output_type": "stream",
     "text": [
      "23\n",
      "소수입니다\n"
     ]
    }
   ],
   "source": [
    "revers_prime(32)"
   ]
  },
  {
   "cell_type": "markdown",
   "metadata": {},
   "source": [
    "# 선생님 풀이"
   ]
  },
  {
   "cell_type": "code",
   "execution_count": 47,
   "metadata": {},
   "outputs": [
    {
     "name": "stdout",
     "output_type": "stream",
     "text": [
      "23 73 "
     ]
    }
   ],
   "source": [
    "from math import sqrt\n",
    "a = [32,55,52,3700,250]\n",
    "\n",
    "def reverse(x):\n",
    "    tmp=0\n",
    "    while x>0:\n",
    "        t = x%10\n",
    "        tmp=tmp*10+t\n",
    "        x=x//10\n",
    "    return tmp\n",
    "\n",
    "def is_prime(num):\n",
    "    for j in range(2, int(sqrt(num)+1)):\n",
    "        if num % j == 0:\n",
    "            return False\n",
    "    return True\n",
    "\n",
    "for xx in a:\n",
    "    temp= reverse(xx)\n",
    "    if is_prime(reverse(xx)):\n",
    "        print(temp, end=\" \")\n",
    "        "
   ]
  },
  {
   "cell_type": "code",
   "execution_count": 48,
   "metadata": {},
   "outputs": [],
   "source": [
    "# 택영 솔루션\n",
    "\n",
    "\n",
    "a2 = [32,55,52,3700,250]\n",
    "\n",
    "def reverse(x):\n",
    "    answer = ''\n",
    "    b = reversed(list(str(x)))\n",
    "    for i in b:\n",
    "        answer += 1\n",
    "    return int(answer)\n",
    "\n",
    "def is_prime(num):\n",
    "    for j in range(2, int(sqrt(num)+1)):\n",
    "        if num % j == 0:\n",
    "            return False\n",
    "    return True\n",
    "\n",
    "for xx in a2:\n",
    "    temp= reverse(xx)\n",
    "    if is_prime(reverse(xx)):\n",
    "        print(temp, end=\" \")\n",
    "        "
   ]
  },
  {
   "cell_type": "code",
   "execution_count": null,
   "metadata": {},
   "outputs": [],
   "source": [
    "# 세번째 소개된 선생님 솔루션\n",
    "# 택영 솔루션\n",
    "\n",
    "\n",
    "a3= [32,55,52,3700,250]\n",
    "\n",
    "def reverse(x):\n",
    "    return int(str(x)[::-1])\n",
    "\n",
    "def is_prime(num):\n",
    "    for j in range(2, int(sqrt(num)+1)):\n",
    "        if num % j == 0:\n",
    "            return False\n",
    "    return True\n",
    "\n",
    "for xx in a3:\n",
    "    temp= reverse(xx)\n",
    "    if is_prime(reverse(xx)):\n",
    "        print(temp, end=\" \")\n",
    "        "
   ]
  }
 ],
 "metadata": {
  "kernelspec": {
   "display_name": "Python 3",
   "language": "python",
   "name": "python3"
  },
  "language_info": {
   "codemirror_mode": {
    "name": "ipython",
    "version": 3
   },
   "file_extension": ".py",
   "mimetype": "text/x-python",
   "name": "python",
   "nbconvert_exporter": "python",
   "pygments_lexer": "ipython3",
   "version": "3.8.3"
  }
 },
 "nbformat": 4,
 "nbformat_minor": 4
}
