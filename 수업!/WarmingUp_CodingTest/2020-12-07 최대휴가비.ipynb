{
 "cells": [
  {
   "cell_type": "markdown",
   "metadata": {},
   "source": [
    "- 카운셀러로 일하고 있는 현수는 오늘부터 N+1일째 되는 날 휴가를 가기 위해서 , 남은 N일 동안 최대한 많은 상담을 해서 휴가비를 넉넉히 만들어 휴가를 떠나려 한다. 현수가 다니는 회사에 하루에 하나씩 서로 다른 사람의 상담이 예야고디어 있다. 각각의 상담은 상담을 완료하는데 걸리는 날수 T와 상담을 했을떄 받을 수 있는 금액 P로 이루어져 있다. 만약 N = 7 이고, 아래와 같이 예약이 잡혀있다면 1일에 잡혀있는 상담은 총 4일이 걸리며, 상담했을떄 받을 수 있는 금액은 20이다. 만약 1일에 예약된 상담을 하면 4일 까지는 상담을 할 수가 없다.\n",
    "\n",
    "\n",
    "- 하나의 상담이 하루를 넘어가는 경우가 많기 때문에 현수는 예약된 모든 상담을 혼자 할 수 없어 최대 이익이 나는 상담 스케쥴을 짜기로 했다. 휴가를 떠나기 전에 할 수 있는 상담의 최대 이익은 1일 5일 7일에 있는 상담을 하는 것이며, 이떄의 이익은 20+30+10=60 이다. 현수가 휴가를 가기 위해 얻을 수 있는 최대 수익을 구하는 프로그램을 작성하시오 \n",
    "\n",
    "- 문제 1,2,3번 출력\n",
    "- 45 80 100\n",
    "\n",
    "\n",
    "\n",
    "## 경우의 수를 따지는건 DFS로!!!!"
   ]
  },
  {
   "cell_type": "code",
   "execution_count": null,
   "metadata": {},
   "outputs": [],
   "source": [
    "with open(\"휴가비in1.txt\",\"r\") as f:\n",
    "    n = int(f.readline())\n",
    "    t, p = [list(map(int,f.readline().split())) for _ in range(n)]\n",
    "    "
   ]
  },
  {
   "cell_type": "code",
   "execution_count": null,
   "metadata": {},
   "outputs": [],
   "source": [
    "t "
   ]
  },
  {
   "cell_type": "code",
   "execution_count": null,
   "metadata": {},
   "outputs": [],
   "source": [
    "p"
   ]
  },
  {
   "cell_type": "code",
   "execution_count": null,
   "metadata": {},
   "outputs": [],
   "source": [
    "n = 5\n",
    "t = [3, 2, 1, 1, 2] # 더하려는 일자 # 인덱스의 +1 이 날짜\n",
    "p = [10,15,10,30,10] # 그 일자에서 얻을수 있는 수익\n"
   ]
  },
  {
   "cell_type": "code",
   "execution_count": null,
   "metadata": {},
   "outputs": [],
   "source": [
    "def DFS(i,j):\n",
    "    j += p[i]\n",
    "    i += t[i]\n",
    "    print(i,j)\n",
    "    if i > 5:\n",
    "        return j\n",
    "    else:\n",
    "        DFS(i,j)\n",
    "DFS(t,p)"
   ]
  },
  {
   "cell_type": "code",
   "execution_count": null,
   "metadata": {},
   "outputs": [],
   "source": [
    "max_pay = 0\n",
    "m = 0\n",
    "for i in range(n):\n",
    "    m = DFS(i,m)\n",
    "    if m > max_pay:\n",
    "        max_pay = m"
   ]
  },
  {
   "cell_type": "markdown",
   "metadata": {},
   "source": [
    "# 선생님 풀이"
   ]
  },
  {
   "cell_type": "code",
   "execution_count": 11,
   "metadata": {},
   "outputs": [
    {
     "name": "stdout",
     "output_type": "stream",
     "text": [
      "45\n"
     ]
    }
   ],
   "source": [
    "def DFS(TD, total):\n",
    "    global max_result\n",
    "    if TD == n+1: #휴가날\n",
    "        if total > max_result:\n",
    "            max_result = total\n",
    "    else:\n",
    "        if TD+T[TD] <= n +1: #  휴가1에선 n은 5\n",
    "            DFS(TD+T[TD], total+P[TD])\n",
    "        DFS(TD+1, total) # 이부분이 이해가 잘 안된다\n",
    "        \n",
    "\n",
    "#초기화 세팅\n",
    "f = open(\"휴가비in1.txt\")\n",
    "n = int(f.readline())\n",
    "T = []; P =[];\n",
    "\n",
    "for _ in range(n):\n",
    "    a,b = map(int,f.readline().split())\n",
    "    T.append(a); P.append(b)\n",
    "T.insert(0,0); P.insert(0,0)\n",
    "max_result = 0\n",
    "\n",
    "# print(\"DFS(1,0)\", end= \" \")\n",
    "DFS(1,0)\n",
    "print(max_result)\n",
    "f.close()"
   ]
  },
  {
   "cell_type": "code",
   "execution_count": 6,
   "metadata": {},
   "outputs": [
    {
     "data": {
      "text/plain": [
       "(5, [0, 3, 2, 1, 1, 2], [0, 10, 15, 10, 30, 10])"
      ]
     },
     "execution_count": 6,
     "metadata": {},
     "output_type": "execute_result"
    }
   ],
   "source": [
    "n , T, P"
   ]
  },
  {
   "cell_type": "code",
   "execution_count": null,
   "metadata": {},
   "outputs": [],
   "source": []
  }
 ],
 "metadata": {
  "kernelspec": {
   "display_name": "Python 3",
   "language": "python",
   "name": "python3"
  },
  "language_info": {
   "codemirror_mode": {
    "name": "ipython",
    "version": 3
   },
   "file_extension": ".py",
   "mimetype": "text/x-python",
   "name": "python",
   "nbconvert_exporter": "python",
   "pygments_lexer": "ipython3",
   "version": "3.8.3"
  }
 },
 "nbformat": 4,
 "nbformat_minor": 4
}
