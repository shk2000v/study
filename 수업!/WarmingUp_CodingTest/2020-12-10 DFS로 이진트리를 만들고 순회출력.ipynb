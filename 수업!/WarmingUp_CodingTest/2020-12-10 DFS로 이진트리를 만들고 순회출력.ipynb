{
 "cells": [
  {
   "cell_type": "markdown",
   "metadata": {},
   "source": [
    "1\n",
    "23\n",
    "4567\n",
    "의 이진트리를 DFS로 표현\n",
    "\n",
    "\n",
    "DFS(n)\n",
    "Ending 조건 n == 7\n",
    "     DFS(1)\n",
    "     /    \\\n",
    "DFS(2) ,  DFS(3)"
   ]
  },
  {
   "cell_type": "code",
   "execution_count": 2,
   "metadata": {},
   "outputs": [
    {
     "name": "stdout",
     "output_type": "stream",
     "text": [
      "1\n",
      "2\n",
      "3\n",
      "4\n",
      "5\n",
      "6\n",
      "7\n"
     ]
    }
   ],
   "source": [
    "tree = [1,2,3,4,5,6,7]\n",
    "'''\n",
    "   1\n",
    "  2 3\n",
    "4 5 6 7\n",
    "'''\n",
    "\n",
    "def DFS(n):\n",
    "    if n==8:\n",
    "        return\n",
    "    else:\n",
    "        print(tree[n-1])\n",
    "        if \n",
    "        DFS(n+1)\n",
    "        \n",
    "        \n",
    "\n",
    "#전위순회\n",
    "DFS(1)\n",
    "#중위순회\n",
    "#후위순회\n",
    "#레벨순회"
   ]
  },
  {
   "cell_type": "markdown",
   "metadata": {},
   "source": [
    "# 선생님 풀이"
   ]
  },
  {
   "cell_type": "code",
   "execution_count": null,
   "metadata": {},
   "outputs": [],
   "source": [
    "def DFS(step):\n",
    "    if step > 7:\n",
    "        return\n",
    "    else:\n",
    "        print(step, end=\"\") # 전위순회\n",
    "        DFS(step*2)\n",
    "#         print(step, end=\"\") 중위 순회\n",
    "        DFS(step*2+1)\n",
    "#         print(step, end=\"\") 후위 순회\n",
    "        \n",
    "\n",
    "DFS(1)"
   ]
  }
 ],
 "metadata": {
  "kernelspec": {
   "display_name": "Python 3",
   "language": "python",
   "name": "python3"
  },
  "language_info": {
   "codemirror_mode": {
    "name": "ipython",
    "version": 3
   },
   "file_extension": ".py",
   "mimetype": "text/x-python",
   "name": "python",
   "nbconvert_exporter": "python",
   "pygments_lexer": "ipython3",
   "version": "3.8.3"
  }
 },
 "nbformat": 4,
 "nbformat_minor": 4
}
