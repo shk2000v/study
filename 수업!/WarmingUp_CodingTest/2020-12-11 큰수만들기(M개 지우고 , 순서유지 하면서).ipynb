{
 "cells": [
  {
   "cell_type": "markdown",
   "metadata": {},
   "source": [
    "선생님은 한 학생에게 숫자 하나를 주고, 해당 숫자의 자릿수들중 m개의 숫자를 제거하여 가장 큰 수를 만들라고 했습니다.\n",
    "여러분이 학생을 도와주세요!\n",
    "\n",
    "(단, 숫자의 숫서는 유지해야 합니다)\n",
    "\n",
    "- 입력예제\n",
    "- 5276823 3\n",
    "\n",
    "- 9977252641 5\n",
    "\n",
    "- 출력 예제\n",
    "\n",
    "- 7823\n",
    "- 9976"
   ]
  },
  {
   "cell_type": "markdown",
   "metadata": {},
   "source": [
    "stack 구조를 활용\n",
    "카운트변수를 하나 주어서 m개의 숫자가 되면 print\n",
    "순서를 유지해야하니 sort 문제는 아니다\n",
    "\n",
    "앞숫자가 뒷숫자보다 크다면 다른 변수로 넘긴다...\n",
    "순서를 지키는거 때문에 각 자리수를 지키는것이 의미가 있다\n"
   ]
  },
  {
   "cell_type": "code",
   "execution_count": 32,
   "metadata": {},
   "outputs": [
    {
     "name": "stdout",
     "output_type": "stream",
     "text": [
      "578\n"
     ]
    }
   ],
   "source": [
    "m = 3\n",
    "num = 5276823\n",
    "num_lst = []\n",
    "cnt = 0 \n",
    "stack_num = []\n",
    "# stack 구조를 이용해서 풀어봅시다\n",
    "for i in list(str(num)):\n",
    "    num_lst.append(i)\n",
    "# num_lst\n",
    "stack_num = num_lst.pop(0)\n",
    "\n",
    "for xx in num_lst:\n",
    "    \n",
    "\n",
    "\n"
   ]
  },
  {
   "cell_type": "code",
   "execution_count": 4,
   "metadata": {},
   "outputs": [
    {
     "data": {
      "text/plain": [
       "['9', '9', '7', '7', '2', '5', '2', '6', '4', '1']"
      ]
     },
     "execution_count": 4,
     "metadata": {},
     "output_type": "execute_result"
    }
   ],
   "source": [
    "num2 = 9977252641\n",
    "list(str(num2))"
   ]
  },
  {
   "cell_type": "markdown",
   "metadata": {},
   "source": [
    "# 선생님 풀이"
   ]
  },
  {
   "cell_type": "code",
   "execution_count": 36,
   "metadata": {},
   "outputs": [
    {
     "name": "stdout",
     "output_type": "stream",
     "text": [
      "5276823 3\n",
      "7823\n"
     ]
    }
   ],
   "source": [
    "number, m = map(int, input().split())\n",
    "number = list(map(int,str(number)))\n",
    "stack = []\n",
    "for xx in number:\n",
    "    while stack and m >0 and stack[-1] < xx:\n",
    "        stack.pop()\n",
    "        m -=1\n",
    "    stack.append(xx)\n",
    "if m != 0:\n",
    "    stack = stack[:-m]\n",
    "final_result = \"\".join(map(str,stack))\n",
    "print(final_result)"
   ]
  },
  {
   "cell_type": "markdown",
   "metadata": {},
   "source": [
    "# 택영이 풀이"
   ]
  },
  {
   "cell_type": "code",
   "execution_count": null,
   "metadata": {},
   "outputs": [],
   "source": [
    "def pick(num, m):\n",
    "    numbers = str(num)\n",
    "    for i in range(m):\n",
    "        for idx in range(len(numbers[:-1])):\n",
    "            if numbers[idx] < numbers[idx+1]:\n",
    "                numbers=numbers[:idx] + numbers[idx+1:]\n",
    "                m -=1\n",
    "                break\n",
    "    for i in range(m):\n",
    "        numbers = numbers[:-1] # pop하고 같은 역할 \n",
    "    return numbers"
   ]
  }
 ],
 "metadata": {
  "kernelspec": {
   "display_name": "Python 3",
   "language": "python",
   "name": "python3"
  },
  "language_info": {
   "codemirror_mode": {
    "name": "ipython",
    "version": 3
   },
   "file_extension": ".py",
   "mimetype": "text/x-python",
   "name": "python",
   "nbconvert_exporter": "python",
   "pygments_lexer": "ipython3",
   "version": "3.8.3"
  }
 },
 "nbformat": 4,
 "nbformat_minor": 4
}
