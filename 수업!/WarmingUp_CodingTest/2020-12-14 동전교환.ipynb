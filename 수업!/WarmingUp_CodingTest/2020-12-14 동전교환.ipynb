{
 "cells": [
  {
   "cell_type": "markdown",
   "metadata": {},
   "source": [
    "3\n",
    "\n",
    "1 2 5\n",
    "\n",
    "15\n",
    "\n",
    "여러 단위의 동전들이 주어져 있을 때 거스름돈을 가장 적은 수의 동전으로 교화냏주려면\n",
    "어떻게 주면 되는가?\n",
    "\n",
    "첫번째 줄에는 동전의 종류개수\n",
    "두전째 줄에는 N개의 동전의 종류\n",
    "그 다음줄은 거슬러줄 금액 M이 주어진다\n",
    "각 동전의 종류는 100원을 넘지 않는다"
   ]
  },
  {
   "cell_type": "code",
   "execution_count": null,
   "metadata": {},
   "outputs": [],
   "source": [
    "with open('동전in1.txt', 'r') as f:\n",
    "    w = list(map(int,f.readline().split()))\n",
    "    n = list(map(int,f.readline().split()))\n",
    "    m = list(map(int,f.readline().split()))"
   ]
  },
  {
   "cell_type": "code",
   "execution_count": null,
   "metadata": {},
   "outputs": [],
   "source": [
    "w,n,m"
   ]
  },
  {
   "cell_type": "code",
   "execution_count": null,
   "metadata": {},
   "outputs": [],
   "source": [
    "W =3\n",
    "N = [1,2,5]\n",
    "M = 15\n",
    "\n",
    "#갯수샐것\n",
    "cnt = 0\n",
    "#남겨진 값\n",
    "# xx = 0\n",
    "for i in N[::-1]:\n",
    "    cnt += M // i \n",
    "    if M % i ==0:\n",
    "        print(cnt)\n",
    "    else:  "
   ]
  },
  {
   "cell_type": "markdown",
   "metadata": {},
   "source": [
    "# 선생님 풀이"
   ]
  },
  {
   "cell_type": "code",
   "execution_count": null,
   "metadata": {},
   "outputs": [],
   "source": [
    "N = 5\n",
    "M = [1, 8, 20, 25, 50]\n",
    "W = 129\n",
    "\n",
    "def DFS(n,m):\n",
    "    #end조건\n",
    "    if n ==\n",
    "    \n"
   ]
  },
  {
   "cell_type": "markdown",
   "metadata": {},
   "source": [
    "# 일반적인 솔루션"
   ]
  },
  {
   "cell_type": "code",
   "execution_count": null,
   "metadata": {},
   "outputs": [],
   "source": [
    "with open(\"동전in3.txt\", 'r') as f:\n",
    "    n = int(f.readline())\n",
    "    arr = sorted(list(map(int, f.readline().split())), reverse = True)\n",
    "    k = int(f.readline())\n",
    "cnt = 0\n",
    "for xx in arr:\n",
    "    cnt += k // xx\n",
    "    k = k % xx\n",
    "\n",
    "print(cnt)\n",
    "\n",
    "## 근데 !!! 이 방식으로 하면 동전in3의 답이 7이나와 원래의 답인 5랑 다르다"
   ]
  },
  {
   "cell_type": "markdown",
   "metadata": {},
   "source": [
    "# DFS를 이용한 솔루션"
   ]
  },
  {
   "cell_type": "code",
   "execution_count": 6,
   "metadata": {},
   "outputs": [
    {
     "name": "stdout",
     "output_type": "stream",
     "text": [
      "5\n"
     ]
    }
   ],
   "source": [
    "with open(\"동전in3.txt\", 'r') as f:\n",
    "    n = int(f.readline())\n",
    "    arr = sorted(list(map(int, f.readline().split())), reverse = True)\n",
    "    k = int(f.readline())\n",
    "\n",
    "\n",
    "def DFS(coin_cnt,sum):\n",
    "    global final_cnt\n",
    "    \n",
    "    if coin_cnt >= final_cnt or sum >k:\n",
    "        return\n",
    "    \n",
    "    if sum == k:\n",
    "        if coin_cnt < final_cnt:\n",
    "            final_cnt = coin_cnt\n",
    "    else:\n",
    "        for i in range(n):\n",
    "            DFS(coin_cnt+1, sum+arr[i])\n",
    "\n",
    "final_cnt = 99999999\n",
    "DFS(0,0) # 셋팅이 중요하다.... 앞 파라메터 동전갯수, 뒤파라메터 동전의 합.\n",
    "\n",
    "print(final_cnt)"
   ]
  },
  {
   "cell_type": "code",
   "execution_count": 3,
   "metadata": {},
   "outputs": [
    {
     "name": "stdout",
     "output_type": "stream",
     "text": [
      "0\n"
     ]
    }
   ],
   "source": [
    "with open(\"동전in3.txt\", \"r\") as f:\n",
    "    n = int(f.readline())\n",
    "    arr = sorted(list(map(int, f.readline().split())))\n",
    "    k = int(f.readline())\n",
    "\n",
    "def DFS(coin_cnt, sum):\n",
    "    global final_cnt\n",
    "    if coin_cnt >= final_cnt or sum > k:\n",
    "        return\n",
    "    if sum == k:\n",
    "        if coin_cnt >  final_cnt :\n",
    "            final_cnt = coin_cnt\n",
    "    else:\n",
    "        for i in range(n):\n",
    "            DFS(coin_cnt+1, sum+arr[i])\n",
    "\n",
    "final_cnt = 0\n",
    "DFS(0,0)\n",
    "print(final_cnt)"
   ]
  },
  {
   "cell_type": "code",
   "execution_count": null,
   "metadata": {},
   "outputs": [],
   "source": []
  }
 ],
 "metadata": {
  "kernelspec": {
   "display_name": "Python 3",
   "language": "python",
   "name": "python3"
  }
 },
 "nbformat": 4,
 "nbformat_minor": 4
}
