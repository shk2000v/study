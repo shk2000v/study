{
 "cells": [
  {
   "cell_type": "markdown",
   "metadata": {},
   "source": [
    "1~20까지 숫자가 하나씩 쓰인 20장의 카드가 오흠차준으로 한줄로 놓여있을때\n",
    "\n",
    "구간 [a,b](단, 1 <= a <= b <= 20)가 주어지면\n",
    "위치 a부터 위치 b까지의 카드를 현재의 역순으로 놓는다\n",
    "\n",
    "|참조 : https://www.notion.so/82842daa39e145bb81985bbd47e45f86 "
   ]
  },
  {
   "cell_type": "code",
   "execution_count": 1,
   "metadata": {},
   "outputs": [
    {
     "data": {
      "text/plain": [
       "[1, 2, 3, 4, 5, 6, 7, 8, 9, 10, 11, 12, 13, 14, 15, 16, 17, 18, 19, 20]"
      ]
     },
     "execution_count": 1,
     "metadata": {},
     "output_type": "execute_result"
    }
   ],
   "source": [
    "lst = []\n",
    "for i in range(1,21):\n",
    "    lst.append(i)\n",
    "\n",
    "lst"
   ]
  },
  {
   "cell_type": "code",
   "execution_count": 2,
   "metadata": {},
   "outputs": [],
   "source": [
    "with open(\"구간자리in1.txt\",\"r\") as f:\n",
    "#     a, b = [list(map(int,f.readline().split()) for _ in range(10))]\n",
    "    c = [list(map(int,f.readline().split())) for _ in range(10)]\n",
    "\n",
    "lst.insert(0,0)\n",
    "\n",
    "for i in c:\n",
    "    "
   ]
  },
  {
   "cell_type": "code",
   "execution_count": 3,
   "metadata": {},
   "outputs": [
    {
     "data": {
      "text/plain": [
       "[[5, 10],\n",
       " [9, 13],\n",
       " [1, 2],\n",
       " [3, 4],\n",
       " [5, 6],\n",
       " [1, 2],\n",
       " [3, 4],\n",
       " [5, 6],\n",
       " [1, 20],\n",
       " [1, 20]]"
      ]
     },
     "execution_count": 3,
     "metadata": {},
     "output_type": "execute_result"
    }
   ],
   "source": [
    "c"
   ]
  },
  {
   "cell_type": "code",
   "execution_count": null,
   "metadata": {},
   "outputs": [],
   "source": [
    "lst"
   ]
  },
  {
   "cell_type": "markdown",
   "metadata": {},
   "source": [
    "# 풀이"
   ]
  },
  {
   "cell_type": "code",
   "execution_count": 7,
   "metadata": {},
   "outputs": [
    {
     "name": "stdout",
     "output_type": "stream",
     "text": [
      "[1, 2, 12, 11, 17, 16, 15, 14, 9, 10, 4, 3, 13, 8, 7, 6, 5, 18, 19, 20]\n"
     ]
    }
   ],
   "source": [
    "f=open(\"구간자리in1.txt\", 'r')\n",
    "ar = list(range(21))\n",
    "for _ in range(10):\n",
    "    s, e = map(int, f.readline().split())\n",
    "    for i in range((e-s//2)):\n",
    "        ar[s+i], ar[e-i] = ar[e-i], ar[s+i]\n",
    "print(ar[1:])\n",
    "f.close()"
   ]
  },
  {
   "cell_type": "code",
   "execution_count": 9,
   "metadata": {},
   "outputs": [],
   "source": [
    "#건익이 풀이\n",
    "def reverse(n,m):\n",
    "    card[n-1:m] = list(reversed(card[n-1:m]))\n",
    "\n",
    "f=open(\"구간자리in1.txt\", 'r')\n",
    "temp = [list(map(int,f.readline().split())) for _ in range(10)]\n",
    "\n",
    "card = list(range(1,21))\n",
    "for n,m in temp:\n",
    "    reverse(n,m)"
   ]
  },
  {
   "cell_type": "code",
   "execution_count": 12,
   "metadata": {},
   "outputs": [
    {
     "data": {
      "text/plain": [
       "14641"
      ]
     },
     "execution_count": 12,
     "metadata": {},
     "output_type": "execute_result"
    }
   ],
   "source": [
    "11 **4"
   ]
  },
  {
   "cell_type": "markdown",
   "metadata": {},
   "source": [
    "# 외전?"
   ]
  },
  {
   "cell_type": "code",
   "execution_count": 13,
   "metadata": {},
   "outputs": [
    {
     "name": "stdout",
     "output_type": "stream",
     "text": [
      "I love you\n",
      "9 -32 44 47 54 37 -32 57 47 53 "
     ]
    }
   ],
   "source": [
    "code = list(map(str, input()))\n",
    "for xx in code:\n",
    "    print(ord(xx)-64, end= \" \")"
   ]
  },
  {
   "cell_type": "code",
   "execution_count": null,
   "metadata": {},
   "outputs": [],
   "source": []
  }
 ],
 "metadata": {
  "kernelspec": {
   "display_name": "Python 3",
   "language": "python",
   "name": "python3"
  },
  "language_info": {
   "codemirror_mode": {
    "name": "ipython",
    "version": 3
   },
   "file_extension": ".py",
   "mimetype": "text/x-python",
   "name": "python",
   "nbconvert_exporter": "python",
   "pygments_lexer": "ipython3",
   "version": "3.8.3"
  }
 },
 "nbformat": 4,
 "nbformat_minor": 4
}
