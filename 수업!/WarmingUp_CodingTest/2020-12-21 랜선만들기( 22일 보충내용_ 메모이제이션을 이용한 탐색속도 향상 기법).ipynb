{
 "cells": [
  {
   "cell_type": "markdown",
   "metadata": {},
   "source": [
    "랜선의 길이는 4<= N <= 10 이다.\n",
    "\n",
    "예를들어 4m의 네트워크 선이 주어지면\n",
    "\n",
    "- 1 1 1 1 \n",
    "- 2 1 1 \n",
    "- 1 2 1\n",
    "- 1 1 2 \n",
    "- 2 2\n",
    "\n",
    "\n",
    "5가지 경우가 나온다"
   ]
  },
  {
   "cell_type": "code",
   "execution_count": null,
   "metadata": {},
   "outputs": [],
   "source": [
    "def DFS(XX):\n",
    "    global cnt\n",
    "#     print(\"XX = \", XX)\n",
    "#     print(\"cnt = \" , cnt)\n",
    "\n",
    "    if XX > n:\n",
    "        return\n",
    "    if XX == n:\n",
    "        cnt += 1\n",
    "    for i in range(2):\n",
    "        DFS(XX+k[i])\n",
    "        dis.append(k[i])\n",
    "            \n",
    "dis = []\n",
    "n = 4\n",
    "cnt = 0\n",
    "k = [1,2]\n",
    "DFS(0)\n",
    "print(cnt)"
   ]
  },
  {
   "cell_type": "code",
   "execution_count": null,
   "metadata": {},
   "outputs": [],
   "source": [
    "a = [1,1,1,1]"
   ]
  },
  {
   "cell_type": "code",
   "execution_count": null,
   "metadata": {},
   "outputs": [],
   "source": [
    "sum(a)"
   ]
  },
  {
   "cell_type": "code",
   "execution_count": null,
   "metadata": {},
   "outputs": [],
   "source": [
    "# 선생님 풀이\n",
    "# n = int(input())\n",
    "def DFS(node):\n",
    "    global cnt\n",
    "    if node> n:\n",
    "        return\n",
    "    if node == n:\n",
    "        cnt +=1\n",
    "        print(dis)\n",
    "    else:\n",
    "        for i in range(2):\n",
    "            dis.append(ar[i])\n",
    "            DFS(node + ar[i])\n",
    "            dis.pop()\n",
    "            \n",
    "    \n",
    "\n",
    "n = 6\n",
    "dis = []\n",
    "ar =[1,2]\n",
    "cnt = 0\n",
    "DFS(0)\n",
    "print(cnt)"
   ]
  },
  {
   "cell_type": "markdown",
   "metadata": {},
   "source": [
    "랜선의 길이는 4<= N <= 10 이다.\n",
    "\n",
    "예를들어 4m의 네트워크 선이 주어지면\n",
    "\n",
    "- 1 1 1 1 \n",
    "- 2 1 1 \n",
    "- 1 2 1\n",
    "- 1 1 2 \n",
    "- 2 2\n",
    "\n",
    "\n",
    "5가지 경우가 나온다"
   ]
  },
  {
   "cell_type": "markdown",
   "metadata": {},
   "source": [
    "- f(1) = 1\n",
    "- f(2) = 2\n",
    "- f(3) = f(2) + f(1) = 3\n",
    "- f(4) = f(3) + f(2) = 5\n",
    "- f(5) = f(4) + f(3) = 8\n",
    "- ================================\n",
    "- f(n) = f(n-1) + f(n-2)"
   ]
  },
  {
   "cell_type": "code",
   "execution_count": 1,
   "metadata": {},
   "outputs": [
    {
     "name": "stdout",
     "output_type": "stream",
     "text": [
      "랜선의 길이는 4<= N <= 10\n",
      "구하고자 하는 랜선n의 길이를 입력하세요\n",
      "50\n",
      "20365011074개의 랜선을 만들수 있습니다!\n"
     ]
    }
   ],
   "source": [
    "# 랜선  1M 2M 다이내믹 프로그래밍 방식\n",
    "# 실행중 결정 테이블을 만드는것\n",
    "print(\"랜선의 길이는 4<= N <= 10\")\n",
    "print(\"구하고자 하는 랜선n의 길이를 입력하세요\")\n",
    "n = int(input())\n",
    "\n",
    "dt = [0] * (n+1)\n",
    "dt[1] = 1\n",
    "dt[2] = 2\n",
    "for i in range(3, n+1):\n",
    "    dt[i] = dt[i-1] + dt[i-2]\n",
    "print(\"{}개의 랜선을 만들수 있습니다!\".format(dt[n]))"
   ]
  },
  {
   "cell_type": "code",
   "execution_count": null,
   "metadata": {},
   "outputs": [],
   "source": [
    "def Num_Cable(L):\n",
    "    if L ==1 or L ==2:\n",
    "        return L\n",
    "    else:\n",
    "        return Num_Cable(L-1) + Num_Cable(L-2)\n",
    "n = int(input())\n",
    "dt = [0] * (n+1)\n",
    "print(Num_Cable(n))"
   ]
  },
  {
   "cell_type": "code",
   "execution_count": null,
   "metadata": {},
   "outputs": [],
   "source": []
  },
  {
   "cell_type": "code",
   "execution_count": null,
   "metadata": {},
   "outputs": [],
   "source": []
  },
  {
   "cell_type": "code",
   "execution_count": 6,
   "metadata": {},
   "outputs": [
    {
     "name": "stdout",
     "output_type": "stream",
     "text": [
      "100\n",
      "573147844013817084101\n",
      "1.1723442077636719\n"
     ]
    }
   ],
   "source": [
    "import time\n",
    "start = time.time()\n",
    "# 메모이 제이션(Memoization) Recusive를 사용한 1,2M 랜선 갯수 구하기\n",
    "def Num_Cable(L):\n",
    "    if dt[L] > 0 :\n",
    "        return dt[L]\n",
    "    if L ==1 or L ==2:\n",
    "        return L\n",
    "    else:\n",
    "        dt[L] =  Num_Cable(L-1) + Num_Cable(L-2)\n",
    "        return dt[L]\n",
    "    \n",
    "n = int(input())\n",
    "dt = [0] * (n+1)\n",
    "print(Num_Cable(n))\n",
    "print(time.time() - start)"
   ]
  },
  {
   "cell_type": "code",
   "execution_count": null,
   "metadata": {},
   "outputs": [],
   "source": []
  }
 ],
 "metadata": {
  "kernelspec": {
   "display_name": "Python 3",
   "language": "python",
   "name": "python3"
  },
  "language_info": {
   "codemirror_mode": {
    "name": "ipython",
    "version": 3
   },
   "file_extension": ".py",
   "mimetype": "text/x-python",
   "name": "python",
   "nbconvert_exporter": "python",
   "pygments_lexer": "ipython3",
   "version": "3.8.3"
  }
 },
 "nbformat": 4,
 "nbformat_minor": 4
}
