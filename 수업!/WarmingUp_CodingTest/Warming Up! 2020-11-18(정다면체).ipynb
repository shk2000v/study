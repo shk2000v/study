{
 "cells": [
  {
   "cell_type": "markdown",
   "metadata": {},
   "source": [
    "# 정다면체\n",
    "\n",
    "- 두 개의 정 N 면체와 정M면체의 두 개의 주사위를 던져서 나올 수 있는 누의 합 줄 가장 확률이 높은 숫자를 출력하는 프로그램을 작성하세요.\n",
    "- 정답이 여러개일 경우 오름차순으로 출력합니다.\n",
    "\n",
    "## 입력 설명\n",
    "- 첫번째 줄에는 자연수 N과 M이 주어집니다. N과 M은 4,6,8,12,20중의 하나입니다.\n",
    "\n",
    "입력 : 4 ,6\n",
    "\n",
    "출력 결과 :  5 6 7"
   ]
  },
  {
   "cell_type": "code",
   "execution_count": 5,
   "metadata": {},
   "outputs": [],
   "source": [
    "n = 4\n",
    "m = 6\n",
    "\n",
    "tmp = []\n",
    "max_cnt = []\n",
    "for i in range(1,n):\n",
    "    for j in range(1,m):\n",
    "        tmp.append(i+j)"
   ]
  },
  {
   "cell_type": "code",
   "execution_count": 7,
   "metadata": {},
   "outputs": [
    {
     "data": {
      "text/plain": [
       "[2, 3, 4, 5, 6, 3, 4, 5, 6, 7, 4, 5, 6, 7, 8]"
      ]
     },
     "execution_count": 7,
     "metadata": {},
     "output_type": "execute_result"
    }
   ],
   "source": [
    "tmp"
   ]
  },
  {
   "cell_type": "markdown",
   "metadata": {},
   "source": [
    "# 내 풀이"
   ]
  },
  {
   "cell_type": "code",
   "execution_count": 24,
   "metadata": {},
   "outputs": [],
   "source": [
    "def dice_digit(n,m):\n",
    "    if n == m:\n",
    "        return m + 1\n",
    "    if m > n :\n",
    "        ca = m-n\n",
    "        result = []\n",
    "        for i in range(ca+1):\n",
    "            n += 1\n",
    "            result.append(n)\n",
    "        return result\n",
    "    \n",
    "#  m<n 조건까지 걸면 너무 길어진다!! "
   ]
  },
  {
   "cell_type": "code",
   "execution_count": 21,
   "metadata": {},
   "outputs": [
    {
     "data": {
      "text/plain": [
       "[13, 14, 15, 16, 17, 18, 19, 20, 21]"
      ]
     },
     "execution_count": 21,
     "metadata": {},
     "output_type": "execute_result"
    }
   ],
   "source": [
    "dice_digit(12,20)"
   ]
  },
  {
   "cell_type": "markdown",
   "metadata": {},
   "source": [
    "# 건익이 풀이"
   ]
  },
  {
   "cell_type": "code",
   "execution_count": 19,
   "metadata": {},
   "outputs": [],
   "source": [
    "def solution(n,m):\n",
    "    if n==m:\n",
    "        return n+1\n",
    "    elif n<m:\n",
    "        return list(range(n+1, m+2))\n",
    "    elif m<n:\n",
    "        return list(range(m+1, n+2))"
   ]
  },
  {
   "cell_type": "code",
   "execution_count": 22,
   "metadata": {},
   "outputs": [
    {
     "data": {
      "text/plain": [
       "[13, 14, 15, 16, 17, 18, 19, 20, 21]"
      ]
     },
     "execution_count": 22,
     "metadata": {},
     "output_type": "execute_result"
    }
   ],
   "source": [
    "solution(12,20)"
   ]
  },
  {
   "cell_type": "markdown",
   "metadata": {},
   "source": [
    "# 선생님 풀이"
   ]
  },
  {
   "cell_type": "code",
   "execution_count": null,
   "metadata": {},
   "outputs": [],
   "source": [
    "n,m = map(int, input(\"n,m을 컴마로 구분해서 입력하세요 =\").split(','))\n",
    "cnt=[0]*(n*m)\n",
    "#cnt값 초기화 하기\n",
    "for i in ragne(n+m+1):\n",
    "    if cnt[i] > max_val"
   ]
  }
 ],
 "metadata": {
  "kernelspec": {
   "display_name": "Python 3",
   "language": "python",
   "name": "python3"
  },
  "language_info": {
   "codemirror_mode": {
    "name": "ipython",
    "version": 3
   },
   "file_extension": ".py",
   "mimetype": "text/x-python",
   "name": "python",
   "nbconvert_exporter": "python",
   "pygments_lexer": "ipython3",
   "version": "3.8.3"
  }
 },
 "nbformat": 4,
 "nbformat_minor": 4
}
