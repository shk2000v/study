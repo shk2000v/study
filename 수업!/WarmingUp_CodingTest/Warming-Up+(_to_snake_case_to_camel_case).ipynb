{
 "cells": [
  {
   "cell_type": "code",
   "execution_count": 61,
   "metadata": {},
   "outputs": [],
   "source": [
    "# 숫자를 입력받아 각각 mul_digits(data)합수를 만드시오\n",
    "\n",
    "# 각 단위의 숫자를 곱해서 출력을 하시오\n",
    "# 단 0은 곱하지 않습니다.\n",
    "\n",
    "def mul_digits(data):\n",
    "    a = str(data)\n",
    "    result = 1\n",
    "    for i in range(len(a)):\n",
    "        if a[i] != \"0\":\n",
    "            result = result * int(a[i])\n",
    "    return result"
   ]
  },
  {
   "cell_type": "code",
   "execution_count": 62,
   "metadata": {},
   "outputs": [
    {
     "name": "stdout",
     "output_type": "stream",
     "text": [
      "<class 'str'>\n",
      "4\n",
      "1\n"
     ]
    },
    {
     "data": {
      "text/plain": [
       "True"
      ]
     },
     "execution_count": 62,
     "metadata": {},
     "output_type": "execute_result"
    }
   ],
   "source": [
    "b= 1234\n",
    "c = str(b)\n",
    "print(type(c))\n",
    "print(len(c))\n",
    "print(c[0])\n",
    "c[0] == \"1\""
   ]
  },
  {
   "cell_type": "code",
   "execution_count": 66,
   "metadata": {},
   "outputs": [
    {
     "name": "stdout",
     "output_type": "stream",
     "text": [
      "24\n",
      "6\n"
     ]
    }
   ],
   "source": [
    "test = 1234\n",
    "test2 = 100023\n",
    "print(mul_digits(test))\n",
    "print(mul_digits(test2))\n",
    "# 제한시간 20분인데 20분에 딱 맞춰 품"
   ]
  },
  {
   "cell_type": "code",
   "execution_count": 64,
   "metadata": {},
   "outputs": [],
   "source": [
    "## 복기 \n",
    "# 왜 문제가 늦었나?\n",
    "# ㄴ 1. 논리와 식 모두 맞았지만 데이터가 들어가는 대상을 착각함 (a[i]가 들어가야 하지만 계속 data[i]를 넣어서 오류가 발생)\n",
    "#    2. 자격지심과 시간제한의 문제로 맘이 급함\n",
    "#    3. 처음에 str변환이 단순하게 str 붙이는줄도 몰라서 찾아보느라 늦음\n",
    "#    4. 로직짜는건 맞지만 python에 대한 기본기가 부족함"
   ]
  },
  {
   "cell_type": "code",
   "execution_count": 65,
   "metadata": {},
   "outputs": [],
   "source": [
    "# 선생님 풀이\n",
    "\n",
    "def mul_digits2(data):\n",
    "    dap = 1\n",
    "    for i in str(data):\n",
    "        if int(i):\n",
    "            dap = dap * int(i)\n",
    "        return dap\n",
    "    \n",
    "#다른예\n",
    "def mul_digits3(data):\n",
    "    dap=1\n",
    "    while x !=0:\n",
    "        x = data %10\n",
    "        if x:\n",
    "            dap=dap*x\n",
    "        data = data//10\n",
    "    return dap"
   ]
  },
  {
   "cell_type": "code",
   "execution_count": 71,
   "metadata": {},
   "outputs": [],
   "source": [
    "from collections import Counter"
   ]
  },
  {
   "cell_type": "code",
   "execution_count": 78,
   "metadata": {},
   "outputs": [],
   "source": [
    "# collection counter class 함수사용\n",
    "a= ['hello','world']\n",
    "Counter(a)\n",
    "\n",
    "def most_frequent(data):\n",
    "    Counter(data)\n",
    "#     max_data = max()\n",
    "    return max(data.value())"
   ]
  },
  {
   "cell_type": "code",
   "execution_count": 79,
   "metadata": {},
   "outputs": [
    {
     "ename": "AttributeError",
     "evalue": "'list' object has no attribute 'value'",
     "output_type": "error",
     "traceback": [
      "\u001b[1;31m---------------------------------------------------------------------------\u001b[0m",
      "\u001b[1;31mAttributeError\u001b[0m                            Traceback (most recent call last)",
      "\u001b[1;32m<ipython-input-79-3c7f623e0589>\u001b[0m in \u001b[0;36m<module>\u001b[1;34m\u001b[0m\n\u001b[0;32m      1\u001b[0m \u001b[0mtest11\u001b[0m \u001b[1;33m=\u001b[0m \u001b[1;33m[\u001b[0m\u001b[1;34m'a'\u001b[0m\u001b[1;33m,\u001b[0m\u001b[1;34m'b'\u001b[0m\u001b[1;33m,\u001b[0m\u001b[1;34m'c'\u001b[0m\u001b[1;33m,\u001b[0m\u001b[1;34m'a'\u001b[0m\u001b[1;33m,\u001b[0m\u001b[1;34m'b'\u001b[0m\u001b[1;33m,\u001b[0m\u001b[1;34m'a'\u001b[0m\u001b[1;33m,\u001b[0m\u001b[1;34m'd'\u001b[0m\u001b[1;33m]\u001b[0m\u001b[1;33m\u001b[0m\u001b[1;33m\u001b[0m\u001b[0m\n\u001b[1;32m----> 2\u001b[1;33m \u001b[0mmost_frequent\u001b[0m\u001b[1;33m(\u001b[0m\u001b[0mtest11\u001b[0m\u001b[1;33m)\u001b[0m\u001b[1;33m\u001b[0m\u001b[1;33m\u001b[0m\u001b[0m\n\u001b[0m",
      "\u001b[1;32m<ipython-input-78-ceeca84ab424>\u001b[0m in \u001b[0;36mmost_frequent\u001b[1;34m(data)\u001b[0m\n\u001b[0;32m      6\u001b[0m     \u001b[0mCounter\u001b[0m\u001b[1;33m(\u001b[0m\u001b[0mdata\u001b[0m\u001b[1;33m)\u001b[0m\u001b[1;33m\u001b[0m\u001b[1;33m\u001b[0m\u001b[0m\n\u001b[0;32m      7\u001b[0m \u001b[1;31m#     max_data = max()\u001b[0m\u001b[1;33m\u001b[0m\u001b[1;33m\u001b[0m\u001b[1;33m\u001b[0m\u001b[0m\n\u001b[1;32m----> 8\u001b[1;33m     \u001b[1;32mreturn\u001b[0m \u001b[0mmax\u001b[0m\u001b[1;33m(\u001b[0m\u001b[0mdata\u001b[0m\u001b[1;33m.\u001b[0m\u001b[0mvalue\u001b[0m\u001b[1;33m(\u001b[0m\u001b[1;33m)\u001b[0m\u001b[1;33m)\u001b[0m\u001b[1;33m\u001b[0m\u001b[1;33m\u001b[0m\u001b[0m\n\u001b[0m",
      "\u001b[1;31mAttributeError\u001b[0m: 'list' object has no attribute 'value'"
     ]
    }
   ],
   "source": [
    "test11 = ['a','b','c','a','b','a','d']\n",
    "most_frequent(test11)"
   ]
  },
  {
   "cell_type": "code",
   "execution_count": 82,
   "metadata": {},
   "outputs": [
    {
     "name": "stdout",
     "output_type": "stream",
     "text": [
      "['aa', 'bb', 'as', 'da', 'sd', 'qw', 'das', 'aa', 'bb', 'aa']\n"
     ]
    }
   ],
   "source": [
    "#(택영이 풀이)\n",
    "xyz = ['aa','bb','as','da','sd','qw','das','aa','bb','aa']\n",
    "xyz.count\n",
    "print(xyz)\n",
    "\n",
    "def most_frequent2(data):\n",
    "    count_list=[]\n",
    "    for x in data:\n",
    "        count_list.append(data.count(x))\n",
    "    return data[count_list.index(max(count_list))]\n",
    "\n",
    "#선생님 풀이\n",
    "def mest_frequent3(data):\n",
    "    return max(data, key=data.count)\n",
    "# max(data, key=data.count) == key를 끄집어내는데 기준이 무엇이냐\n",
    "# 언제나 함수의 기능을 살펴보자...(shift+tap)을 누르면 나오는데\n",
    "# 1, 2, 4번누르기에 따라 크기가 달라진다\n",
    "\n"
   ]
  },
  {
   "cell_type": "markdown",
   "metadata": {},
   "source": [
    "# 2020-11-12 coding_test"
   ]
  },
  {
   "cell_type": "markdown",
   "metadata": {},
   "source": [
    "- Camel형태의 문자열을 Snake 형으로 문자열을 변경하세요.\n",
    "- to_snake_case(text) 함수를 만들고 Camel형의 문자열이 들어오면 snake형으로 변경한다\n",
    "- 예_) to_snake_case('MyFunctionName') 호출되면 'my_function_name'로 출력"
   ]
  },
  {
   "cell_type": "code",
   "execution_count": 3,
   "metadata": {},
   "outputs": [],
   "source": [
    "# to_snake_case('MyFunctionName') => 'my_function_name'\n",
    "\n",
    "def to_snake_case(text):\n",
    "    pass\n",
    "'''\n",
    "\n",
    "지금 필요한 기능?\n",
    "join을 하는데 \"_\".join()\n",
    "맨 마지막에서야 text.lower() 하면 될거같고\n",
    "\n",
    "'''\n",
    "test = 'MyFunctionName'"
   ]
  },
  {
   "cell_type": "code",
   "execution_count": 23,
   "metadata": {},
   "outputs": [],
   "source": [
    "for i in test:\n",
    "#     print(i)\n",
    "    if i.isupper():\n",
    "        i.lower()"
   ]
  },
  {
   "cell_type": "code",
   "execution_count": 16,
   "metadata": {},
   "outputs": [
    {
     "data": {
      "text/plain": [
       "False"
      ]
     },
     "execution_count": 16,
     "metadata": {},
     "output_type": "execute_result"
    }
   ],
   "source": [
    "i.isupper()"
   ]
  },
  {
   "cell_type": "markdown",
   "metadata": {},
   "source": [
    "## 선생님 풀이"
   ]
  },
  {
   "cell_type": "code",
   "execution_count": 17,
   "metadata": {},
   "outputs": [],
   "source": [
    "# 제일 먼저 해야할것?\n",
    "abc = \"MyFunctionName\""
   ]
  },
  {
   "cell_type": "code",
   "execution_count": 27,
   "metadata": {},
   "outputs": [
    {
     "data": {
      "text/plain": [
       "'my_function_name'"
      ]
     },
     "execution_count": 27,
     "metadata": {},
     "output_type": "execute_result"
    }
   ],
   "source": [
    "xyz = abc\n",
    "for xx in xyz:\n",
    "    if xx.isupper():\n",
    "#         xx = xx.lower()\n",
    "        xyz = xyz.replace(xx,\"_\"+xx.lower())\n",
    "\n",
    "xyz.strip(\"_\")"
   ]
  },
  {
   "cell_type": "code",
   "execution_count": 35,
   "metadata": {},
   "outputs": [],
   "source": [
    "def to_snake_case1(data):\n",
    "    for letter in data:\n",
    "        if letter.isupper():\n",
    "            data=data.replace(letter, \"_\"+letter.lower())\n",
    "    return data.strip(\"_\")"
   ]
  },
  {
   "cell_type": "code",
   "execution_count": 36,
   "metadata": {},
   "outputs": [
    {
     "data": {
      "text/plain": [
       "'super_hard_coding'"
      ]
     },
     "execution_count": 36,
     "metadata": {},
     "output_type": "execute_result"
    }
   ],
   "source": [
    "abc = \"SuperHardCoding\"\n",
    "to_snake_case1(abc)"
   ]
  },
  {
   "cell_type": "code",
   "execution_count": 37,
   "metadata": {},
   "outputs": [],
   "source": [
    "xyz = \"ThisFunctionIsVeryFunny\""
   ]
  },
  {
   "cell_type": "code",
   "execution_count": 38,
   "metadata": {},
   "outputs": [
    {
     "data": {
      "text/plain": [
       "'this_function_is_very_funny'"
      ]
     },
     "execution_count": 38,
     "metadata": {},
     "output_type": "execute_result"
    }
   ],
   "source": [
    "to_snake_case1(xyz)"
   ]
  },
  {
   "cell_type": "code",
   "execution_count": 41,
   "metadata": {},
   "outputs": [
    {
     "data": {
      "text/plain": [
       "'This_Function_Is_Very_Funny'"
      ]
     },
     "execution_count": 41,
     "metadata": {},
     "output_type": "execute_result"
    }
   ],
   "source": [
    "to_snake_case1(xyz).title()\n",
    "#이것 또한 String이다"
   ]
  },
  {
   "cell_type": "code",
   "execution_count": 42,
   "metadata": {},
   "outputs": [
    {
     "data": {
      "text/plain": [
       "'ThisFunctionIsVeryFunny'"
      ]
     },
     "execution_count": 42,
     "metadata": {},
     "output_type": "execute_result"
    }
   ],
   "source": [
    "to_snake_case1(xyz).title().replace(\"_\", \"\")"
   ]
  },
  {
   "cell_type": "code",
   "execution_count": 43,
   "metadata": {},
   "outputs": [],
   "source": [
    "def to_camel_case(data):\n",
    "    return data.title().replace(\"_\",\"\")"
   ]
  },
  {
   "cell_type": "code",
   "execution_count": 45,
   "metadata": {},
   "outputs": [
    {
     "data": {
      "text/plain": [
       "'Superhardcoding'"
      ]
     },
     "execution_count": 45,
     "metadata": {},
     "output_type": "execute_result"
    }
   ],
   "source": [
    "test2='SuperHardCoding'\n",
    "to_camel_case(test2)"
   ]
  },
  {
   "cell_type": "code",
   "execution_count": 51,
   "metadata": {},
   "outputs": [
    {
     "name": "stdout",
     "output_type": "stream",
     "text": [
      "xyz :  ThisFunctionIsVeryFunny\n"
     ]
    },
    {
     "data": {
      "text/plain": [
       "'ThisFunctionIsVeryFunny'"
      ]
     },
     "execution_count": 51,
     "metadata": {},
     "output_type": "execute_result"
    }
   ],
   "source": [
    "print(\"xyz : \", xyz)\n",
    "to_camel_case(to_snake_case1(xyz))"
   ]
  },
  {
   "cell_type": "code",
   "execution_count": 52,
   "metadata": {},
   "outputs": [
    {
     "data": {
      "text/plain": [
       "'thisfunctionisveryfunny'"
      ]
     },
     "execution_count": 52,
     "metadata": {},
     "output_type": "execute_result"
    }
   ],
   "source": [
    "to_camel_case(to_snake_case1(xyz)).title().replace(\"_\",\"\").upper().lower()"
   ]
  },
  {
   "cell_type": "code",
   "execution_count": null,
   "metadata": {},
   "outputs": [],
   "source": [
    "#endwith 라는 함수가 있다 이걸 참고하시고\n",
    "capitalize 라는 함수가 있다"
   ]
  },
  {
   "cell_type": "code",
   "execution_count": 53,
   "metadata": {},
   "outputs": [],
   "source": [
    "sample_sentence = 'hello,everybody'"
   ]
  },
  {
   "cell_type": "code",
   "execution_count": 61,
   "metadata": {},
   "outputs": [
    {
     "data": {
      "text/plain": [
       "True"
      ]
     },
     "execution_count": 61,
     "metadata": {},
     "output_type": "execute_result"
    }
   ],
   "source": [
    "sample_sentence.capitalize().endswith(\"\")"
   ]
  },
  {
   "cell_type": "code",
   "execution_count": 70,
   "metadata": {},
   "outputs": [],
   "source": [
    "def fix_sentence(text):\n",
    "    if text.endswith(\"\"):\n",
    "        return text.capitalize() + \".\""
   ]
  },
  {
   "cell_type": "code",
   "execution_count": 71,
   "metadata": {},
   "outputs": [
    {
     "data": {
      "text/plain": [
       "'Hello,everybody.'"
      ]
     },
     "execution_count": 71,
     "metadata": {},
     "output_type": "execute_result"
    }
   ],
   "source": [
    "fix_sentence(sample_sentence)"
   ]
  },
  {
   "cell_type": "code",
   "execution_count": null,
   "metadata": {},
   "outputs": [],
   "source": []
  },
  {
   "cell_type": "code",
   "execution_count": null,
   "metadata": {},
   "outputs": [],
   "source": []
  }
 ],
 "metadata": {
  "kernelspec": {
   "display_name": "Python 3",
   "language": "python",
   "name": "python3"
  },
  "language_info": {
   "codemirror_mode": {
    "name": "ipython",
    "version": 3
   },
   "file_extension": ".py",
   "mimetype": "text/x-python",
   "name": "python",
   "nbconvert_exporter": "python",
   "pygments_lexer": "ipython3",
   "version": "3.8.3"
  }
 },
 "nbformat": 4,
 "nbformat_minor": 4
}
