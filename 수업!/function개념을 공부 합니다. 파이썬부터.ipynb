{
 "cells": [
  {
   "cell_type": "code",
   "execution_count": null,
   "metadata": {},
   "outputs": [],
   "source": [
    "x=1000\n",
    "def abc(x): # 여기의 x 는 함수밖에 선언된 x와는 다른것\n",
    "    x = x + 1\n",
    "    print(x)\n",
    "\n",
    "print(x)\n",
    "abc(x)\n",
    "abc(50)"
   ]
  },
  {
   "cell_type": "code",
   "execution_count": null,
   "metadata": {},
   "outputs": [],
   "source": [
    "x = 10\n",
    "def foo():\n",
    "    global x # x 를 ㄹㅇ 전역변수로 쓰고싶다 하면 이렇게 쓴다\n",
    "    print(x)\n",
    "\n",
    "foo()\n",
    "print(x)"
   ]
  },
  {
   "cell_type": "code",
   "execution_count": null,
   "metadata": {},
   "outputs": [],
   "source": [
    "\n",
    "def foo():\n",
    "    y = 10 # 이런걸 지역변수(Local Variable) 이라고 한다\n",
    "    print(y)\n",
    "\n",
    "foo()\n",
    "print(y)"
   ]
  },
  {
   "cell_type": "code",
   "execution_count": 1,
   "metadata": {},
   "outputs": [
    {
     "name": "stdout",
     "output_type": "stream",
     "text": [
      "20\n",
      "20\n"
     ]
    }
   ],
   "source": [
    "def foo():\n",
    "    global x\n",
    "    x = 20  #놀랍게도 에러가 안난다\n",
    "    print(x)\n",
    "\n",
    "foo()\n",
    "print(x)\n",
    "\n"
   ]
  },
  {
   "cell_type": "markdown",
   "metadata": {},
   "source": [
    "- 함수내에서 global을 선언해도\n",
    "- 밖에서 쓸수있는데 이것을\n",
    "- runtime stack 이라고 한다"
   ]
  },
  {
   "cell_type": "code",
   "execution_count": 2,
   "metadata": {},
   "outputs": [],
   "source": [
    "def A():\n",
    "    x=10 # A함수의 지역번수 x\n",
    "    def B():\n",
    "        x=20 # B함수의 지역변수 x\n",
    "    print(x)"
   ]
  },
  {
   "cell_type": "code",
   "execution_count": 3,
   "metadata": {},
   "outputs": [
    {
     "name": "stdout",
     "output_type": "stream",
     "text": [
      "10\n"
     ]
    }
   ],
   "source": [
    "A()"
   ]
  },
  {
   "cell_type": "code",
   "execution_count": 7,
   "metadata": {},
   "outputs": [],
   "source": [
    "x=1000\n",
    "def A():\n",
    "    a=10\n",
    "    def B():\n",
    "        nonlocal a\n",
    "        a=20\n",
    "    B()\n",
    "    print(a)\n",
    "    #여기까지가 함수라서 이것만가지고는 실행이 안된다"
   ]
  },
  {
   "cell_type": "code",
   "execution_count": 8,
   "metadata": {},
   "outputs": [
    {
     "name": "stdout",
     "output_type": "stream",
     "text": [
      "20\n",
      "1000\n"
     ]
    }
   ],
   "source": [
    "A()\n",
    "print(x)"
   ]
  },
  {
   "cell_type": "code",
   "execution_count": 9,
   "metadata": {},
   "outputs": [
    {
     "name": "stdout",
     "output_type": "stream",
     "text": [
      "Variable   Type        Data/Info\n",
      "--------------------------------\n",
      "A          function    <function A at 0x0000028BA1BD9C10>\n",
      "foo        function    <function foo at 0x0000028BA1BD9D30>\n",
      "x          int         1000\n"
     ]
    }
   ],
   "source": [
    "whos"
   ]
  },
  {
   "cell_type": "markdown",
   "metadata": {},
   "source": [
    "- nonlocal을 해도 main stack을 침범하지 않는다\n",
    "- whos로 검색해보면 선언된 변수중 a 는 없다"
   ]
  },
  {
   "cell_type": "code",
   "execution_count": 14,
   "metadata": {},
   "outputs": [],
   "source": [
    "def value_time(value, times=2):\n",
    "    print(times * value)"
   ]
  },
  {
   "cell_type": "code",
   "execution_count": 19,
   "metadata": {},
   "outputs": [
    {
     "name": "stdout",
     "output_type": "stream",
     "text": [
      "15\n"
     ]
    }
   ],
   "source": [
    "value_time(3,5)\n",
    "# positional 방식에 의해서 인자(arguments)가 호출되는것\n",
    "\n"
   ]
  },
  {
   "cell_type": "code",
   "execution_count": null,
   "metadata": {},
   "outputs": [],
   "source": [
    "value_time(times=10, value=5)\n",
    "# keyword 방식이라고 하고\n",
    "# 위치에 상관하지 않는다."
   ]
  },
  {
   "cell_type": "code",
   "execution_count": 16,
   "metadata": {},
   "outputs": [
    {
     "name": "stdout",
     "output_type": "stream",
     "text": [
      "6\n"
     ]
    }
   ],
   "source": [
    "value_time(3)"
   ]
  },
  {
   "cell_type": "code",
   "execution_count": 18,
   "metadata": {},
   "outputs": [
    {
     "ename": "SyntaxError",
     "evalue": "non-default argument follows default argument (<ipython-input-18-5f0841e67cf6>, line 1)",
     "output_type": "error",
     "traceback": [
      "\u001b[1;36m  File \u001b[1;32m\"<ipython-input-18-5f0841e67cf6>\"\u001b[1;36m, line \u001b[1;32m1\u001b[0m\n\u001b[1;33m    def value_time(times=2, value):\u001b[0m\n\u001b[1;37m                   ^\u001b[0m\n\u001b[1;31mSyntaxError\u001b[0m\u001b[1;31m:\u001b[0m non-default argument follows default argument\n"
     ]
    }
   ],
   "source": [
    "def value_time(times=2, value):\n",
    "    print(times * value)\n",
    "#파라미터에 변수를 넣는 이런\n",
    "# 리저브드 방식(=디폴트방식)은 맨 뒤에다 넣어야 오류가 안난다\n",
    "# (value, times=2) 이렇게 써야 한다\n",
    "\n",
    "# 반드시 reserved = 값세팅 할때는 맨 뒷자리에서 해줘야\n",
    "# 에러가 안난다."
   ]
  },
  {
   "cell_type": "code",
   "execution_count": 20,
   "metadata": {},
   "outputs": [],
   "source": [
    "def value_times(*values, times=2): # 가변인자 방식  == *args\n",
    "    for value in values:\n",
    "        print(value * times)"
   ]
  },
  {
   "cell_type": "code",
   "execution_count": 21,
   "metadata": {},
   "outputs": [
    {
     "name": "stdout",
     "output_type": "stream",
     "text": [
      "5\n",
      "10\n",
      "15\n",
      "20\n",
      "25\n",
      "30\n"
     ]
    }
   ],
   "source": [
    "value_times(1,2,3,4,5,6, times=5)"
   ]
  },
  {
   "cell_type": "code",
   "execution_count": 22,
   "metadata": {},
   "outputs": [],
   "source": [
    "def value_times(plus, value, times=2):\n",
    "    print(times*value+plus)"
   ]
  },
  {
   "cell_type": "code",
   "execution_count": 23,
   "metadata": {},
   "outputs": [
    {
     "name": "stdout",
     "output_type": "stream",
     "text": [
      "5\n",
      "7\n",
      "7\n",
      "7\n"
     ]
    }
   ],
   "source": [
    "value_times(1,2)\n",
    "value_times(1,2,3)\n",
    "value_times(1, value=2, times=3)\n",
    "value_times(value=2, times=3, plus=1)"
   ]
  },
  {
   "cell_type": "code",
   "execution_count": null,
   "metadata": {},
   "outputs": [],
   "source": []
  }
 ],
 "metadata": {
  "kernelspec": {
   "display_name": "Python 3",
   "language": "python",
   "name": "python3"
  },
  "language_info": {
   "codemirror_mode": {
    "name": "ipython",
    "version": 3
   },
   "file_extension": ".py",
   "mimetype": "text/x-python",
   "name": "python",
   "nbconvert_exporter": "python",
   "pygments_lexer": "ipython3",
   "version": "3.8.3"
  }
 },
 "nbformat": 4,
 "nbformat_minor": 4
}
