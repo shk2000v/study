{
 "cells": [
  {
   "cell_type": "code",
   "execution_count": 1,
   "metadata": {},
   "outputs": [],
   "source": [
    "import numpy as np\n",
    "from scipy import stats       # 통계에 관한 라이브러리(왠만한건 다 있다)\n"
   ]
  },
  {
   "cell_type": "code",
   "execution_count": 2,
   "metadata": {},
   "outputs": [],
   "source": [
    "np.random.seed(0)"
   ]
  },
  {
   "cell_type": "code",
   "execution_count": 16,
   "metadata": {},
   "outputs": [
    {
     "name": "stdout",
     "output_type": "stream",
     "text": [
      "평균= 49.17\n",
      "중앙값= 49.0\n",
      "최빈값= 3\n",
      "최빈값의 출현한 횟수는= 125\n"
     ]
    }
   ],
   "source": [
    "np.random.seed(0)\n",
    "data=np.random.randint(0,100, 10000)\n",
    "mean = np.mean(data) ; print('평균=', mean.round(2))\n",
    "median = np.median(data) ; print('중앙값=', median)\n",
    "\n",
    "# stats.mode(data)\n",
    "print('최빈값=', stats.mode(data).mode[0])\n",
    "print('최빈값의 출현한 횟수는=', stats.mode(data).count[0])"
   ]
  },
  {
   "cell_type": "code",
   "execution_count": 13,
   "metadata": {},
   "outputs": [],
   "source": [
    "a, b = stats.mode(data)"
   ]
  },
  {
   "cell_type": "code",
   "execution_count": 14,
   "metadata": {},
   "outputs": [
    {
     "data": {
      "text/plain": [
       "(array([3]), array([125]))"
      ]
     },
     "execution_count": 14,
     "metadata": {},
     "output_type": "execute_result"
    }
   ],
   "source": [
    "a , b"
   ]
  },
  {
   "cell_type": "code",
   "execution_count": 17,
   "metadata": {},
   "outputs": [],
   "source": [
    "# mode라는 말이 나오면 그것은 최빈값이다"
   ]
  },
  {
   "cell_type": "code",
   "execution_count": 18,
   "metadata": {},
   "outputs": [],
   "source": [
    "temp= [7,7,7,7,7,8,2,5,1,6,4,8,4,9]"
   ]
  },
  {
   "cell_type": "code",
   "execution_count": 20,
   "metadata": {},
   "outputs": [
    {
     "name": "stdout",
     "output_type": "stream",
     "text": [
      "평균= 5.86\n",
      "중앙값= 7.0\n",
      "최빈값= 7\n",
      "최빈값의 출현한 횟수는= 5\n"
     ]
    }
   ],
   "source": [
    "mean = np.mean(temp) ; print('평균=', mean.round(2))\n",
    "median = np.median(temp) ; print('중앙값=', median)\n",
    "\n",
    "# stats.mode(temp)\n",
    "print('최빈값=', stats.mode(temp).mode[0])\n",
    "print('최빈값의 출현한 횟수는=', stats.mode(temp).count[0])"
   ]
  },
  {
   "cell_type": "code",
   "execution_count": 21,
   "metadata": {},
   "outputs": [],
   "source": [
    "a= np.array([[1,2,3,4,5,6,7,8,9,10]])"
   ]
  },
  {
   "cell_type": "code",
   "execution_count": 22,
   "metadata": {},
   "outputs": [
    {
     "data": {
      "text/plain": [
       "array([[ 1,  2,  3,  4,  5,  6,  7,  8,  9, 10]])"
      ]
     },
     "execution_count": 22,
     "metadata": {},
     "output_type": "execute_result"
    }
   ],
   "source": [
    "a"
   ]
  },
  {
   "cell_type": "code",
   "execution_count": 23,
   "metadata": {},
   "outputs": [
    {
     "data": {
      "text/plain": [
       "1.0"
      ]
     },
     "execution_count": 23,
     "metadata": {},
     "output_type": "execute_result"
    }
   ],
   "source": [
    "np.percentile(a,0)"
   ]
  },
  {
   "cell_type": "code",
   "execution_count": 24,
   "metadata": {},
   "outputs": [
    {
     "data": {
      "text/plain": [
       "3.25"
      ]
     },
     "execution_count": 24,
     "metadata": {},
     "output_type": "execute_result"
    }
   ],
   "source": [
    "np.percentile(a,25) # a에서 25%에 해당하는 정도"
   ]
  },
  {
   "cell_type": "code",
   "execution_count": 25,
   "metadata": {},
   "outputs": [],
   "source": [
    "a = np.array(a)"
   ]
  },
  {
   "cell_type": "code",
   "execution_count": 27,
   "metadata": {},
   "outputs": [
    {
     "data": {
      "text/plain": [
       "1.0"
      ]
     },
     "execution_count": 27,
     "metadata": {},
     "output_type": "execute_result"
    }
   ],
   "source": [
    "np.percentile(a,0)"
   ]
  },
  {
   "cell_type": "code",
   "execution_count": 28,
   "metadata": {},
   "outputs": [
    {
     "data": {
      "text/plain": [
       "3.25"
      ]
     },
     "execution_count": 28,
     "metadata": {},
     "output_type": "execute_result"
    }
   ],
   "source": [
    "np.percentile(a,25)"
   ]
  },
  {
   "cell_type": "code",
   "execution_count": 29,
   "metadata": {},
   "outputs": [],
   "source": [
    "import random\n",
    "a = [random.randint(1,51) for xx in range(1,101)]"
   ]
  },
  {
   "cell_type": "code",
   "execution_count": 30,
   "metadata": {},
   "outputs": [],
   "source": [
    "a = np.array(a)"
   ]
  },
  {
   "cell_type": "code",
   "execution_count": 31,
   "metadata": {},
   "outputs": [
    {
     "data": {
      "text/plain": [
       "array([23, 37, 28,  3, 17, 50, 23, 25,  2, 32, 30, 26, 30,  4,  6, 10, 27,\n",
       "       17, 41, 45, 18, 27, 42, 21, 47, 17,  9, 33, 25, 51, 41, 10, 33, 39,\n",
       "       36, 45, 44, 42, 47,  4, 30, 50, 22, 26, 48, 28, 49, 24,  6, 44, 22,\n",
       "       28, 22, 11, 10, 25, 16, 33, 10, 18, 33, 14, 40, 10, 19, 38, 44, 39,\n",
       "       48, 13, 21, 48, 11, 15, 23,  8, 50, 39, 51, 16,  6, 33,  7,  1, 28,\n",
       "       26,  3,  3, 25, 47, 21, 30, 26, 48, 36,  7, 18,  4, 20, 48])"
      ]
     },
     "execution_count": 31,
     "metadata": {},
     "output_type": "execute_result"
    }
   ],
   "source": [
    "a"
   ]
  },
  {
   "cell_type": "code",
   "execution_count": 32,
   "metadata": {},
   "outputs": [
    {
     "data": {
      "text/plain": [
       "1.0"
      ]
     },
     "execution_count": 32,
     "metadata": {},
     "output_type": "execute_result"
    }
   ],
   "source": [
    "np.percentile(a,0)"
   ]
  },
  {
   "cell_type": "code",
   "execution_count": 33,
   "metadata": {},
   "outputs": [
    {
     "data": {
      "text/plain": [
       "15.75"
      ]
     },
     "execution_count": 33,
     "metadata": {},
     "output_type": "execute_result"
    }
   ],
   "source": [
    "np.percentile(a,25)"
   ]
  },
  {
   "cell_type": "code",
   "execution_count": 34,
   "metadata": {},
   "outputs": [
    {
     "data": {
      "text/plain": [
       "26.0"
      ]
     },
     "execution_count": 34,
     "metadata": {},
     "output_type": "execute_result"
    }
   ],
   "source": [
    "np.percentile(a,50)"
   ]
  },
  {
   "cell_type": "code",
   "execution_count": 35,
   "metadata": {},
   "outputs": [
    {
     "data": {
      "text/plain": [
       "39.0"
      ]
     },
     "execution_count": 35,
     "metadata": {},
     "output_type": "execute_result"
    }
   ],
   "source": [
    "np.percentile(a,75)"
   ]
  },
  {
   "cell_type": "code",
   "execution_count": 36,
   "metadata": {},
   "outputs": [
    {
     "data": {
      "text/plain": [
       "15.75"
      ]
     },
     "execution_count": 36,
     "metadata": {},
     "output_type": "execute_result"
    }
   ],
   "source": [
    "np.percentile(a,25)"
   ]
  },
  {
   "cell_type": "code",
   "execution_count": 37,
   "metadata": {},
   "outputs": [],
   "source": [
    "IQR = np.percentile(a,75) - np.percentile(a,25)"
   ]
  },
  {
   "cell_type": "code",
   "execution_count": 38,
   "metadata": {},
   "outputs": [
    {
     "data": {
      "text/plain": [
       "23.25"
      ]
     },
     "execution_count": 38,
     "metadata": {},
     "output_type": "execute_result"
    }
   ],
   "source": [
    "IQR"
   ]
  },
  {
   "cell_type": "code",
   "execution_count": 39,
   "metadata": {},
   "outputs": [
    {
     "data": {
      "text/plain": [
       "99.30000000000001"
      ]
     },
     "execution_count": 39,
     "metadata": {},
     "output_type": "execute_result"
    }
   ],
   "source": [
    "50+24.65+24.65"
   ]
  },
  {
   "cell_type": "markdown",
   "metadata": {},
   "source": [
    "# 파이썬 라이브러리를 이용한 분산, 표준편차 , 범위, 사분위수, IQR 구하기"
   ]
  },
  {
   "cell_type": "code",
   "execution_count": 46,
   "metadata": {},
   "outputs": [
    {
     "name": "stdout",
     "output_type": "stream",
     "text": [
      "분산:  821\n",
      "표준편차:  28.65\n",
      "범위:  range(0, 99)\n",
      "사분위수 : \n",
      "0% => 0.0\n",
      "25% => 24.0\n",
      "50% => 48.0\n",
      "75% => 72.25\n",
      "100% => 99.0\n",
      "IQR:  48.25\n"
     ]
    }
   ],
   "source": [
    "import numpy as np\n",
    "from statistics import variance, stdev\n",
    "\n",
    "np.random.seed(0)\n",
    "\n",
    "points = np.random.randint(0,100,200)\n",
    "var = variance(points) ; print(\"분산: \", var)\n",
    "std = stdev(points); print(\"표준편차: \", np.round(std,2))\n",
    "Range = np.max(points) - np.min(points) ; print(\"범위: \", range(Range))\n",
    "print('사분위수 : ')\n",
    "for val in [0,25,50,75,100]:\n",
    "    quantile = np.percentile(points, val)\n",
    "    print(\"{}% => {}\".format(val, quantile))\n",
    "\n",
    "        \n",
    "q1, q3 = np.percentile(points, [25,75])\n",
    "print(\"IQR: \", q3 - q1)"
   ]
  },
  {
   "cell_type": "code",
   "execution_count": 47,
   "metadata": {},
   "outputs": [
    {
     "name": "stdout",
     "output_type": "stream",
     "text": [
      "검정통게량 =  -3.38\n"
     ]
    }
   ],
   "source": [
    "from scipy import stats\n",
    "x_bar , mu, sigma, n = 196, 200, 5.3 , 20\n",
    "\n",
    "t_sample = (x_bar-mu) / (sigma/np.sqrt(float(n)))\n",
    "print(\"검정통게량 = \", np.round(t_sample, 2))"
   ]
  },
  {
   "cell_type": "code",
   "execution_count": 50,
   "metadata": {},
   "outputs": [
    {
     "name": "stdout",
     "output_type": "stream",
     "text": [
      "t-table로 부터 임계값 = -1.729\n"
     ]
    }
   ],
   "source": [
    "alpha = 0.05\n",
    "t_alpha = stats.t.ppf(alpha, n-1) # n-1은 자유도\n",
    "print('t-table로 부터 임계값 =', np.round(t_alpha,3))"
   ]
  },
  {
   "cell_type": "code",
   "execution_count": 49,
   "metadata": {},
   "outputs": [
    {
     "name": "stdout",
     "output_type": "stream",
     "text": [
      "t-table의 아랫쪽 꼬리값 p 값 =  0.0016\n"
     ]
    }
   ],
   "source": [
    "p_val = stats.t.sf(np.abs(t_sample),n-1)\n",
    "print('t-table의 아랫쪽 꼬리값 p 값 = ', np.round(p_val, 4))"
   ]
  },
  {
   "cell_type": "code",
   "execution_count": 51,
   "metadata": {},
   "outputs": [
    {
     "name": "stdout",
     "output_type": "stream",
     "text": [
      "z-score :  1.4\n",
      "학생이 75점 이상 받을 확률 : 8.12\n"
     ]
    }
   ],
   "source": [
    "x_bar , mu, sigma = 75,56,13.6\n",
    "\n",
    "z = (x_bar - mu) / sigma\n",
    "print(\"z-score : \", np.round(z,2))\n",
    "\n",
    "p_val = 1 - stats.norm.cdf(z)\n",
    "print(\"학생이 {}점 이상 받을 확률 : {}\".format(x_bar, np.round(p_val * 100, 2)))"
   ]
  },
  {
   "cell_type": "code",
   "execution_count": null,
   "metadata": {},
   "outputs": [],
   "source": []
  }
 ],
 "metadata": {
  "kernelspec": {
   "display_name": "Python 3",
   "language": "python",
   "name": "python3"
  },
  "language_info": {
   "codemirror_mode": {
    "name": "ipython",
    "version": 3
   },
   "file_extension": ".py",
   "mimetype": "text/x-python",
   "name": "python",
   "nbconvert_exporter": "python",
   "pygments_lexer": "ipython3",
   "version": "3.8.3"
  }
 },
 "nbformat": 4,
 "nbformat_minor": 4
}
