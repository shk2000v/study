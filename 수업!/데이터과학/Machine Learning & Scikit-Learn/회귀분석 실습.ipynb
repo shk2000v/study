{
 "cells": [
  {
   "cell_type": "markdown",
   "metadata": {},
   "source": [
    "실습데이터 LinearRegression_data.csv 읽어들여서\n",
    "LinearRegression처리한후에 기울기값과 절편을 구해보자\n",
    "\n",
    "그리고 관련 그래프를 좀전에 그렸던 그래프를 완성해보자"
   ]
  },
  {
   "cell_type": "code",
   "execution_count": 30,
   "metadata": {},
   "outputs": [],
   "source": [
    "import numpy as np\n",
    "import pandas as pd\n",
    "import numpy.linalg as lin\n",
    "import matplotlib.pyplot as plt"
   ]
  },
  {
   "cell_type": "code",
   "execution_count": 31,
   "metadata": {},
   "outputs": [],
   "source": [
    "from sklearn.linear_model import LinearRegression"
   ]
  },
  {
   "cell_type": "code",
   "execution_count": 32,
   "metadata": {},
   "outputs": [],
   "source": [
    "LRmodel = LinearRegression()"
   ]
  },
  {
   "cell_type": "code",
   "execution_count": 33,
   "metadata": {},
   "outputs": [],
   "source": [
    "data = pd.read_csv(\"LinearRegression_data.csv\", encoding='cp949')"
   ]
  },
  {
   "cell_type": "code",
   "execution_count": 34,
   "metadata": {},
   "outputs": [
    {
     "data": {
      "text/html": [
       "<div>\n",
       "<style scoped>\n",
       "    .dataframe tbody tr th:only-of-type {\n",
       "        vertical-align: middle;\n",
       "    }\n",
       "\n",
       "    .dataframe tbody tr th {\n",
       "        vertical-align: top;\n",
       "    }\n",
       "\n",
       "    .dataframe thead th {\n",
       "        text-align: right;\n",
       "    }\n",
       "</style>\n",
       "<table border=\"1\" class=\"dataframe\">\n",
       "  <thead>\n",
       "    <tr style=\"text-align: right;\">\n",
       "      <th></th>\n",
       "      <th>X</th>\n",
       "      <th>y</th>\n",
       "    </tr>\n",
       "  </thead>\n",
       "  <tbody>\n",
       "    <tr>\n",
       "      <th>0</th>\n",
       "      <td>0.056768</td>\n",
       "      <td>-1.241088</td>\n",
       "    </tr>\n",
       "    <tr>\n",
       "      <th>1</th>\n",
       "      <td>2.343303</td>\n",
       "      <td>4.055238</td>\n",
       "    </tr>\n",
       "    <tr>\n",
       "      <th>2</th>\n",
       "      <td>0.281516</td>\n",
       "      <td>-2.401891</td>\n",
       "    </tr>\n",
       "    <tr>\n",
       "      <th>3</th>\n",
       "      <td>0.594090</td>\n",
       "      <td>-0.125769</td>\n",
       "    </tr>\n",
       "    <tr>\n",
       "      <th>4</th>\n",
       "      <td>0.587631</td>\n",
       "      <td>0.233687</td>\n",
       "    </tr>\n",
       "    <tr>\n",
       "      <th>...</th>\n",
       "      <td>...</td>\n",
       "      <td>...</td>\n",
       "    </tr>\n",
       "    <tr>\n",
       "      <th>95</th>\n",
       "      <td>4.260908</td>\n",
       "      <td>7.273202</td>\n",
       "    </tr>\n",
       "    <tr>\n",
       "      <th>96</th>\n",
       "      <td>2.759534</td>\n",
       "      <td>1.849663</td>\n",
       "    </tr>\n",
       "    <tr>\n",
       "      <th>97</th>\n",
       "      <td>2.804690</td>\n",
       "      <td>4.152740</td>\n",
       "    </tr>\n",
       "    <tr>\n",
       "      <th>98</th>\n",
       "      <td>4.383268</td>\n",
       "      <td>6.103912</td>\n",
       "    </tr>\n",
       "    <tr>\n",
       "      <th>99</th>\n",
       "      <td>2.017414</td>\n",
       "      <td>2.605427</td>\n",
       "    </tr>\n",
       "  </tbody>\n",
       "</table>\n",
       "<p>100 rows × 2 columns</p>\n",
       "</div>"
      ],
      "text/plain": [
       "           X         y\n",
       "0   0.056768 -1.241088\n",
       "1   2.343303  4.055238\n",
       "2   0.281516 -2.401891\n",
       "3   0.594090 -0.125769\n",
       "4   0.587631  0.233687\n",
       "..       ...       ...\n",
       "95  4.260908  7.273202\n",
       "96  2.759534  1.849663\n",
       "97  2.804690  4.152740\n",
       "98  4.383268  6.103912\n",
       "99  2.017414  2.605427\n",
       "\n",
       "[100 rows x 2 columns]"
      ]
     },
     "execution_count": 34,
     "metadata": {},
     "output_type": "execute_result"
    }
   ],
   "source": [
    "data"
   ]
  },
  {
   "cell_type": "code",
   "execution_count": 35,
   "metadata": {},
   "outputs": [],
   "source": [
    "X = data['X']"
   ]
  },
  {
   "cell_type": "code",
   "execution_count": 38,
   "metadata": {},
   "outputs": [],
   "source": [
    "y = data['y']"
   ]
  },
  {
   "cell_type": "code",
   "execution_count": 39,
   "metadata": {},
   "outputs": [],
   "source": [
    "X = np.array(data['X'])"
   ]
  },
  {
   "cell_type": "code",
   "execution_count": 42,
   "metadata": {},
   "outputs": [],
   "source": [
    "y = np.array(data['y'])"
   ]
  },
  {
   "cell_type": "code",
   "execution_count": 43,
   "metadata": {},
   "outputs": [
    {
     "data": {
      "text/plain": [
       "array([-1.2410876 ,  4.05523798, -2.4018907 , -0.12576938,  0.23368695,\n",
       "        2.73336353,  4.27719028,  1.79445547,  7.35231865,  2.46624805,\n",
       "        2.35947791,  6.76008606,  1.86457393,  6.25212394, -3.58183769,\n",
       "        7.64324057, -1.18433543,  6.87873639,  1.20956899,  7.84052792,\n",
       "       -2.56650385,  4.20821539,  8.0596236 ,  2.29109866,  3.78011946,\n",
       "        3.89827337,  2.48273155,  5.23072312,  2.85741707,  7.51562662,\n",
       "       -2.07579381,  0.01675906,  7.39708448,  5.86739552,  2.00291822,\n",
       "        3.00344809,  2.73853696, -0.08352485,  1.93725854,  1.74750219,\n",
       "        3.72423307, -1.44362323,  8.35811478,  8.61961515,  4.45111599,\n",
       "        2.78514542,  0.82022447,  3.83602903,  3.33212066,  0.99304366,\n",
       "        8.75423956,  5.97633639,  8.0745561 ,  5.56844524,  7.21303277,\n",
       "        3.30200527,  7.19936724,  5.70509845, -3.15425962, -1.53286662,\n",
       "        1.00828292,  4.6832796 ,  7.22618841, -1.57737909,  5.62844879,\n",
       "        2.69054832,  7.69117134,  7.90113337,  6.46065535,  1.8256474 ,\n",
       "        3.6713191 ,  1.27298076, -2.47349119,  6.45688508,  5.25339184,\n",
       "        6.614377  ,  8.89254592,  5.4637337 ,  4.29130658,  8.01062654,\n",
       "        5.84583134, -0.01364437,  1.91304743, -1.57239662,  7.5890319 ,\n",
       "        3.23079623,  0.55688488,  4.66676873,  3.94233436,  0.67406352,\n",
       "       -1.44119541,  5.47112318,  3.7039942 ,  4.74562867,  3.30096732,\n",
       "        7.27320213,  1.84966311,  4.15273991,  6.10391227,  2.60542733])"
      ]
     },
     "execution_count": 43,
     "metadata": {},
     "output_type": "execute_result"
    }
   ],
   "source": [
    "y"
   ]
  },
  {
   "cell_type": "code",
   "execution_count": 44,
   "metadata": {},
   "outputs": [
    {
     "data": {
      "text/plain": [
       "(100,)"
      ]
     },
     "execution_count": 44,
     "metadata": {},
     "output_type": "execute_result"
    }
   ],
   "source": [
    "X.shape"
   ]
  },
  {
   "cell_type": "code",
   "execution_count": 45,
   "metadata": {},
   "outputs": [],
   "source": [
    "X = X.reshape(100,1)"
   ]
  },
  {
   "cell_type": "code",
   "execution_count": 46,
   "metadata": {},
   "outputs": [
    {
     "data": {
      "text/plain": [
       "(100, 1)"
      ]
     },
     "execution_count": 46,
     "metadata": {},
     "output_type": "execute_result"
    }
   ],
   "source": [
    "X.shape"
   ]
  },
  {
   "cell_type": "code",
   "execution_count": 47,
   "metadata": {},
   "outputs": [
    {
     "data": {
      "text/plain": [
       "LinearRegression()"
      ]
     },
     "execution_count": 47,
     "metadata": {},
     "output_type": "execute_result"
    }
   ],
   "source": [
    "LRmodel.fit(X,y)"
   ]
  },
  {
   "cell_type": "code",
   "execution_count": 48,
   "metadata": {},
   "outputs": [
    {
     "data": {
      "text/plain": [
       "array([1.98439232])"
      ]
     },
     "execution_count": 48,
     "metadata": {},
     "output_type": "execute_result"
    }
   ],
   "source": [
    "LRmodel.coef_"
   ]
  },
  {
   "cell_type": "code",
   "execution_count": 49,
   "metadata": {},
   "outputs": [
    {
     "data": {
      "text/plain": [
       "-2.079739099935778"
      ]
     },
     "execution_count": 49,
     "metadata": {},
     "output_type": "execute_result"
    }
   ],
   "source": [
    "LRmodel.intercept_"
   ]
  },
  {
   "cell_type": "code",
   "execution_count": 62,
   "metadata": {},
   "outputs": [
    {
     "data": {
      "text/plain": [
       "array([-1.        , -0.93939394, -0.87878788, -0.81818182, -0.75757576,\n",
       "       -0.6969697 , -0.63636364, -0.57575758, -0.51515152, -0.45454545,\n",
       "       -0.39393939, -0.33333333, -0.27272727, -0.21212121, -0.15151515,\n",
       "       -0.09090909, -0.03030303,  0.03030303,  0.09090909,  0.15151515,\n",
       "        0.21212121,  0.27272727,  0.33333333,  0.39393939,  0.45454545,\n",
       "        0.51515152,  0.57575758,  0.63636364,  0.6969697 ,  0.75757576,\n",
       "        0.81818182,  0.87878788,  0.93939394,  1.        ,  1.06060606,\n",
       "        1.12121212,  1.18181818,  1.24242424,  1.3030303 ,  1.36363636,\n",
       "        1.42424242,  1.48484848,  1.54545455,  1.60606061,  1.66666667,\n",
       "        1.72727273,  1.78787879,  1.84848485,  1.90909091,  1.96969697,\n",
       "        2.03030303,  2.09090909,  2.15151515,  2.21212121,  2.27272727,\n",
       "        2.33333333,  2.39393939,  2.45454545,  2.51515152,  2.57575758,\n",
       "        2.63636364,  2.6969697 ,  2.75757576,  2.81818182,  2.87878788,\n",
       "        2.93939394,  3.        ,  3.06060606,  3.12121212,  3.18181818,\n",
       "        3.24242424,  3.3030303 ,  3.36363636,  3.42424242,  3.48484848,\n",
       "        3.54545455,  3.60606061,  3.66666667,  3.72727273,  3.78787879,\n",
       "        3.84848485,  3.90909091,  3.96969697,  4.03030303,  4.09090909,\n",
       "        4.15151515,  4.21212121,  4.27272727,  4.33333333,  4.39393939,\n",
       "        4.45454545,  4.51515152,  4.57575758,  4.63636364,  4.6969697 ,\n",
       "        4.75757576,  4.81818182,  4.87878788,  4.93939394,  5.        ])"
      ]
     },
     "execution_count": 62,
     "metadata": {},
     "output_type": "execute_result"
    }
   ],
   "source": [
    "xtest = np.linspace(-1,5,100)\n",
    "xtest"
   ]
  },
  {
   "cell_type": "code",
   "execution_count": 51,
   "metadata": {},
   "outputs": [
    {
     "data": {
      "text/plain": [
       "(100,)"
      ]
     },
     "execution_count": 51,
     "metadata": {},
     "output_type": "execute_result"
    }
   ],
   "source": [
    "xtest.shape"
   ]
  },
  {
   "cell_type": "code",
   "execution_count": 52,
   "metadata": {
    "scrolled": true
   },
   "outputs": [],
   "source": [
    "xtest = xtest.reshape(100,1)"
   ]
  },
  {
   "cell_type": "code",
   "execution_count": 53,
   "metadata": {},
   "outputs": [
    {
     "data": {
      "text/plain": [
       "(100, 1)"
      ]
     },
     "execution_count": 53,
     "metadata": {},
     "output_type": "execute_result"
    }
   ],
   "source": [
    "xtest.shape"
   ]
  },
  {
   "cell_type": "code",
   "execution_count": 54,
   "metadata": {},
   "outputs": [],
   "source": [
    "predicted_y = LRmodel.predict(xtest)"
   ]
  },
  {
   "cell_type": "code",
   "execution_count": 56,
   "metadata": {},
   "outputs": [
    {
     "data": {
      "text/plain": [
       "array([-4.06413142, -3.94386522, -3.82359902, -3.70333282, -3.58306662,\n",
       "       -3.46280041, -3.34253421, -3.22226801, -3.10200181, -2.98173561,\n",
       "       -2.86146941, -2.74120321, -2.62093701, -2.5006708 , -2.3804046 ,\n",
       "       -2.2601384 , -2.1398722 , -2.019606  , -1.8993398 , -1.7790736 ,\n",
       "       -1.6588074 , -1.53854119, -1.41827499, -1.29800879, -1.17774259,\n",
       "       -1.05747639, -0.93721019, -0.81694399, -0.69667779, -0.57641158,\n",
       "       -0.45614538, -0.33587918, -0.21561298, -0.09534678,  0.02491942,\n",
       "        0.14518562,  0.26545182,  0.38571803,  0.50598423,  0.62625043,\n",
       "        0.74651663,  0.86678283,  0.98704903,  1.10731523,  1.22758143,\n",
       "        1.34784764,  1.46811384,  1.58838004,  1.70864624,  1.82891244,\n",
       "        1.94917864,  2.06944484,  2.18971104,  2.30997725,  2.43024345,\n",
       "        2.55050965,  2.67077585,  2.79104205,  2.91130825,  3.03157445,\n",
       "        3.15184065,  3.27210686,  3.39237306,  3.51263926,  3.63290546,\n",
       "        3.75317166,  3.87343786,  3.99370406,  4.11397026,  4.23423647,\n",
       "        4.35450267,  4.47476887,  4.59503507,  4.71530127,  4.83556747,\n",
       "        4.95583367,  5.07609987,  5.19636608,  5.31663228,  5.43689848,\n",
       "        5.55716468,  5.67743088,  5.79769708,  5.91796328,  6.03822948,\n",
       "        6.15849569,  6.27876189,  6.39902809,  6.51929429,  6.63956049,\n",
       "        6.75982669,  6.88009289,  7.00035909,  7.1206253 ,  7.2408915 ,\n",
       "        7.3611577 ,  7.4814239 ,  7.6016901 ,  7.7219563 ,  7.8422225 ])"
      ]
     },
     "execution_count": 56,
     "metadata": {},
     "output_type": "execute_result"
    }
   ],
   "source": [
    "predicted_y"
   ]
  },
  {
   "cell_type": "code",
   "execution_count": 55,
   "metadata": {},
   "outputs": [
    {
     "data": {
      "text/plain": [
       "array([-1.2410876 ,  4.05523798, -2.4018907 , -0.12576938,  0.23368695,\n",
       "        2.73336353,  4.27719028,  1.79445547,  7.35231865,  2.46624805,\n",
       "        2.35947791,  6.76008606,  1.86457393,  6.25212394, -3.58183769,\n",
       "        7.64324057, -1.18433543,  6.87873639,  1.20956899,  7.84052792,\n",
       "       -2.56650385,  4.20821539,  8.0596236 ,  2.29109866,  3.78011946,\n",
       "        3.89827337,  2.48273155,  5.23072312,  2.85741707,  7.51562662,\n",
       "       -2.07579381,  0.01675906,  7.39708448,  5.86739552,  2.00291822,\n",
       "        3.00344809,  2.73853696, -0.08352485,  1.93725854,  1.74750219,\n",
       "        3.72423307, -1.44362323,  8.35811478,  8.61961515,  4.45111599,\n",
       "        2.78514542,  0.82022447,  3.83602903,  3.33212066,  0.99304366,\n",
       "        8.75423956,  5.97633639,  8.0745561 ,  5.56844524,  7.21303277,\n",
       "        3.30200527,  7.19936724,  5.70509845, -3.15425962, -1.53286662,\n",
       "        1.00828292,  4.6832796 ,  7.22618841, -1.57737909,  5.62844879,\n",
       "        2.69054832,  7.69117134,  7.90113337,  6.46065535,  1.8256474 ,\n",
       "        3.6713191 ,  1.27298076, -2.47349119,  6.45688508,  5.25339184,\n",
       "        6.614377  ,  8.89254592,  5.4637337 ,  4.29130658,  8.01062654,\n",
       "        5.84583134, -0.01364437,  1.91304743, -1.57239662,  7.5890319 ,\n",
       "        3.23079623,  0.55688488,  4.66676873,  3.94233436,  0.67406352,\n",
       "       -1.44119541,  5.47112318,  3.7039942 ,  4.74562867,  3.30096732,\n",
       "        7.27320213,  1.84966311,  4.15273991,  6.10391227,  2.60542733])"
      ]
     },
     "execution_count": 55,
     "metadata": {},
     "output_type": "execute_result"
    }
   ],
   "source": [
    "y"
   ]
  },
  {
   "cell_type": "code",
   "execution_count": 61,
   "metadata": {},
   "outputs": [
    {
     "data": {
      "text/plain": [
       "[<matplotlib.lines.Line2D at 0x26697de3730>]"
      ]
     },
     "execution_count": 61,
     "metadata": {},
     "output_type": "execute_result"
    },
    {
     "data": {
      "image/png": "[encoded data removed]",
      "text/plain": [
       "<Figure size 432x288 with 1 Axes>"
      ]
     },
     "metadata": {
      "needs_background": "light"
     },
     "output_type": "display_data"
    }
   ],
   "source": [
    "plt.scatter(X,y)\n",
    "plt.plot(xtest,predicted_y, c='y')"
   ]
  },
  {
   "cell_type": "code",
   "execution_count": 60,
   "metadata": {},
   "outputs": [
    {
     "name": "stdout",
     "output_type": "stream",
     "text": [
      "기울기값 =  [1.98439232]\n",
      "절편값 =  -2.079739099935778\n"
     ]
    }
   ],
   "source": [
    "print(\"기울기값 = \",LRmodel.coef_)\n",
    "print(\"절편값 = \", LRmodel.intercept_)"
   ]
  },
  {
   "cell_type": "code",
   "execution_count": null,
   "metadata": {},
   "outputs": [],
   "source": []
  }
 ],
 "metadata": {
  "kernelspec": {
   "display_name": "Python 3",
   "language": "python",
   "name": "python3"
  },
  "language_info": {
   "codemirror_mode": {
    "name": "ipython",
    "version": 3
   },
   "file_extension": ".py",
   "mimetype": "text/x-python",
   "name": "python",
   "nbconvert_exporter": "python",
   "pygments_lexer": "ipython3",
   "version": "3.8.3"
  }
 },
 "nbformat": 4,
 "nbformat_minor": 4
}
